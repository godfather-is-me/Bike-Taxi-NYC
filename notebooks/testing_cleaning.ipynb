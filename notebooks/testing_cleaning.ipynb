{
 "cells": [
  {
   "cell_type": "code",
   "execution_count": 10,
   "metadata": {},
   "outputs": [],
   "source": [
    "import pandas as pd\n",
    "import numpy as np\n",
    "\n",
    "from pyspark.sql import SparkSession\n",
    "from pyspark.sql.functions import isnan, count, collect_list"
   ]
  },
  {
   "cell_type": "code",
   "execution_count": 3,
   "metadata": {},
   "outputs": [
    {
     "name": "stdout",
     "output_type": "stream",
     "text": [
      "22/08/17 16:25:53 WARN Utils: Your hostname, J-L resolves to a loopback address: 127.0.1.1; using 192.168.34.91 instead (on interface eth0)\n",
      "22/08/17 16:25:53 WARN Utils: Set SPARK_LOCAL_IP if you need to bind to another address\n"
     ]
    },
    {
     "name": "stderr",
     "output_type": "stream",
     "text": [
      "Setting default log level to \"WARN\".\n",
      "To adjust logging level use sc.setLogLevel(newLevel). For SparkR, use setLogLevel(newLevel).\n"
     ]
    },
    {
     "name": "stdout",
     "output_type": "stream",
     "text": [
      "22/08/17 16:25:55 WARN NativeCodeLoader: Unable to load native-hadoop library for your platform... using builtin-java classes where applicable\n"
     ]
    },
    {
     "data": {
      "text/html": [
       "\n",
       "            <div>\n",
       "                <p><b>SparkSession - in-memory</b></p>\n",
       "                \n",
       "        <div>\n",
       "            <p><b>SparkContext</b></p>\n",
       "\n",
       "            <p><a href=\"http://192.168.34.91:4040\">Spark UI</a></p>\n",
       "\n",
       "            <dl>\n",
       "              <dt>Version</dt>\n",
       "                <dd><code>v3.3.0</code></dd>\n",
       "              <dt>Master</dt>\n",
       "                <dd><code>local[*]</code></dd>\n",
       "              <dt>AppName</dt>\n",
       "                <dd><code>Check yellow taxi clean-up</code></dd>\n",
       "            </dl>\n",
       "        </div>\n",
       "        \n",
       "            </div>\n",
       "        "
      ],
      "text/plain": [
       "<pyspark.sql.session.SparkSession at 0x7f4ecc3aa730>"
      ]
     },
     "execution_count": 3,
     "metadata": {},
     "output_type": "execute_result"
    }
   ],
   "source": [
    "sp = SparkSession.builder.appName(\"Check taxi clean-up\").getOrCreate()\n",
    "sp"
   ]
  },
  {
   "cell_type": "markdown",
   "metadata": {},
   "source": [
    "### Reading the processed data"
   ]
  },
  {
   "cell_type": "code",
   "execution_count": 37,
   "metadata": {},
   "outputs": [
    {
     "name": "stdout",
     "output_type": "stream",
     "text": [
      "+-------------------+-------------------+------------+------------+\n",
      "|    pickup_datetime|   dropoff_datetime|PULocationID|DOLocationID|\n",
      "+-------------------+-------------------+------------+------------+\n",
      "|2020-07-01 10:25:32|2020-07-01 10:33:39|         238|          75|\n",
      "|2020-07-01 10:15:11|2020-07-01 10:29:24|         230|          88|\n",
      "|2020-07-01 10:30:49|2020-07-01 10:38:26|          88|         232|\n",
      "|2020-07-01 10:31:26|2020-07-01 10:38:02|          37|          17|\n",
      "|2020-07-01 10:09:00|2020-07-01 10:34:39|         140|          61|\n",
      "+-------------------+-------------------+------------+------------+\n",
      "only showing top 5 rows\n",
      "\n"
     ]
    }
   ],
   "source": [
    "df = sp.read.parquet(\"../data/curated/yellow/2020-7\")\n",
    "df.show(5)"
   ]
  },
  {
   "cell_type": "code",
   "execution_count": 38,
   "metadata": {},
   "outputs": [
    {
     "data": {
      "text/plain": [
       "568980"
      ]
     },
     "execution_count": 38,
     "metadata": {},
     "output_type": "execute_result"
    }
   ],
   "source": [
    "df.count()"
   ]
  },
  {
   "cell_type": "markdown",
   "metadata": {},
   "source": [
    "### Reading the raw data"
   ]
  },
  {
   "cell_type": "code",
   "execution_count": 14,
   "metadata": {},
   "outputs": [
    {
     "name": "stdout",
     "output_type": "stream",
     "text": [
      "+--------+--------------------+---------------------+---------------+-------------+----------+------------------+------------+------------+------------+-----------+-----+-------+----------+------------+---------------------+------------+--------------------+-----------+\n",
      "|VendorID|tpep_pickup_datetime|tpep_dropoff_datetime|passenger_count|trip_distance|RatecodeID|store_and_fwd_flag|PULocationID|DOLocationID|payment_type|fare_amount|extra|mta_tax|tip_amount|tolls_amount|improvement_surcharge|total_amount|congestion_surcharge|airport_fee|\n",
      "+--------+--------------------+---------------------+---------------+-------------+----------+------------------+------------+------------+------------+-----------+-----+-------+----------+------------+---------------------+------------+--------------------+-----------+\n",
      "|       1| 2020-07-01 10:25:32|  2020-07-01 10:33:39|            1.0|          1.5|       1.0|                 N|         238|          75|           2|        8.0|  0.5|    0.5|       0.0|         0.0|                  0.3|         9.3|                 0.0|       null|\n",
      "|       1| 2020-07-01 10:03:19|  2020-07-01 10:25:43|            1.0|          9.5|       1.0|                 N|         138|         216|           1|       26.5|  0.5|    0.5|       0.0|         0.0|                  0.3|        27.8|                 0.0|       null|\n",
      "|       2| 2020-07-01 10:15:11|  2020-07-01 10:29:24|            1.0|         5.85|       1.0|                 N|         230|          88|           2|       18.5|  0.5|    0.5|       0.0|         0.0|                  0.3|        22.3|                 2.5|       null|\n",
      "|       2| 2020-07-01 10:30:49|  2020-07-01 10:38:26|            1.0|          1.9|       1.0|                 N|          88|         232|           1|        8.0|  0.5|    0.5|      2.36|         0.0|                  0.3|       14.16|                 2.5|       null|\n",
      "|       2| 2020-07-01 10:31:26|  2020-07-01 10:38:02|            1.0|         1.25|       1.0|                 N|          37|          17|           2|        6.5|  0.5|    0.5|       0.0|         0.0|                  0.3|         7.8|                 0.0|       null|\n",
      "+--------+--------------------+---------------------+---------------+-------------+----------+------------------+------------+------------+------------+-----------+-----+-------+----------+------------+---------------------+------------+--------------------+-----------+\n",
      "only showing top 5 rows\n",
      "\n"
     ]
    },
    {
     "name": "stderr",
     "output_type": "stream",
     "text": [
      "                                                                                \r"
     ]
    }
   ],
   "source": [
    "yellow = sp.read.parquet(\"../data/raw/yellow/yellow-2020-07.parquet\")\n",
    "yellow.show(5)"
   ]
  },
  {
   "cell_type": "markdown",
   "metadata": {},
   "source": [
    "### Loading the functions used to check"
   ]
  },
  {
   "cell_type": "code",
   "execution_count": 11,
   "metadata": {},
   "outputs": [],
   "source": [
    "bike_zones = pd.read_csv(\"../data/raw/citi/bike stations.csv\")\n",
    "\n",
    "def drop_unknown_values(data):\n",
    "    \"\"\"\n",
    "    Function to drop values not present in the given data dictionary\n",
    "    \"\"\"\n",
    "    data = data.filter((data[\"VendorID\"] == 1) | (data[\"VendorID\"] == 2))   # Filter vendorID\n",
    "    payment_list = list(range(1, 7))\n",
    "    data = data.filter((data[\"Payment_type\"].isin(payment_list)))           # Filter payment type\n",
    "    ratecode_list = [1, 4, 5]                                               # Do not consider airport or group rides\n",
    "    data = data.filter((data[\"RateCodeID\"].isin(ratecode_list)))            # Filter rate code\n",
    "\n",
    "    return data\n",
    "\n",
    "def filter_by_limits(data):\n",
    "    \"\"\"\n",
    "    Function to filter values set by the domain of the research question\n",
    "    \"\"\"\n",
    "    # Consider taxis that start and end in a zone with a citibike station\n",
    "    data = filter_bike_zones(data)\n",
    "    # Consider taxis with 1-4 passengers\n",
    "    data = data.filter((data[\"passenger_count\"] > 0) & (data[\"passenger_count\"] < 5))\n",
    "    # Consider trip distances of 25 miles or less\n",
    "    data = data.filter((data[\"trip_distance\"] > 0) & (data[\"trip_distance\"] < 25))\n",
    "    # Consider trips which start and end in different zones\n",
    "    data = data.filter((data[\"PULocationID\"] != data[\"DOLocationID\"]))\n",
    "\n",
    "    return data\n",
    "\n",
    "def filter_bike_zones(data):\n",
    "    \"\"\"\n",
    "    Filter pick up and drop off locations w.r.t. citibike station zones\n",
    "    \"\"\"\n",
    "    zones_list = bike_zones[\"Taxi area code\"].to_list()\n",
    "    return data.filter((data[\"PULocationID\"].isin(zones_list)) & (data[\"DOLocationID\"].isin(zones_list)))\n",
    "\n",
    "def drop_columns(data):\n",
    "    \"\"\"\n",
    "    After using extra information to filter out the data, most of the columns are unncessary\n",
    "    and therefore can be dropped\n",
    "    \"\"\"\n",
    "    columns = [\"tpep_pickup_datetime\", \"tpep_dropoff_datetime\", \"trip_distance\", \"PULocationID\", \"DOLocationID\"]\n",
    "    return data[[columns]]"
   ]
  },
  {
   "cell_type": "code",
   "execution_count": 39,
   "metadata": {},
   "outputs": [
    {
     "ename": "NameError",
     "evalue": "name 'drop_unknown_values' is not defined",
     "output_type": "error",
     "traceback": [
      "\u001b[0;31m---------------------------------------------------------------------------\u001b[0m",
      "\u001b[0;31mNameError\u001b[0m                                 Traceback (most recent call last)",
      "\u001b[1;32m/home/jay/Classes/Apl-DS/mast30034-project-1-godfather-is-me/notebooks/testing_cabs.ipynb Cell 10\u001b[0m in \u001b[0;36m<cell line: 1>\u001b[0;34m()\u001b[0m\n\u001b[0;32m----> <a href='vscode-notebook-cell://wsl%2Bubuntu-20.04/home/jay/Classes/Apl-DS/mast30034-project-1-godfather-is-me/notebooks/testing_cabs.ipynb#X12sdnNjb2RlLXJlbW90ZQ%3D%3D?line=0'>1</a>\u001b[0m drop_unknown_values(yellow)\u001b[39m.\u001b[39mcount()\n",
      "\u001b[0;31mNameError\u001b[0m: name 'drop_unknown_values' is not defined"
     ]
    }
   ],
   "source": [
    "drop_unknown_values(yellow).count()"
   ]
  },
  {
   "cell_type": "code",
   "execution_count": 40,
   "metadata": {},
   "outputs": [
    {
     "ename": "NameError",
     "evalue": "name 'filter_by_limits' is not defined",
     "output_type": "error",
     "traceback": [
      "\u001b[0;31m---------------------------------------------------------------------------\u001b[0m",
      "\u001b[0;31mNameError\u001b[0m                                 Traceback (most recent call last)",
      "\u001b[1;32m/home/jay/Classes/Apl-DS/mast30034-project-1-godfather-is-me/notebooks/testing_cabs.ipynb Cell 11\u001b[0m in \u001b[0;36m<cell line: 1>\u001b[0;34m()\u001b[0m\n\u001b[0;32m----> <a href='vscode-notebook-cell://wsl%2Bubuntu-20.04/home/jay/Classes/Apl-DS/mast30034-project-1-godfather-is-me/notebooks/testing_cabs.ipynb#X13sdnNjb2RlLXJlbW90ZQ%3D%3D?line=0'>1</a>\u001b[0m filter_by_limits(yellow)\u001b[39m.\u001b[39mcount()\n",
      "\u001b[0;31mNameError\u001b[0m: name 'filter_by_limits' is not defined"
     ]
    }
   ],
   "source": [
    "filter_by_limits(yellow).count()"
   ]
  },
  {
   "cell_type": "markdown",
   "metadata": {},
   "source": [
    "The limits of the research question narrow it down quite a lot, almost 30-40% of the data is gone and also expected since there are limited zones, trip distances, and passenger counts"
   ]
  },
  {
   "cell_type": "code",
   "execution_count": 41,
   "metadata": {},
   "outputs": [
    {
     "data": {
      "text/plain": [
       "[('pickup_datetime', 'timestamp'),\n",
       " ('dropoff_datetime', 'timestamp'),\n",
       " ('PULocationID', 'bigint'),\n",
       " ('DOLocationID', 'bigint')]"
      ]
     },
     "execution_count": 41,
     "metadata": {},
     "output_type": "execute_result"
    }
   ],
   "source": [
    "df.dtypes"
   ]
  },
  {
   "cell_type": "markdown",
   "metadata": {},
   "source": [
    "## Testing Green data"
   ]
  },
  {
   "cell_type": "code",
   "execution_count": 15,
   "metadata": {},
   "outputs": [
    {
     "name": "stdout",
     "output_type": "stream",
     "text": [
      "+--------+--------------------+---------------------+------------------+----------+------------+------------+---------------+-------------+-----------+-----+-------+----------+------------+---------+---------------------+------------+------------+---------+--------------------+\n",
      "|VendorID|lpep_pickup_datetime|lpep_dropoff_datetime|store_and_fwd_flag|RatecodeID|PULocationID|DOLocationID|passenger_count|trip_distance|fare_amount|extra|mta_tax|tip_amount|tolls_amount|ehail_fee|improvement_surcharge|total_amount|payment_type|trip_type|congestion_surcharge|\n",
      "+--------+--------------------+---------------------+------------------+----------+------------+------------+---------------+-------------+-----------+-----+-------+----------+------------+---------+---------------------+------------+------------+---------+--------------------+\n",
      "|       2| 2021-01-01 11:15:56|  2021-01-01 11:19:52|                 N|       1.0|          43|         151|            1.0|         1.01|        5.5|  0.5|    0.5|       0.0|         0.0|     null|                  0.3|         6.8|         2.0|      1.0|                 0.0|\n",
      "|       2| 2021-01-01 11:25:59|  2021-01-01 11:34:44|                 N|       1.0|         166|         239|            1.0|         2.53|       10.0|  0.5|    0.5|      2.81|         0.0|     null|                  0.3|       16.86|         1.0|      1.0|                2.75|\n",
      "|       2| 2021-01-01 11:45:57|  2021-01-01 11:51:55|                 N|       1.0|          41|          42|            1.0|         1.12|        6.0|  0.5|    0.5|       1.0|         0.0|     null|                  0.3|         8.3|         1.0|      1.0|                 0.0|\n",
      "|       2| 2021-01-01 10:57:51|  2021-01-01 11:04:56|                 N|       1.0|         168|          75|            1.0|         1.99|        8.0|  0.5|    0.5|       0.0|         0.0|     null|                  0.3|         9.3|         2.0|      1.0|                 0.0|\n",
      "|       2| 2021-01-01 11:16:36|  2021-01-01 11:16:40|                 N|       2.0|         265|         265|            3.0|          0.0|      -52.0|  0.0|   -0.5|       0.0|         0.0|     null|                 -0.3|       -52.8|         3.0|      1.0|                 0.0|\n",
      "+--------+--------------------+---------------------+------------------+----------+------------+------------+---------------+-------------+-----------+-----+-------+----------+------------+---------+---------------------+------------+------------+---------+--------------------+\n",
      "only showing top 5 rows\n",
      "\n"
     ]
    }
   ],
   "source": [
    "green_raw = sp.read.parquet(\"../data/raw/green/green-2021-01.parquet\")\n",
    "green_raw.show(5)"
   ]
  },
  {
   "cell_type": "code",
   "execution_count": 17,
   "metadata": {},
   "outputs": [
    {
     "name": "stdout",
     "output_type": "stream",
     "text": [
      "+-------------------+-------------------+-------------+------------+------------+\n",
      "|    pickup_datetime|   dropoff_datetime|trip_distance|PULocationID|DOLocationID|\n",
      "+-------------------+-------------------+-------------+------------+------------+\n",
      "|2021-01-01 11:15:56|2021-01-01 11:19:52|         1.01|          43|         151|\n",
      "|2021-01-01 11:25:59|2021-01-01 11:34:44|         2.53|         166|         239|\n",
      "|2021-01-01 11:45:57|2021-01-01 11:51:55|         1.12|          41|          42|\n",
      "|2021-01-01 10:57:51|2021-01-01 11:04:56|         1.99|         168|          75|\n",
      "|2021-01-01 11:35:13|2021-01-01 11:44:44|         2.34|          74|         238|\n",
      "+-------------------+-------------------+-------------+------------+------------+\n",
      "only showing top 5 rows\n",
      "\n"
     ]
    }
   ],
   "source": [
    "green_cur = sp.read.parquet(\"../data/curated/green/2021-1/\")\n",
    "green_cur.show(5)"
   ]
  },
  {
   "cell_type": "code",
   "execution_count": 18,
   "metadata": {},
   "outputs": [
    {
     "name": "stdout",
     "output_type": "stream",
     "text": [
      "76518\n",
      "24048\n"
     ]
    }
   ],
   "source": [
    "print(green_raw.count())\n",
    "print(green_cur.count())"
   ]
  },
  {
   "cell_type": "markdown",
   "metadata": {},
   "source": [
    "## Testing FHVHV data"
   ]
  },
  {
   "cell_type": "code",
   "execution_count": 4,
   "metadata": {},
   "outputs": [
    {
     "name": "stderr",
     "output_type": "stream",
     "text": [
      "[Stage 2:============================================>              (3 + 1) / 4]\r"
     ]
    },
    {
     "name": "stdout",
     "output_type": "stream",
     "text": [
      "+-----------------+--------------------+--------------------+-------------------+-------------------+-------------------+-------------------+------------+------------+----------+---------+-------------------+-----+----+---------+--------------------+-----------+----+----------+-------------------+-----------------+------------------+----------------+--------------+\n",
      "|hvfhs_license_num|dispatching_base_num|originating_base_num|   request_datetime|  on_scene_datetime|    pickup_datetime|   dropoff_datetime|PULocationID|DOLocationID|trip_miles|trip_time|base_passenger_fare|tolls| bcf|sales_tax|congestion_surcharge|airport_fee|tips|driver_pay|shared_request_flag|shared_match_flag|access_a_ride_flag|wav_request_flag|wav_match_flag|\n",
      "+-----------------+--------------------+--------------------+-------------------+-------------------+-------------------+-------------------+------------+------------+----------+---------+-------------------+-----+----+---------+--------------------+-----------+----+----------+-------------------+-----------------+------------------+----------------+--------------+\n",
      "|           HV0003|              B02764|              B02764|2021-06-01 09:53:49|2021-06-01 10:02:23|2021-06-01 10:02:41|2021-06-01 10:07:46|         174|          18|       1.0|      305|               8.13|  0.0|0.24|     0.72|                 0.0|        0.0| 0.0|      7.03|                  N|                N|                  |               N|             N|\n",
      "|           HV0003|              B02764|              B02764|2021-06-01 10:08:40|2021-06-01 10:15:20|2021-06-01 10:16:16|2021-06-01 10:21:14|          32|         254|      1.39|      298|               9.49|  0.0|0.28|     0.84|                 0.0|        0.0| 0.0|      9.03|                  N|                N|                  |               N|             N|\n",
      "|           HV0003|              B02764|              B02764|2021-06-01 10:15:26|2021-06-01 10:24:48|2021-06-01 10:27:01|2021-06-01 10:42:11|         240|         127|      5.51|      910|              19.61|  0.0|0.59|     1.74|                 0.0|        0.0| 0.0|     15.34|                  N|                N|                  |               N|             N|\n",
      "|           HV0003|              B02764|              B02764|2021-06-01 10:22:29|2021-06-01 10:44:48|2021-06-01 10:46:08|2021-06-01 10:53:45|         127|         235|       1.5|      457|                8.5|  0.0|0.26|     0.75|                 0.0|        0.0| 1.0|      9.13|                  N|                N|                  |               N|             N|\n",
      "|           HV0005|              B02510|                null|2021-06-01 10:42:14|               null|2021-06-01 10:45:42|2021-06-01 11:03:33|         144|         146|     5.072|     1071|              30.35| 0.23|0.92|     2.71|                2.75|        0.0| 0.0|     18.21|                  N|                N|                 N|               N|             N|\n",
      "+-----------------+--------------------+--------------------+-------------------+-------------------+-------------------+-------------------+------------+------------+----------+---------+-------------------+-----+----+---------+--------------------+-----------+----+----------+-------------------+-----------------+------------------+----------------+--------------+\n",
      "only showing top 5 rows\n",
      "\n"
     ]
    },
    {
     "name": "stderr",
     "output_type": "stream",
     "text": [
      "                                                                                \r"
     ]
    }
   ],
   "source": [
    "uber_raw = sp.read.parquet(\"../data/raw/fhvhv/fhvhv-2021-06.parquet\")\n",
    "uber_raw.show(5)"
   ]
  },
  {
   "cell_type": "code",
   "execution_count": 19,
   "metadata": {},
   "outputs": [
    {
     "data": {
      "text/plain": [
       "14961892"
      ]
     },
     "execution_count": 19,
     "metadata": {},
     "output_type": "execute_result"
    }
   ],
   "source": [
    "uber_raw.count()"
   ]
  },
  {
   "cell_type": "code",
   "execution_count": 42,
   "metadata": {},
   "outputs": [
    {
     "name": "stderr",
     "output_type": "stream",
     "text": [
      "[Stage 69:===========================================>              (3 + 1) / 4]\r"
     ]
    },
    {
     "name": "stdout",
     "output_type": "stream",
     "text": [
      "+-------------------+-------------------+------------+------------+\n",
      "|    pickup_datetime|   dropoff_datetime|PULocationID|DOLocationID|\n",
      "+-------------------+-------------------+------------+------------+\n",
      "|2021-06-01 10:45:42|2021-06-01 11:03:33|         144|         146|\n",
      "|2021-06-01 10:18:15|2021-06-01 10:25:47|          49|          17|\n",
      "|2021-06-01 10:33:06|2021-06-01 10:42:46|          49|         225|\n",
      "|2021-06-01 10:46:27|2021-06-01 10:56:50|         225|         177|\n",
      "|2021-06-01 10:48:06|2021-06-01 11:04:10|         209|          45|\n",
      "+-------------------+-------------------+------------+------------+\n",
      "only showing top 5 rows\n",
      "\n"
     ]
    },
    {
     "name": "stderr",
     "output_type": "stream",
     "text": [
      "                                                                                \r"
     ]
    }
   ],
   "source": [
    "uber_cur = sp.read.parquet(\"../data/curated/fhvhv/2021-6/\")\n",
    "uber_cur.show(5)"
   ]
  },
  {
   "cell_type": "code",
   "execution_count": 21,
   "metadata": {},
   "outputs": [
    {
     "data": {
      "text/plain": [
       "6245769"
      ]
     },
     "execution_count": 21,
     "metadata": {},
     "output_type": "execute_result"
    }
   ],
   "source": [
    "uber_cur.count()"
   ]
  },
  {
   "cell_type": "code",
   "execution_count": 22,
   "metadata": {},
   "outputs": [
    {
     "name": "stderr",
     "output_type": "stream",
     "text": [
      "[Stage 49:==================================================>       (7 + 1) / 8]\r"
     ]
    },
    {
     "name": "stdout",
     "output_type": "stream",
     "text": [
      "+-------+------------------+------------------+------------------+\n",
      "|summary|     trip_distance|      PULocationID|      DOLocationID|\n",
      "+-------+------------------+------------------+------------------+\n",
      "|  count|           6245769|           6245769|           6245769|\n",
      "|   mean|3.3048741889107878|143.51025550256503|144.27036366538692|\n",
      "| stddev|2.4251145959589118| 77.23449225025823| 76.95879395429783|\n",
      "|    min|             0.006|                 4|                 4|\n",
      "|    25%|             1.576|                74|                75|\n",
      "|    50%|             2.567|               146|               148|\n",
      "|    75%|              4.32|               226|               226|\n",
      "|    max|             24.99|               263|               263|\n",
      "+-------+------------------+------------------+------------------+\n",
      "\n"
     ]
    },
    {
     "name": "stderr",
     "output_type": "stream",
     "text": [
      "                                                                                \r"
     ]
    }
   ],
   "source": [
    "uber_cur.summary().show()"
   ]
  },
  {
   "cell_type": "markdown",
   "metadata": {},
   "source": [
    "## Check Citi Bike data\n",
    "\n",
    "Check schemas and old vs new location ID differences"
   ]
  },
  {
   "cell_type": "code",
   "execution_count": 33,
   "metadata": {},
   "outputs": [
    {
     "name": "stdout",
     "output_type": "stream",
     "text": [
      "+------------+--------------------+--------------------+----------------+--------------------+----------------------+-----------------------+--------------+--------------------+--------------------+---------------------+------+----------+----------+------+\n",
      "|tripduration|           starttime|            stoptime|start station id|  start station name|start station latitude|start station longitude|end station id|    end station name|end station latitude|end station longitude|bikeid|  usertype|birth year|gender|\n",
      "+------------+--------------------+--------------------+----------------+--------------------+----------------------+-----------------------+--------------+--------------------+--------------------+---------------------+------+----------+----------+------+\n",
      "|        2513|2021-01-01 00:00:...|2021-01-01 00:42:...|            3581|Underhill Ave & L...|            40.6740123|            -73.9671457|          3581|Underhill Ave & L...|          40.6740123|          -73.9671457| 47812|  Customer|      1969|     0|\n",
      "|        2519|2021-01-01 00:00:...|2021-01-01 00:42:...|            3581|Underhill Ave & L...|            40.6740123|            -73.9671457|          3581|Underhill Ave & L...|          40.6740123|          -73.9671457| 47571|  Customer|      1969|     0|\n",
      "|        1207|2021-01-01 00:00:...|2021-01-01 00:20:...|            3144|  E 81 St & Park Ave|           40.77677702|            -73.9590097|          3724|7 Ave & Central P...|    40.7667405590595|    -73.9790689945221| 37451|Subscriber|      2002|     1|\n",
      "|        2506|2021-01-01 00:00:...|2021-01-01 00:42:...|            3581|Underhill Ave & L...|            40.6740123|            -73.9671457|          3581|Underhill Ave & L...|          40.6740123|          -73.9671457| 48884|  Customer|      2002|     1|\n",
      "|         959|2021-01-01 00:00:...|2021-01-01 00:16:...|             534|Water - Whitehall...|           40.70255065|            -74.0127234|           332|           Cherry St|         40.71219906|         -73.97948148| 26837|  Customer|      2002|     1|\n",
      "+------------+--------------------+--------------------+----------------+--------------------+----------------------+-----------------------+--------------+--------------------+--------------------+---------------------+------+----------+----------+------+\n",
      "only showing top 5 rows\n",
      "\n"
     ]
    }
   ],
   "source": [
    "citi_jul20 = sp.read.option(\"header\", True).csv(\"../data/raw/citi/202101-citibike-tripdata.csv\")\n",
    "citi_jul20.show(5)"
   ]
  },
  {
   "cell_type": "code",
   "execution_count": 34,
   "metadata": {},
   "outputs": [
    {
     "data": {
      "text/plain": [
       "['tripduration',\n",
       " 'starttime',\n",
       " 'stoptime',\n",
       " 'start station id',\n",
       " 'start station name',\n",
       " 'start station latitude',\n",
       " 'start station longitude',\n",
       " 'end station id',\n",
       " 'end station name',\n",
       " 'end station latitude',\n",
       " 'end station longitude',\n",
       " 'bikeid',\n",
       " 'usertype',\n",
       " 'birth year',\n",
       " 'gender']"
      ]
     },
     "execution_count": 34,
     "metadata": {},
     "output_type": "execute_result"
    }
   ],
   "source": [
    "citi_jul20.columns"
   ]
  },
  {
   "cell_type": "code",
   "execution_count": 24,
   "metadata": {},
   "outputs": [
    {
     "name": "stdout",
     "output_type": "stream",
     "text": [
      "+------------+--------------------+--------------------+----------------+--------------------+----------------------+-----------------------+--------------+--------------------+--------------------+---------------------+------+----------+----------+------+\n",
      "|tripduration|           starttime|            stoptime|start station id|  start station name|start station latitude|start station longitude|end station id|    end station name|end station latitude|end station longitude|bikeid|  usertype|birth year|gender|\n",
      "+------------+--------------------+--------------------+----------------+--------------------+----------------------+-----------------------+--------------+--------------------+--------------------+---------------------+------+----------+----------+------+\n",
      "|        2513|2021-01-01 00:00:...|2021-01-01 00:42:...|            3581|Underhill Ave & L...|            40.6740123|            -73.9671457|          3581|Underhill Ave & L...|          40.6740123|          -73.9671457| 47812|  Customer|      1969|     0|\n",
      "|        2519|2021-01-01 00:00:...|2021-01-01 00:42:...|            3581|Underhill Ave & L...|            40.6740123|            -73.9671457|          3581|Underhill Ave & L...|          40.6740123|          -73.9671457| 47571|  Customer|      1969|     0|\n",
      "|        1207|2021-01-01 00:00:...|2021-01-01 00:20:...|            3144|  E 81 St & Park Ave|           40.77677702|            -73.9590097|          3724|7 Ave & Central P...|    40.7667405590595|    -73.9790689945221| 37451|Subscriber|      2002|     1|\n",
      "|        2506|2021-01-01 00:00:...|2021-01-01 00:42:...|            3581|Underhill Ave & L...|            40.6740123|            -73.9671457|          3581|Underhill Ave & L...|          40.6740123|          -73.9671457| 48884|  Customer|      2002|     1|\n",
      "|         959|2021-01-01 00:00:...|2021-01-01 00:16:...|             534|Water - Whitehall...|           40.70255065|            -74.0127234|           332|           Cherry St|         40.71219906|         -73.97948148| 26837|  Customer|      2002|     1|\n",
      "+------------+--------------------+--------------------+----------------+--------------------+----------------------+-----------------------+--------------+--------------------+--------------------+---------------------+------+----------+----------+------+\n",
      "only showing top 5 rows\n",
      "\n"
     ]
    }
   ],
   "source": [
    "citi_jan21 = sp.read.option(\"header\", True).csv(\"../data/raw/citi/202101-citibike-tripdata.csv\")\n",
    "citi_jan21.show(5)"
   ]
  },
  {
   "cell_type": "code",
   "execution_count": 29,
   "metadata": {},
   "outputs": [
    {
     "name": "stdout",
     "output_type": "stream",
     "text": [
      "+------------+--------------------+--------------------+----------------+--------------------+----------------------+-----------------------+--------------+--------------------+\n",
      "|tripduration|           starttime|            stoptime|start station id|  start station name|start station latitude|start station longitude|end station id|    end station name|\n",
      "+------------+--------------------+--------------------+----------------+--------------------+----------------------+-----------------------+--------------+--------------------+\n",
      "|        2513|2021-01-01 00:00:...|2021-01-01 00:42:...|            3581|Underhill Ave & L...|            40.6740123|            -73.9671457|          3581|Underhill Ave & L...|\n",
      "|        2519|2021-01-01 00:00:...|2021-01-01 00:42:...|            3581|Underhill Ave & L...|            40.6740123|            -73.9671457|          3581|Underhill Ave & L...|\n",
      "|        1207|2021-01-01 00:00:...|2021-01-01 00:20:...|            3144|  E 81 St & Park Ave|           40.77677702|            -73.9590097|          3724|7 Ave & Central P...|\n",
      "|        2506|2021-01-01 00:00:...|2021-01-01 00:42:...|            3581|Underhill Ave & L...|            40.6740123|            -73.9671457|          3581|Underhill Ave & L...|\n",
      "|         959|2021-01-01 00:00:...|2021-01-01 00:16:...|             534|Water - Whitehall...|           40.70255065|            -74.0127234|           332|           Cherry St|\n",
      "|        2447|2021-01-01 00:01:...|2021-01-01 00:42:...|             319|Fulton St & Broadway|             40.711066|             -74.009447|          3314|  W 95 St & Broadway|\n",
      "|        1147|2021-01-01 00:01:...|2021-01-01 00:20:...|            3144|  E 81 St & Park Ave|           40.77677702|            -73.9590097|          3724|7 Ave & Central P...|\n",
      "|        2426|2021-01-01 00:01:...|2021-01-01 00:42:...|            3581|Underhill Ave & L...|            40.6740123|            -73.9671457|          3581|Underhill Ave & L...|\n",
      "|         128|2021-01-01 00:02:...|2021-01-01 00:04:...|            3294|  E 91 St & Park Ave|            40.7835016|             -73.955327|          3336|E 97 St & Madison...|\n",
      "|         477|2021-01-01 00:02:...|2021-01-01 00:10:...|            3372|     E 74 St & 1 Ave|            40.7689738|           -73.95482273|          3391|    E 106 St & 1 Ave|\n",
      "|        1324|2021-01-01 00:03:...|2021-01-01 00:25:...|            3301|Columbus Ave & W ...|            40.7919557|             -73.968087|          4044|     8 Ave & W 38 St|\n",
      "|         781|2021-01-01 00:03:...|2021-01-01 00:16:...|             500|  Broadway & W 51 St|           40.76228826|           -73.98336183|           507|     E 25 St & 2 Ave|\n",
      "|         439|2021-01-01 00:03:...|2021-01-01 00:10:...|            3739|Perry St & Greenw...|             40.735918|             -74.000939|          3256|Pier 40 - Hudson ...|\n",
      "|         309|2021-01-01 00:03:...|2021-01-01 00:08:...|             356|Bialystoker Pl & ...|           40.71622644|           -73.98261206|           151|Cleveland Pl & Sp...|\n",
      "|        1047|2021-01-01 00:03:...|2021-01-01 00:21:...|            3144|  E 81 St & Park Ave|           40.77677702|            -73.9590097|          3724|7 Ave & Central P...|\n",
      "|        1639|2021-01-01 00:03:...|2021-01-01 00:31:...|             536|     1 Ave & E 30 St|           40.74144387|           -73.97536082|          3312|     1 Ave & E 94 St|\n",
      "|         108|2021-01-01 00:04:...|2021-01-01 00:06:...|             317|   E 6 St & Avenue B|           40.72453734|           -73.98185424|           301|   E 2 St & Avenue B|\n",
      "|        1200|2021-01-01 00:04:...|2021-01-01 00:24:...|             447|     8 Ave & W 52 St|           40.76370739|            -73.9851615|          3169|Riverside Dr & W ...|\n",
      "|         192|2021-01-01 00:04:...|2021-01-01 00:07:...|            3131|     E 68 St & 3 Ave|     40.76712840349542|     -73.96224617958069|          3355|E 66 St & Madison...|\n",
      "|         240|2021-01-01 00:04:...|2021-01-01 00:08:...|             447|     8 Ave & W 52 St|           40.76370739|            -73.9851615|           513|    W 56 St & 10 Ave|\n",
      "+------------+--------------------+--------------------+----------------+--------------------+----------------------+-----------------------+--------------+--------------------+\n",
      "only showing top 20 rows\n",
      "\n"
     ]
    }
   ],
   "source": [
    "citi_jan21[citi_jan21.columns[:-6]].show()"
   ]
  },
  {
   "cell_type": "code",
   "execution_count": 32,
   "metadata": {},
   "outputs": [
    {
     "data": {
      "text/plain": [
       "['tripduration',\n",
       " 'starttime',\n",
       " 'stoptime',\n",
       " 'start station id',\n",
       " 'start station name',\n",
       " 'start station latitude',\n",
       " 'start station longitude',\n",
       " 'end station id',\n",
       " 'end station name',\n",
       " 'end station latitude',\n",
       " 'end station longitude',\n",
       " 'bikeid',\n",
       " 'usertype',\n",
       " 'birth year',\n",
       " 'gender']"
      ]
     },
     "execution_count": 32,
     "metadata": {},
     "output_type": "execute_result"
    }
   ],
   "source": [
    "citi_jan21.columns"
   ]
  },
  {
   "cell_type": "code",
   "execution_count": 35,
   "metadata": {},
   "outputs": [
    {
     "name": "stdout",
     "output_type": "stream",
     "text": [
      "+----------------+-------------+-------------------+-------------------+--------------------+----------------+--------------------+--------------+------------------+------------------+------------------+------------------+-------------+\n",
      "|         ride_id|rideable_type|         started_at|           ended_at|  start_station_name|start_station_id|    end_station_name|end_station_id|         start_lat|         start_lng|           end_lat|           end_lng|member_casual|\n",
      "+----------------+-------------+-------------------+-------------------+--------------------+----------------+--------------------+--------------+------------------+------------------+------------------+------------------+-------------+\n",
      "|55262E4365A955A2| classic_bike|2022-01-18 08:23:52|2022-01-18 08:28:18|Boerum Pl\\t& Paci...|         4488.09|Clinton St & Jora...|       4605.04| 40.68848905639242|-73.99116039276123|       40.69239502|      -73.99337909|       member|\n",
      "|D272F1B15D841EC0| classic_bike|2022-01-21 09:03:22|2022-01-21 09:05:44|     E 12 St & Ave C|         5616.08|  E 10 St & Avenue A|       5659.05|         40.727243|        -73.976831|       40.72740794|      -73.98142006|       member|\n",
      "|D1FCEF55EB4A807F| classic_bike|2022-01-22 14:28:32|2022-01-22 14:53:18|     W 21 St & 6 Ave|         6140.05|    W 44 St & 11 Ave|       6756.05|       40.74173969|      -73.99415556|         40.762009|        -73.996975|       member|\n",
      "|E9CBDC6A0162C068|electric_bike|2022-01-19 14:49:47|2022-01-19 14:54:02|      38 St & 30 Ave|         6850.01|Crescent St & 30 Ave|       6958.06|40.764174520197685|-73.91583994030952|         40.768692|       -73.9249574|       member|\n",
      "|2177A5B57326CE9B|electric_bike|2022-01-16 14:36:06|2022-01-16 14:44:06|Pacific St & Nevi...|         4362.04|Clinton St & Till...|       4748.07|        40.6853761|      -73.98302136|40.696232971293156|-73.99142056703568|       member|\n",
      "+----------------+-------------+-------------------+-------------------+--------------------+----------------+--------------------+--------------+------------------+------------------+------------------+------------------+-------------+\n",
      "only showing top 5 rows\n",
      "\n"
     ]
    }
   ],
   "source": [
    "citi_jan22 = sp.read.option(\"header\", True).csv(\"../data/raw/citi/202201-citibike-tripdata.csv\")\n",
    "citi_jan22.show(5)"
   ]
  },
  {
   "cell_type": "code",
   "execution_count": 36,
   "metadata": {},
   "outputs": [
    {
     "data": {
      "text/plain": [
       "['ride_id',\n",
       " 'rideable_type',\n",
       " 'started_at',\n",
       " 'ended_at',\n",
       " 'start_station_name',\n",
       " 'start_station_id',\n",
       " 'end_station_name',\n",
       " 'end_station_id',\n",
       " 'start_lat',\n",
       " 'start_lng',\n",
       " 'end_lat',\n",
       " 'end_lng',\n",
       " 'member_casual']"
      ]
     },
     "execution_count": 36,
     "metadata": {},
     "output_type": "execute_result"
    }
   ],
   "source": [
    "citi_jan22.columns"
   ]
  },
  {
   "cell_type": "code",
   "execution_count": 31,
   "metadata": {},
   "outputs": [
    {
     "data": {
      "text/html": [
       "<div>\n",
       "<style scoped>\n",
       "    .dataframe tbody tr th:only-of-type {\n",
       "        vertical-align: middle;\n",
       "    }\n",
       "\n",
       "    .dataframe tbody tr th {\n",
       "        vertical-align: top;\n",
       "    }\n",
       "\n",
       "    .dataframe thead th {\n",
       "        text-align: right;\n",
       "    }\n",
       "</style>\n",
       "<table border=\"1\" class=\"dataframe\">\n",
       "  <thead>\n",
       "    <tr style=\"text-align: right;\">\n",
       "      <th></th>\n",
       "      <th>id</th>\n",
       "      <th>name</th>\n",
       "      <th>latitude</th>\n",
       "      <th>longtitude</th>\n",
       "      <th>Taxi area code</th>\n",
       "      <th>new_id</th>\n",
       "      <th>new_latitude</th>\n",
       "      <th>new_longtitude</th>\n",
       "    </tr>\n",
       "  </thead>\n",
       "  <tbody>\n",
       "    <tr>\n",
       "      <th>0</th>\n",
       "      <td>72</td>\n",
       "      <td>W 52 St &amp; 11 Ave</td>\n",
       "      <td>40.767272</td>\n",
       "      <td>-73.993929</td>\n",
       "      <td>50</td>\n",
       "      <td>6926.01</td>\n",
       "      <td>40.767272</td>\n",
       "      <td>-73.993928</td>\n",
       "    </tr>\n",
       "    <tr>\n",
       "      <th>1</th>\n",
       "      <td>79</td>\n",
       "      <td>Franklin St &amp; W Broadway</td>\n",
       "      <td>40.719116</td>\n",
       "      <td>-74.006667</td>\n",
       "      <td>231</td>\n",
       "      <td>5430.08</td>\n",
       "      <td>40.719116</td>\n",
       "      <td>-74.006667</td>\n",
       "    </tr>\n",
       "    <tr>\n",
       "      <th>2</th>\n",
       "      <td>82</td>\n",
       "      <td>St James Pl &amp; Pearl St</td>\n",
       "      <td>40.711174</td>\n",
       "      <td>-74.000165</td>\n",
       "      <td>45</td>\n",
       "      <td>5167.06</td>\n",
       "      <td>40.711174</td>\n",
       "      <td>-74.000165</td>\n",
       "    </tr>\n",
       "    <tr>\n",
       "      <th>3</th>\n",
       "      <td>83</td>\n",
       "      <td>Atlantic Ave &amp; Fort Greene Pl</td>\n",
       "      <td>40.683826</td>\n",
       "      <td>-73.976323</td>\n",
       "      <td>97</td>\n",
       "      <td>4354.07</td>\n",
       "      <td>40.683826</td>\n",
       "      <td>-73.976323</td>\n",
       "    </tr>\n",
       "    <tr>\n",
       "      <th>4</th>\n",
       "      <td>116</td>\n",
       "      <td>W 17 St &amp; 8 Ave</td>\n",
       "      <td>40.741776</td>\n",
       "      <td>-74.001497</td>\n",
       "      <td>68</td>\n",
       "      <td>6148.02</td>\n",
       "      <td>40.741776</td>\n",
       "      <td>-74.001497</td>\n",
       "    </tr>\n",
       "  </tbody>\n",
       "</table>\n",
       "</div>"
      ],
      "text/plain": [
       "    id                           name   latitude  longtitude  Taxi area code  \\\n",
       "0   72               W 52 St & 11 Ave  40.767272  -73.993929              50   \n",
       "1   79       Franklin St & W Broadway  40.719116  -74.006667             231   \n",
       "2   82         St James Pl & Pearl St  40.711174  -74.000165              45   \n",
       "3   83  Atlantic Ave & Fort Greene Pl  40.683826  -73.976323              97   \n",
       "4  116                W 17 St & 8 Ave  40.741776  -74.001497              68   \n",
       "\n",
       "    new_id  new_latitude  new_longtitude  \n",
       "0  6926.01     40.767272      -73.993928  \n",
       "1  5430.08     40.719116      -74.006667  \n",
       "2  5167.06     40.711174      -74.000165  \n",
       "3  4354.07     40.683826      -73.976323  \n",
       "4  6148.02     40.741776      -74.001497  "
      ]
     },
     "execution_count": 31,
     "metadata": {},
     "output_type": "execute_result"
    }
   ],
   "source": [
    "zones = pd.read_csv(\"../data/raw/citi/bike stations.csv\")\n",
    "zones.head()"
   ]
  },
  {
   "cell_type": "markdown",
   "metadata": {},
   "source": [
    "Check citi code"
   ]
  },
  {
   "cell_type": "code",
   "execution_count": 48,
   "metadata": {},
   "outputs": [
    {
     "name": "stdout",
     "output_type": "stream",
     "text": [
      "+----------------+-------------+-------------------+-------------------+--------------------+----------------+--------------------+--------------+------------------+------------------+------------------+------------------+-------------+\n",
      "|         ride_id|rideable_type|         started_at|           ended_at|  start_station_name|start_station_id|    end_station_name|end_station_id|         start_lat|         start_lng|           end_lat|           end_lng|member_casual|\n",
      "+----------------+-------------+-------------------+-------------------+--------------------+----------------+--------------------+--------------+------------------+------------------+------------------+------------------+-------------+\n",
      "|55262E4365A955A2| classic_bike|2022-01-18 08:23:52|2022-01-18 08:28:18|Boerum Pl\\t& Paci...|         4488.09|Clinton St & Jora...|       4605.04| 40.68848905639242|-73.99116039276123|       40.69239502|      -73.99337909|       member|\n",
      "|D272F1B15D841EC0| classic_bike|2022-01-21 09:03:22|2022-01-21 09:05:44|     E 12 St & Ave C|         5616.08|  E 10 St & Avenue A|       5659.05|         40.727243|        -73.976831|       40.72740794|      -73.98142006|       member|\n",
      "|D1FCEF55EB4A807F| classic_bike|2022-01-22 14:28:32|2022-01-22 14:53:18|     W 21 St & 6 Ave|         6140.05|    W 44 St & 11 Ave|       6756.05|       40.74173969|      -73.99415556|         40.762009|        -73.996975|       member|\n",
      "|E9CBDC6A0162C068|electric_bike|2022-01-19 14:49:47|2022-01-19 14:54:02|      38 St & 30 Ave|         6850.01|Crescent St & 30 Ave|       6958.06|40.764174520197685|-73.91583994030952|         40.768692|       -73.9249574|       member|\n",
      "|2177A5B57326CE9B|electric_bike|2022-01-16 14:36:06|2022-01-16 14:44:06|Pacific St & Nevi...|         4362.04|Clinton St & Till...|       4748.07|        40.6853761|      -73.98302136|40.696232971293156|-73.99142056703568|       member|\n",
      "+----------------+-------------+-------------------+-------------------+--------------------+----------------+--------------------+--------------+------------------+------------------+------------------+------------------+-------------+\n",
      "only showing top 5 rows\n",
      "\n"
     ]
    }
   ],
   "source": [
    "citi_jan22_cur = sp.read.option(\"header\", True).csv(\"../data/curated/citi/2022-1/\")\n",
    "citi_jan22.show(5)"
   ]
  },
  {
   "cell_type": "code",
   "execution_count": 49,
   "metadata": {},
   "outputs": [],
   "source": [
    "citi_jan22_cur = citi_jan22_cur.drop(\"member\")"
   ]
  },
  {
   "cell_type": "code",
   "execution_count": 50,
   "metadata": {},
   "outputs": [
    {
     "name": "stdout",
     "output_type": "stream",
     "text": [
      "+-------------------+-------------------+-------+-------+\n",
      "|2022-01-28 17:12:46|2022-01-28 17:27:03|4519.04|3928.08|\n",
      "+-------------------+-------------------+-------+-------+\n",
      "|2022-01-04 22:12:48|2022-01-04 22:18:27|6140.05|5971.08|\n",
      "+-------------------+-------------------+-------+-------+\n",
      "only showing top 1 row\n",
      "\n"
     ]
    }
   ],
   "source": [
    "citi_jan22_cur.show(1)"
   ]
  },
  {
   "cell_type": "code",
   "execution_count": 51,
   "metadata": {},
   "outputs": [
    {
     "name": "stdout",
     "output_type": "stream",
     "text": [
      "+-------------------+-------------------+-------+-------+\n",
      "|2022-01-28 17:12:46|2022-01-28 17:27:03|4519.04|3928.08|\n",
      "+-------------------+-------------------+-------+-------+\n",
      "|2022-01-04 22:12:48|2022-01-04 22:18:27|6140.05|5971.08|\n",
      "+-------------------+-------------------+-------+-------+\n",
      "only showing top 1 row\n",
      "\n"
     ]
    }
   ],
   "source": [
    "citi_jan22_cur.show(1)"
   ]
  },
  {
   "cell_type": "code",
   "execution_count": null,
   "metadata": {},
   "outputs": [],
   "source": []
  }
 ],
 "metadata": {
  "kernelspec": {
   "display_name": "Python 3.9.13 ('virtual')",
   "language": "python",
   "name": "python3"
  },
  "language_info": {
   "codemirror_mode": {
    "name": "ipython",
    "version": 3
   },
   "file_extension": ".py",
   "mimetype": "text/x-python",
   "name": "python",
   "nbconvert_exporter": "python",
   "pygments_lexer": "ipython3",
   "version": "3.9.13"
  },
  "orig_nbformat": 4,
  "vscode": {
   "interpreter": {
    "hash": "064aedc1eb8b7d9f9e1500e028db0dd8866d569cb38718b1182d0602d551f688"
   }
  }
 },
 "nbformat": 4,
 "nbformat_minor": 2
}
