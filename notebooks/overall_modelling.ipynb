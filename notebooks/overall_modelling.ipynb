{
 "cells": [
  {
   "cell_type": "code",
   "execution_count": 1,
   "metadata": {},
   "outputs": [
    {
     "name": "stderr",
     "output_type": "stream",
     "text": [
      "2022-08-24 22:54:09.248815: I tensorflow/core/util/util.cc:169] oneDNN custom operations are on. You may see slightly different numerical results due to floating-point round-off errors from different computation orders. To turn them off, set the environment variable `TF_ENABLE_ONEDNN_OPTS=0`.\n",
      "2022-08-24 22:54:09.388907: W tensorflow/stream_executor/platform/default/dso_loader.cc:64] Could not load dynamic library 'libcudart.so.11.0'; dlerror: libcudart.so.11.0: cannot open shared object file: No such file or directory\n",
      "2022-08-24 22:54:09.388927: I tensorflow/stream_executor/cuda/cudart_stub.cc:29] Ignore above cudart dlerror if you do not have a GPU set up on your machine.\n"
     ]
    }
   ],
   "source": [
    "import numpy as np\n",
    "import pandas as pd\n",
    "\n",
    "import seaborn as sns\n",
    "import matplotlib.pyplot as plt\n",
    "\n",
    "from pyspark.sql.functions import col, variance\n",
    "from pyspark.sql import SparkSession, DataFrame\n",
    "from pyspark.ml import Pipeline\n",
    "from pyspark.ml.regression import GeneralizedLinearRegression\n",
    "from pyspark.ml.feature import StringIndexer, OneHotEncoder, VectorAssembler\n",
    "\n",
    "import keras\n",
    "from keras.models import Sequential\n",
    "from keras.layers import Dense, Dropout, BatchNormalization\n",
    "\n",
    "from sklearn.metrics import r2_score, mean_squared_error\n",
    "from sklearn.preprocessing import StandardScaler"
   ]
  },
  {
   "cell_type": "code",
   "execution_count": 2,
   "metadata": {},
   "outputs": [
    {
     "name": "stdout",
     "output_type": "stream",
     "text": [
      "22/08/24 22:54:16 WARN Utils: Your hostname, J-L resolves to a loopback address: 127.0.1.1; using 172.20.230.224 instead (on interface eth0)\n",
      "22/08/24 22:54:16 WARN Utils: Set SPARK_LOCAL_IP if you need to bind to another address\n"
     ]
    },
    {
     "name": "stderr",
     "output_type": "stream",
     "text": [
      "Setting default log level to \"WARN\".\n",
      "To adjust logging level use sc.setLogLevel(newLevel). For SparkR, use setLogLevel(newLevel).\n"
     ]
    },
    {
     "name": "stdout",
     "output_type": "stream",
     "text": [
      "22/08/24 22:54:18 WARN NativeCodeLoader: Unable to load native-hadoop library for your platform... using builtin-java classes where applicable\n",
      "22/08/24 22:54:18 WARN Utils: Service 'SparkUI' could not bind on port 4040. Attempting port 4041.\n",
      "22/08/24 22:54:18 WARN Utils: Service 'SparkUI' could not bind on port 4041. Attempting port 4042.\n",
      "22/08/24 22:54:18 WARN Utils: Service 'SparkUI' could not bind on port 4042. Attempting port 4043.\n"
     ]
    },
    {
     "data": {
      "text/html": [
       "\n",
       "            <div>\n",
       "                <p><b>SparkSession - in-memory</b></p>\n",
       "                \n",
       "        <div>\n",
       "            <p><b>SparkContext</b></p>\n",
       "\n",
       "            <p><a href=\"http://172.20.230.224:4043\">Spark UI</a></p>\n",
       "\n",
       "            <dl>\n",
       "              <dt>Version</dt>\n",
       "                <dd><code>v3.3.0</code></dd>\n",
       "              <dt>Master</dt>\n",
       "                <dd><code>local[*]</code></dd>\n",
       "              <dt>AppName</dt>\n",
       "                <dd><code>Model</code></dd>\n",
       "            </dl>\n",
       "        </div>\n",
       "        \n",
       "            </div>\n",
       "        "
      ],
      "text/plain": [
       "<pyspark.sql.session.SparkSession at 0x7f6dec42ed90>"
      ]
     },
     "execution_count": 2,
     "metadata": {},
     "output_type": "execute_result"
    }
   ],
   "source": [
    "sp = (\n",
    "    SparkSession\n",
    "    .builder.appName(\"Model\")\n",
    "    .config(\"spark.sql.session.timeZone\", \"-04\")\n",
    "    .config(\"spark.sql.repl.eagerEval.enabled\", True)\n",
    "    .config(\"spark.sql.parquet.cacheMetadata\", \"true\")\n",
    "    .getOrCreate()\n",
    ")\n",
    "sp"
   ]
  },
  {
   "cell_type": "markdown",
   "metadata": {},
   "source": [
    "## Load data\n",
    "\n",
    "The next few lines will load processed taxi data and and further process it so that it is readable by the model. The data is also randomly being sampled to avoid space constraints"
   ]
  },
  {
   "cell_type": "code",
   "execution_count": 3,
   "metadata": {},
   "outputs": [
    {
     "name": "stderr",
     "output_type": "stream",
     "text": [
      "                                                                                \r"
     ]
    },
    {
     "name": "stdout",
     "output_type": "stream",
     "text": [
      "+-----+--------+------------+------------+-----------+-------------+----------+---------------+-----+-----------+---------+--------+----------+---------+--------+-------------+\n",
      "|month|time_bin|PULocationID|DOLocationID|day_of_week|trip_duration|peak_hours|weather_pattern|count|Temperature|Dew Point|Humidity|Wind Speed|Wind Gust|Pressure|Precipitation|\n",
      "+-----+--------+------------+------------+-----------+-------------+----------+---------------+-----+-----------+---------+--------+----------+---------+--------+-------------+\n",
      "|   12|      10|          68|         170|          2|          834|         1|              0| 2114|       36.0|     21.0|    55.0|      10.0|      0.0|    30.1|          0.0|\n",
      "|   12|      10|         161|         234|          2|          389|         1|              0| 2114|       36.0|     21.0|    55.0|      10.0|      0.0|    30.1|          0.0|\n",
      "|   12|      10|         107|         224|          2|          377|         1|              0| 2114|       36.0|     21.0|    55.0|      10.0|      0.0|    30.1|          0.0|\n",
      "|   12|      10|         239|         236|          2|          525|         1|              0| 2114|       36.0|     21.0|    55.0|      10.0|      0.0|    30.1|          0.0|\n",
      "|   12|      10|         107|          75|          2|          990|         1|              0| 2114|       36.0|     21.0|    55.0|      10.0|      0.0|    30.1|          0.0|\n",
      "+-----+--------+------------+------------+-----------+-------------+----------+---------------+-----+-----------+---------+--------+----------+---------+--------+-------------+\n",
      "only showing top 5 rows\n",
      "\n"
     ]
    }
   ],
   "source": [
    "taxi_train = sp.read.parquet(\"../data/processed/taxis_train/\").drop(\"year\", \"day\")\n",
    "taxi_train.show(5)"
   ]
  },
  {
   "cell_type": "code",
   "execution_count": 4,
   "metadata": {},
   "outputs": [
    {
     "name": "stdout",
     "output_type": "stream",
     "text": [
      "10462531\n",
      "4588377\n"
     ]
    }
   ],
   "source": [
    "X_train = taxi_train.filter((col(\"year\") == 2020) | (col(\"month\") < 9))\n",
    "X_val = taxi_train.filter((col(\"year\") == 2021) & (col(\"month\") > 8))\n",
    "\n",
    "print(X_train.count())\n",
    "print(X_val.count())"
   ]
  },
  {
   "cell_type": "markdown",
   "metadata": {},
   "source": [
    "Trying a GLM with gaussian distribution on a spark distributed base"
   ]
  },
  {
   "cell_type": "code",
   "execution_count": 5,
   "metadata": {},
   "outputs": [
    {
     "name": "stdout",
     "output_type": "stream",
     "text": [
      "root\n",
      " |-- month: integer (nullable = true)\n",
      " |-- time_bin: integer (nullable = true)\n",
      " |-- PULocationID: long (nullable = true)\n",
      " |-- DOLocationID: long (nullable = true)\n",
      " |-- day_of_week: integer (nullable = true)\n",
      " |-- trip_duration: long (nullable = true)\n",
      " |-- peak_hours: integer (nullable = true)\n",
      " |-- weather_pattern: integer (nullable = true)\n",
      " |-- count: long (nullable = true)\n",
      " |-- Temperature: double (nullable = true)\n",
      " |-- Dew Point: double (nullable = true)\n",
      " |-- Humidity: double (nullable = true)\n",
      " |-- Wind Speed: double (nullable = true)\n",
      " |-- Wind Gust: double (nullable = true)\n",
      " |-- Pressure: double (nullable = true)\n",
      " |-- Precipitation: double (nullable = true)\n",
      "\n"
     ]
    }
   ],
   "source": [
    "X_train.printSchema()"
   ]
  },
  {
   "cell_type": "markdown",
   "metadata": {},
   "source": [
    "Converting required columns to categorical"
   ]
  },
  {
   "cell_type": "code",
   "execution_count": 61,
   "metadata": {},
   "outputs": [],
   "source": [
    "categories = [\"month\", \"time_bin\", \"PULocationID\", \"DOLocationID\", \"day_of_week\", \"weather_pattern\"]\n",
    "\n",
    "indexers = [StringIndexer(inputCol=c, outputCol=c+\"_index\") for c in categories]\n",
    "encoders = [OneHotEncoder(inputCol=c+\"_index\", outputCol=c+\"_encoded\") for c in categories]\n",
    "#assembler = [VectorAssembler(inputCols=[c for X_train], outputCol=c+\"_assembled\") for c in X_train.columns if \"_encoded\" in c]\n",
    "pipeline = Pipeline(stages=indexers + encoders) #+ assembler)"
   ]
  },
  {
   "cell_type": "code",
   "execution_count": 62,
   "metadata": {},
   "outputs": [
    {
     "name": "stderr",
     "output_type": "stream",
     "text": [
      "                                                                                \r"
     ]
    },
    {
     "data": {
      "text/plain": [
       "[Row(month=8, time_bin=5, PULocationID=246, DOLocationID=163, day_of_week=4, trip_duration=1356, peak_hours=0, weather_pattern=1, count=2575, Temperature=76.0, Dew Point=69.0, Humidity=79.0, Wind Speed=6.0, Wind Gust=0.0, Pressure=30.0, Precipitation=0.0, month_index=0.0, time_bin_index=7.0, PULocationID_index=22.0, DOLocationID_index=19.0, day_of_week_index=2.0, weather_pattern_index=1.0, month_encoded=SparseVector(11, {0: 1.0}), time_bin_encoded=SparseVector(23, {7: 1.0}), PULocationID_encoded=SparseVector(59, {22: 1.0}), DOLocationID_encoded=SparseVector(59, {19: 1.0}), day_of_week_encoded=SparseVector(4, {2: 1.0}), weather_pattern_encoded=SparseVector(2, {1: 1.0}))]"
      ]
     },
     "execution_count": 62,
     "metadata": {},
     "output_type": "execute_result"
    }
   ],
   "source": [
    "X_train_transformed = pipeline.fit(X_train.dropna()).transform(X_train.dropna())\n",
    "X_train_transformed.head(1)"
   ]
  },
  {
   "cell_type": "code",
   "execution_count": 63,
   "metadata": {},
   "outputs": [],
   "source": [
    "assembler = VectorAssembler(\n",
    "    inputCols= [c for c in X_train_transformed.drop(\"trip_duration\").columns if not (c in categories) and not (\"_index\" in c)],\n",
    "    outputCol=\"features\"\n",
    ")"
   ]
  },
  {
   "cell_type": "code",
   "execution_count": 64,
   "metadata": {},
   "outputs": [
    {
     "name": "stdout",
     "output_type": "stream",
     "text": [
      "+--------------------+-------------+\n",
      "|            features|trip_duration|\n",
      "+--------------------+-------------+\n",
      "|(167,[1,2,3,4,5,7...|         1356|\n",
      "|(167,[1,2,3,4,5,7...|         1349|\n",
      "+--------------------+-------------+\n",
      "only showing top 2 rows\n",
      "\n"
     ]
    }
   ],
   "source": [
    "X_train_assembled = assembler.transform(X_train_transformed)\n",
    "X_train_assembled.select(\"features\", \"trip_duration\").show(2)"
   ]
  },
  {
   "cell_type": "code",
   "execution_count": 58,
   "metadata": {},
   "outputs": [
    {
     "data": {
      "text/plain": [
       "[Row(features=SparseVector(167, {1: 2575.0, 2: 76.0, 3: 69.0, 4: 79.0, 5: 6.0, 7: 30.0, 9: 1.0, 27: 1.0, 65: 1.0, 121: 1.0, 163: 1.0, 166: 1.0}), label=1356),\n",
       " Row(features=SparseVector(167, {1: 2575.0, 2: 76.0, 3: 69.0, 4: 79.0, 5: 6.0, 7: 30.0, 9: 1.0, 27: 1.0, 44: 1.0, 136: 1.0, 163: 1.0, 166: 1.0}), label=1349)]"
      ]
     },
     "execution_count": 58,
     "metadata": {},
     "output_type": "execute_result"
    }
   ],
   "source": [
    "X_train_assembled.select(\"features\", \"trip_duration\").withColumnRenamed(\"trip_duration\", \"label\").head(2)"
   ]
  },
  {
   "cell_type": "code",
   "execution_count": 65,
   "metadata": {},
   "outputs": [
    {
     "name": "stderr",
     "output_type": "stream",
     "text": [
      "[Stage 186:>                                                        (0 + 8) / 8]\r"
     ]
    },
    {
     "name": "stdout",
     "output_type": "stream",
     "text": [
      "22/08/24 18:40:57 WARN InstanceBuilder$JavaBLAS: Failed to load implementation from:dev.ludovic.netlib.blas.VectorBLAS\n",
      "22/08/24 18:40:57 WARN InstanceBuilder$NativeBLAS: Failed to load implementation from:dev.ludovic.netlib.blas.JNIBLAS\n",
      "22/08/24 18:40:57 WARN InstanceBuilder$NativeBLAS: Failed to load implementation from:dev.ludovic.netlib.blas.ForeignLinkerBLAS\n"
     ]
    },
    {
     "name": "stderr",
     "output_type": "stream",
     "text": [
      "                                                                                \r"
     ]
    },
    {
     "name": "stdout",
     "output_type": "stream",
     "text": [
      "22/08/24 18:41:09 WARN InstanceBuilder$NativeLAPACK: Failed to load implementation from:dev.ludovic.netlib.lapack.JNILAPACK\n"
     ]
    },
    {
     "name": "stderr",
     "output_type": "stream",
     "text": [
      "[Stage 204:=================================================>       (7 + 1) / 8]\r"
     ]
    },
    {
     "name": "stdout",
     "output_type": "stream",
     "text": [
      "Coefficients:\n",
      "             Feature Estimate Std Error  T Value P Value\n",
      "         (Intercept)   6.5299    0.0094 691.5588  0.0000\n",
      "          peak_hours  -0.0093    0.0002 -38.7869  0.0000\n",
      "               count   0.0001    0.0000 395.1094  0.0000\n",
      "         Temperature  -0.0033    0.0001 -41.7993  0.0000\n",
      "           Dew Point   0.0036    0.0001  42.5535  0.0000\n",
      "            Humidity  -0.0017    0.0000 -39.5407  0.0000\n",
      "          Wind Speed  -0.0021    0.0000 -49.9765  0.0000\n",
      "           Wind Gust   0.0000    0.0000   1.4194  0.1558\n",
      "            Pressure   0.0029    0.0003   9.9614  0.0000\n",
      "       Precipitation  -0.0003    0.0003  -1.1075  0.2681\n",
      "     month_encoded_8  -0.0033    0.0003 -12.3029  0.0000\n",
      "     month_encoded_7  -0.0028    0.0003 -10.4613  0.0000\n",
      "     month_encoded_6   0.0037    0.0003  13.7220  0.0000\n",
      "     month_encoded_5  -0.0013    0.0003  -4.8885  0.0000\n",
      "     month_encoded_4  -0.0051    0.0003 -18.4748  0.0000\n",
      "     month_encoded_3  -0.0064    0.0003 -23.0912  0.0000\n",
      "    month_encoded_10   0.0054    0.0003  19.3657  0.0000\n",
      "    month_encoded_12   0.0049    0.0003  17.3448  0.0000\n",
      "    month_encoded_11   0.0031    0.0003  11.2585  0.0000\n",
      "     month_encoded_9   0.0073    0.0003  25.8189  0.0000\n",
      "     month_encoded_2   0.0024    0.0003   8.3520  0.0000\n",
      " time_bin_encoded_14  -0.0116    0.0003 -42.2460  0.0000\n",
      " time_bin_encoded_15  -0.0225    0.0003 -81.1719  0.0000\n",
      " time_bin_encoded_13   0.0104    0.0003  37.8550  0.0000\n",
      " time_bin_encoded_11   0.0168    0.0003  60.5202  0.0000\n",
      " time_bin_encoded_12   0.0190    0.0003  68.2881  0.0000\n",
      " time_bin_encoded_10   0.0127    0.0003  45.4441  0.0000\n",
      "  time_bin_encoded_4   0.0020    0.0003   7.1118  0.0000\n",
      "  time_bin_encoded_5   0.0060    0.0003  21.4233  0.0000\n",
      "  time_bin_encoded_9   0.0071    0.0003  25.1831  0.0000\n",
      "  time_bin_encoded_8   0.0076    0.0003  26.8233  0.0000\n",
      " time_bin_encoded_16  -0.0147    0.0003 -52.0011  0.0000\n",
      "  time_bin_encoded_7   0.0081    0.0003  28.8116  0.0000\n",
      "  time_bin_encoded_6   0.0070    0.0003  24.6527  0.0000\n",
      " time_bin_encoded_17  -0.0119    0.0003 -41.3885  0.0000\n",
      " time_bin_encoded_18  -0.0101    0.0003 -35.1540  0.0000\n",
      "  time_bin_encoded_3  -0.0028    0.0003  -9.6835  0.0000\n",
      " time_bin_encoded_19  -0.0083    0.0003 -28.3825  0.0000\n",
      " time_bin_encoded_20  -0.0048    0.0003 -16.2646  0.0000\n",
      "  time_bin_encoded_2  -0.0041    0.0003 -13.8551  0.0000\n",
      " time_bin_encoded_21  -0.0028    0.0003  -9.3372  0.0000\n",
      " time_bin_encoded_22  -0.0014    0.0003  -4.6292  0.0000\n",
      "  time_bin_encoded_1  -0.0009    0.0003  -3.0799  0.0021\n",
      " time_bin_encoded_23  -0.0006    0.0003  -2.0091  0.0445\n",
      "PULocationID_enco...  -0.0103    0.0003 -35.9175  0.0000\n",
      "PULocationID_enco...  -0.0019    0.0003  -6.4480  0.0000\n",
      "PULocationID_enco...  -0.0045    0.0003 -15.5950  0.0000\n",
      "PULocationID_enco...  -0.0012    0.0003  -4.1543  0.0000\n",
      "PULocationID_enco...  -0.0073    0.0003 -25.2383  0.0000\n",
      "PULocationID_enco...  -0.0051    0.0003 -17.5869  0.0000\n",
      "PULocationID_enco...  -0.0032    0.0003 -10.9500  0.0000\n",
      "PULocationID_enco...  -0.0040    0.0003 -13.6557  0.0000\n",
      "PULocationID_enco...  -0.0069    0.0003 -23.7557  0.0000\n",
      "PULocationID_enco...  -0.0020    0.0003  -6.8375  0.0000\n",
      "PULocationID_enco...  -0.0042    0.0003 -14.2758  0.0000\n",
      "PULocationID_enco...   0.0007    0.0003   2.2388  0.0252\n",
      "PULocationID_enco...  -0.0036    0.0003 -12.2438  0.0000\n",
      "PULocationID_enco...  -0.0026    0.0003  -8.9681  0.0000\n",
      "PULocationID_enco...   0.0083    0.0003  28.2775  0.0000\n",
      "PULocationID_enco...  -0.0044    0.0003 -15.0684  0.0000\n",
      "PULocationID_enco...   0.0023    0.0003   7.8875  0.0000\n",
      "PULocationID_enco...   0.0009    0.0003   3.1151  0.0018\n",
      "PULocationID_enco...  -0.0028    0.0003  -9.4563  0.0000\n",
      "PULocationID_enco...  -0.0042    0.0003 -14.2909  0.0000\n",
      "PULocationID_enco...  -0.0008    0.0003  -2.6573  0.0079\n",
      "PULocationID_enco...  -0.0061    0.0003 -20.7332  0.0000\n",
      "PULocationID_enco...   0.0031    0.0003  10.4136  0.0000\n",
      "PULocationID_enco...  -0.0060    0.0003 -20.3242  0.0000\n",
      "PULocationID_enco...   0.0027    0.0003   9.2461  0.0000\n",
      "PULocationID_enco...  -0.0030    0.0003 -10.1305  0.0000\n",
      "PULocationID_enco...  -0.0039    0.0003 -13.2098  0.0000\n",
      "PULocationID_enco...   0.0077    0.0003  26.1719  0.0000\n",
      "PULocationID_enco...   0.0005    0.0003   1.7221  0.0851\n",
      "PULocationID_enco...   0.0045    0.0003  15.1428  0.0000\n",
      "PULocationID_enco...  -0.0016    0.0003  -5.5103  0.0000\n",
      "PULocationID_enco...   0.0026    0.0003   8.8344  0.0000\n",
      "PULocationID_enco...  -0.0035    0.0003 -11.8667  0.0000\n",
      "PULocationID_enco...  -0.0008    0.0003  -2.6805  0.0074\n",
      "PULocationID_enco...  -0.0021    0.0003  -7.1770  0.0000\n",
      "PULocationID_enco...   0.0014    0.0003   4.8084  0.0000\n",
      "PULocationID_enco...   0.0030    0.0003  10.0872  0.0000\n",
      "PULocationID_enco...   0.0025    0.0003   8.4309  0.0000\n",
      "PULocationID_enco...  -0.0011    0.0003  -3.7406  0.0002\n",
      "PULocationID_enco...   0.0016    0.0003   5.3802  0.0000\n",
      "PULocationID_enco...   0.0017    0.0003   5.5806  0.0000\n",
      "PULocationID_enco...   0.0015    0.0003   4.9000  0.0000\n",
      "PULocationID_enco...   0.0073    0.0003  24.6843  0.0000\n",
      "PULocationID_enco...   0.0121    0.0003  40.4247  0.0000\n",
      "PULocationID_enco...   0.0034    0.0003  11.4083  0.0000\n",
      "PULocationID_enco...   0.0061    0.0003  20.4903  0.0000\n",
      "PULocationID_enco...  -0.0025    0.0003  -8.4439  0.0000\n",
      "PULocationID_enco...   0.0046    0.0003  15.4443  0.0000\n",
      "PULocationID_enco...   0.0040    0.0003  13.4064  0.0000\n",
      "PULocationID_enco...   0.0023    0.0003   7.6459  0.0000\n",
      "PULocationID_enco...  -0.0008    0.0003  -2.6465  0.0081\n",
      "PULocationID_enco...   0.0043    0.0003  14.1631  0.0000\n",
      "PULocationID_enco...   0.0007    0.0003   2.4299  0.0151\n",
      "PULocationID_enco...   0.0012    0.0003   3.8877  0.0001\n",
      "PULocationID_enco...   0.0006    0.0003   1.9067  0.0566\n",
      "PULocationID_enco...   0.0019    0.0003   6.1497  0.0000\n",
      "PULocationID_enco...   0.0029    0.0003   9.7772  0.0000\n",
      "PULocationID_enco...   0.0017    0.0003   5.7519  0.0000\n",
      "PULocationID_enco...   0.0021    0.0003   6.9810  0.0000\n",
      "DOLocationID_enco...  -0.0046    0.0003 -16.0543  0.0000\n",
      "DOLocationID_enco...  -0.0073    0.0003 -25.2785  0.0000\n",
      "DOLocationID_enco...  -0.0066    0.0003 -22.8243  0.0000\n",
      "DOLocationID_enco...  -0.0091    0.0003 -31.4378  0.0000\n",
      "DOLocationID_enco...  -0.0071    0.0003 -24.3481  0.0000\n",
      "DOLocationID_enco...  -0.0016    0.0003  -5.3888  0.0000\n",
      "DOLocationID_enco...  -0.0060    0.0003 -20.4825  0.0000\n",
      "DOLocationID_enco...  -0.0046    0.0003 -15.8942  0.0000\n",
      "DOLocationID_enco...   0.0051    0.0003  17.3646  0.0000\n",
      "DOLocationID_enco...  -0.0028    0.0003  -9.4930  0.0000\n",
      "DOLocationID_enco...  -0.0035    0.0003 -12.1007  0.0000\n",
      "DOLocationID_enco...  -0.0016    0.0003  -5.4646  0.0000\n",
      "DOLocationID_enco...  -0.0067    0.0003 -22.9834  0.0000\n",
      "DOLocationID_enco...  -0.0007    0.0003  -2.3326  0.0197\n",
      "DOLocationID_enco...   0.0039    0.0003  13.4956  0.0000\n",
      "DOLocationID_enco...   0.0123    0.0003  42.0455  0.0000\n",
      "DOLocationID_enco...  -0.0006    0.0003  -2.0831  0.0372\n",
      "DOLocationID_enco...  -0.0036    0.0003 -12.1930  0.0000\n",
      "DOLocationID_enco...   0.0011    0.0003   3.8423  0.0001\n",
      "DOLocationID_enco...  -0.0049    0.0003 -16.8778  0.0000\n",
      "DOLocationID_enco...  -0.0039    0.0003 -13.1818  0.0000\n",
      "DOLocationID_enco...  -0.0068    0.0003 -23.1034  0.0000\n",
      "DOLocationID_enco...  -0.0026    0.0003  -9.0003  0.0000\n",
      "DOLocationID_enco...  -0.0055    0.0003 -18.5539  0.0000\n",
      "DOLocationID_enco...  -0.0035    0.0003 -11.8472  0.0000\n",
      "DOLocationID_enco...  -0.0043    0.0003 -14.6592  0.0000\n",
      "DOLocationID_enco...   0.0006    0.0003   2.1196  0.0340\n",
      "DOLocationID_enco...   0.0094    0.0003  31.8123  0.0000\n",
      "DOLocationID_enco...  -0.0059    0.0003 -19.9815  0.0000\n",
      "DOLocationID_enco...  -0.0054    0.0003 -18.3778  0.0000\n",
      "DOLocationID_enco...   0.0015    0.0003   5.1138  0.0000\n",
      "DOLocationID_enco...  -0.0011    0.0003  -3.7913  0.0001\n",
      "DOLocationID_enco...  -0.0030    0.0003 -10.2684  0.0000\n",
      "DOLocationID_enco...  -0.0008    0.0003  -2.7154  0.0066\n",
      "DOLocationID_enco...  -0.0005    0.0003  -1.7775  0.0755\n",
      "DOLocationID_enco...   0.0002    0.0003   0.8361  0.4031\n",
      "DOLocationID_enco...   0.0057    0.0003  19.0804  0.0000\n",
      "DOLocationID_enco...   0.0043    0.0003  14.4833  0.0000\n",
      "DOLocationID_enco...   0.0010    0.0003   3.5140  0.0004\n",
      "DOLocationID_enco...   0.0052    0.0003  17.4617  0.0000\n",
      "DOLocationID_enco...   0.0190    0.0003  63.8963  0.0000\n",
      "DOLocationID_enco...  -0.0002    0.0003  -0.6290  0.5294\n",
      "DOLocationID_enco...   0.0082    0.0003  27.4134  0.0000\n",
      "DOLocationID_enco...   0.0002    0.0003   0.7272  0.4671\n",
      "DOLocationID_enco...   0.0012    0.0003   4.1604  0.0000\n",
      "DOLocationID_enco...   0.0082    0.0003  27.5236  0.0000\n",
      "DOLocationID_enco...   0.0038    0.0003  12.7778  0.0000\n",
      "DOLocationID_enco...   0.0059    0.0003  19.6430  0.0000\n",
      "DOLocationID_enco...  -0.0011    0.0003  -3.5841  0.0003\n",
      "DOLocationID_enco...   0.0008    0.0003   2.8169  0.0048\n",
      "DOLocationID_enco...   0.0053    0.0003  17.4950  0.0000\n",
      "DOLocationID_enco...   0.0012    0.0003   3.9571  0.0001\n",
      "DOLocationID_enco...   0.0009    0.0003   2.9771  0.0029\n",
      "DOLocationID_enco...   0.0003    0.0003   0.9259  0.3545\n",
      "DOLocationID_enco...  -0.0005    0.0003  -1.8127  0.0699\n",
      "DOLocationID_enco...   0.0033    0.0003  11.0048  0.0000\n",
      "DOLocationID_enco...   0.0026    0.0003   8.5625  0.0000\n",
      "DOLocationID_enco...   0.0022    0.0003   7.3685  0.0000\n",
      "DOLocationID_enco...   0.0025    0.0003   8.1744  0.0000\n",
      "day_of_week_encod...   0.0028    0.0002  11.3573  0.0000\n",
      "day_of_week_encod...   0.0094    0.0002  37.8524  0.0000\n",
      "day_of_week_encod...   0.0029    0.0002  11.7238  0.0000\n",
      "day_of_week_encod...   0.0008    0.0003   3.1697  0.0015\n",
      "weather_pattern_e...   0.0049    0.0002  19.8743  0.0000\n",
      "weather_pattern_e...  -0.0036    0.0003 -13.1998  0.0000\n",
      "\n",
      "(Dispersion parameter for gaussian family taken to be 177094.1922)\n",
      "    Null deviance: 1908232199417.1938 on 10461718 degrees of freedom\n",
      "Residual deviance: 1852709497903.7603 on 10461718 degrees of freedom\n",
      "AIC: 156115718.9226\n"
     ]
    },
    {
     "name": "stderr",
     "output_type": "stream",
     "text": [
      "                                                                                \r"
     ]
    }
   ],
   "source": [
    "glr1 = GeneralizedLinearRegression(family=\"gaussian\", link=\"log\", maxIter=10, regParam=0.3)\n",
    "\n",
    "model1 = glr1.fit(X_train_assembled.select(\"features\", \"trip_duration\").withColumnRenamed(\"trip_duration\", \"label\"))\n",
    "summary1 = model1.summary\n",
    "print(summary1)"
   ]
  },
  {
   "cell_type": "code",
   "execution_count": 70,
   "metadata": {},
   "outputs": [],
   "source": [
    "def pipe(data: DataFrame):\n",
    "    \"\"\"\n",
    "    Function to act as a pipeline to process and feed the model in vectorized format\n",
    "    \"\"\"\n",
    "    # List of categorical columns\n",
    "    categories = [\"month\", \"time_bin\", \"PULocationID\", \"DOLocationID\", \"day_of_week\", \"weather_pattern\"]\n",
    "    drop_columns = [\"trip_duration\", \"count\"]\n",
    "    # Add bike/taxi specific functions\n",
    "\n",
    "    # Pipeline\n",
    "    indexers = [StringIndexer(inputCol=c, outputCol=c+\"_index\") for c in categories]\n",
    "    encoders = [OneHotEncoder(inputCol=c+\"_index\", outputCol=c+\"_encoded\") for c in categories]\n",
    "    transformed = Pipeline(stages=indexers + encoders).fit(data.dropna()).transform(data.dropna())\n",
    "    assembled = VectorAssembler(\n",
    "        inputCols= [c for c in transformed.drop(\"trip_duration\").columns if not (c in categories) and not (\"_index\" in c)],\n",
    "        outputCol=\"features\"\n",
    "    ).transform(transformed)\n",
    "    \n",
    "    return assembled.withColumnRenamed(\"trip_duration\", \"label\")"
   ]
  },
  {
   "cell_type": "code",
   "execution_count": 71,
   "metadata": {},
   "outputs": [
    {
     "name": "stderr",
     "output_type": "stream",
     "text": [
      "                                                                                \r"
     ]
    },
    {
     "data": {
      "text/plain": [
       "[Row(month=12, time_bin=10, PULocationID=68, DOLocationID=170, day_of_week=2, label=834, peak_hours=1, weather_pattern=0, count=2114, Temperature=36.0, Dew Point=21.0, Humidity=55.0, Wind Speed=10.0, Wind Gust=0.0, Pressure=30.1, Precipitation=0.0, month_index=2.0, time_bin_index=5.0, PULocationID_index=8.0, DOLocationID_index=3.0, day_of_week_index=4.0, weather_pattern_index=2.0, month_encoded=SparseVector(11, {2: 1.0}), time_bin_encoded=SparseVector(23, {5: 1.0}), PULocationID_encoded=SparseVector(59, {8: 1.0}), DOLocationID_encoded=SparseVector(59, {3: 1.0}), day_of_week_encoded=SparseVector(4, {}), weather_pattern_encoded=SparseVector(2, {}), features=SparseVector(167, {0: 1.0, 1: 2114.0, 2: 36.0, 3: 21.0, 4: 55.0, 5: 10.0, 7: 30.1, 11: 1.0, 25: 1.0, 51: 1.0, 105: 1.0})),\n",
       " Row(month=12, time_bin=10, PULocationID=161, DOLocationID=234, day_of_week=2, label=389, peak_hours=1, weather_pattern=0, count=2114, Temperature=36.0, Dew Point=21.0, Humidity=55.0, Wind Speed=10.0, Wind Gust=0.0, Pressure=30.1, Precipitation=0.0, month_index=2.0, time_bin_index=5.0, PULocationID_index=2.0, DOLocationID_index=4.0, day_of_week_index=4.0, weather_pattern_index=2.0, month_encoded=SparseVector(11, {2: 1.0}), time_bin_encoded=SparseVector(23, {5: 1.0}), PULocationID_encoded=SparseVector(59, {2: 1.0}), DOLocationID_encoded=SparseVector(59, {4: 1.0}), day_of_week_encoded=SparseVector(4, {}), weather_pattern_encoded=SparseVector(2, {}), features=SparseVector(167, {0: 1.0, 1: 2114.0, 2: 36.0, 3: 21.0, 4: 55.0, 5: 10.0, 7: 30.1, 11: 1.0, 25: 1.0, 45: 1.0, 106: 1.0}))]"
      ]
     },
     "execution_count": 71,
     "metadata": {},
     "output_type": "execute_result"
    }
   ],
   "source": [
    "taxi_train_transformed = pipe(taxi_train)\n",
    "taxi_train_transformed.head(2)"
   ]
  },
  {
   "cell_type": "code",
   "execution_count": 72,
   "metadata": {},
   "outputs": [
    {
     "name": "stderr",
     "output_type": "stream",
     "text": [
      "                                                                                \r"
     ]
    },
    {
     "name": "stdout",
     "output_type": "stream",
     "text": [
      "10461886\n"
     ]
    },
    {
     "name": "stderr",
     "output_type": "stream",
     "text": [
      "[Stage 246:=================================================>       (7 + 1) / 8]\r"
     ]
    },
    {
     "name": "stdout",
     "output_type": "stream",
     "text": [
      "4588377\n"
     ]
    },
    {
     "name": "stderr",
     "output_type": "stream",
     "text": [
      "                                                                                \r"
     ]
    }
   ],
   "source": [
    "X_train = taxi_train_transformed.filter((col(\"year\") == 2020) | (col(\"month\") < 9))\n",
    "X_val = taxi_train_transformed.filter((col(\"year\") == 2021) & (col(\"month\") > 8))\n",
    "\n",
    "print(X_train.count())\n",
    "print(X_val.count())"
   ]
  },
  {
   "cell_type": "code",
   "execution_count": 73,
   "metadata": {},
   "outputs": [
    {
     "name": "stderr",
     "output_type": "stream",
     "text": [
      "[Stage 267:=================================================>       (7 + 1) / 8]\r"
     ]
    },
    {
     "name": "stdout",
     "output_type": "stream",
     "text": [
      "Coefficients:\n",
      "             Feature Estimate Std Error  T Value P Value\n",
      "         (Intercept)   6.5299    0.0094 691.5588  0.0000\n",
      "          peak_hours  -0.0093    0.0002 -38.7869  0.0000\n",
      "               count   0.0001    0.0000 395.1094  0.0000\n",
      "         Temperature  -0.0033    0.0001 -41.7993  0.0000\n",
      "           Dew Point   0.0036    0.0001  42.5535  0.0000\n",
      "            Humidity  -0.0017    0.0000 -39.5407  0.0000\n",
      "          Wind Speed  -0.0021    0.0000 -49.9765  0.0000\n",
      "           Wind Gust   0.0000    0.0000   1.4194  0.1558\n",
      "            Pressure   0.0029    0.0003   9.9614  0.0000\n",
      "       Precipitation  -0.0003    0.0003  -1.1075  0.2681\n",
      "    month_encoded_10   0.0054    0.0003  19.3657  0.0000\n",
      "    month_encoded_11   0.0031    0.0003  11.2585  0.0000\n",
      "    month_encoded_12   0.0049    0.0003  17.3448  0.0000\n",
      "     month_encoded_9   0.0073    0.0003  25.8189  0.0000\n",
      "     month_encoded_8  -0.0033    0.0003 -12.3029  0.0000\n",
      "     month_encoded_7  -0.0028    0.0003 -10.4613  0.0000\n",
      "     month_encoded_6   0.0037    0.0003  13.7220  0.0000\n",
      "     month_encoded_5  -0.0013    0.0003  -4.8885  0.0000\n",
      "     month_encoded_4  -0.0051    0.0003 -18.4748  0.0000\n",
      "     month_encoded_3  -0.0064    0.0003 -23.0912  0.0000\n",
      "     month_encoded_2   0.0024    0.0003   8.3520  0.0000\n",
      " time_bin_encoded_14  -0.0116    0.0003 -42.2460  0.0000\n",
      " time_bin_encoded_15  -0.0225    0.0003 -81.1719  0.0000\n",
      " time_bin_encoded_13   0.0104    0.0003  37.8550  0.0000\n",
      " time_bin_encoded_11   0.0168    0.0003  60.5202  0.0000\n",
      " time_bin_encoded_12   0.0190    0.0003  68.2881  0.0000\n",
      " time_bin_encoded_10   0.0127    0.0003  45.4441  0.0000\n",
      "  time_bin_encoded_4   0.0020    0.0003   7.1118  0.0000\n",
      " time_bin_encoded_16  -0.0147    0.0003 -52.0011  0.0000\n",
      "  time_bin_encoded_5   0.0060    0.0003  21.4233  0.0000\n",
      "  time_bin_encoded_9   0.0071    0.0003  25.1831  0.0000\n",
      "  time_bin_encoded_8   0.0076    0.0003  26.8233  0.0000\n",
      "  time_bin_encoded_7   0.0081    0.0003  28.8116  0.0000\n",
      "  time_bin_encoded_6   0.0070    0.0003  24.6527  0.0000\n",
      " time_bin_encoded_17  -0.0119    0.0003 -41.3885  0.0000\n",
      " time_bin_encoded_18  -0.0101    0.0003 -35.1540  0.0000\n",
      "  time_bin_encoded_3  -0.0028    0.0003  -9.6835  0.0000\n",
      " time_bin_encoded_19  -0.0083    0.0003 -28.3825  0.0000\n",
      " time_bin_encoded_20  -0.0048    0.0003 -16.2646  0.0000\n",
      "  time_bin_encoded_2  -0.0041    0.0003 -13.8551  0.0000\n",
      " time_bin_encoded_21  -0.0028    0.0003  -9.3372  0.0000\n",
      " time_bin_encoded_22  -0.0014    0.0003  -4.6292  0.0000\n",
      " time_bin_encoded_23  -0.0006    0.0003  -2.0091  0.0445\n",
      "  time_bin_encoded_1  -0.0009    0.0003  -3.0799  0.0021\n",
      "PULocationID_enco...  -0.0103    0.0003 -35.9175  0.0000\n",
      "PULocationID_enco...  -0.0019    0.0003  -6.4480  0.0000\n",
      "PULocationID_enco...  -0.0045    0.0003 -15.5950  0.0000\n",
      "PULocationID_enco...  -0.0012    0.0003  -4.1543  0.0000\n",
      "PULocationID_enco...  -0.0073    0.0003 -25.2383  0.0000\n",
      "PULocationID_enco...  -0.0051    0.0003 -17.5869  0.0000\n",
      "PULocationID_enco...  -0.0069    0.0003 -23.7557  0.0000\n",
      "PULocationID_enco...  -0.0032    0.0003 -10.9500  0.0000\n",
      "PULocationID_enco...   0.0007    0.0003   2.2388  0.0252\n",
      "PULocationID_enco...  -0.0042    0.0003 -14.2758  0.0000\n",
      "PULocationID_enco...  -0.0040    0.0003 -13.6557  0.0000\n",
      "PULocationID_enco...  -0.0020    0.0003  -6.8375  0.0000\n",
      "PULocationID_enco...  -0.0026    0.0003  -8.9681  0.0000\n",
      "PULocationID_enco...  -0.0036    0.0003 -12.2438  0.0000\n",
      "PULocationID_enco...   0.0083    0.0003  28.2775  0.0000\n",
      "PULocationID_enco...  -0.0044    0.0003 -15.0684  0.0000\n",
      "PULocationID_enco...  -0.0028    0.0003  -9.4563  0.0000\n",
      "PULocationID_enco...  -0.0042    0.0003 -14.2909  0.0000\n",
      "PULocationID_enco...  -0.0030    0.0003 -10.1305  0.0000\n",
      "PULocationID_enco...   0.0023    0.0003   7.8875  0.0000\n",
      "PULocationID_enco...   0.0031    0.0003  10.4136  0.0000\n",
      "PULocationID_enco...   0.0009    0.0003   3.1151  0.0018\n",
      "PULocationID_enco...  -0.0061    0.0003 -20.7332  0.0000\n",
      "PULocationID_enco...  -0.0008    0.0003  -2.6573  0.0079\n",
      "PULocationID_enco...  -0.0060    0.0003 -20.3242  0.0000\n",
      "PULocationID_enco...   0.0027    0.0003   9.2461  0.0000\n",
      "PULocationID_enco...  -0.0039    0.0003 -13.2098  0.0000\n",
      "PULocationID_enco...  -0.0016    0.0003  -5.5103  0.0000\n",
      "PULocationID_enco...   0.0005    0.0003   1.7221  0.0851\n",
      "PULocationID_enco...  -0.0035    0.0003 -11.8667  0.0000\n",
      "PULocationID_enco...   0.0077    0.0003  26.1719  0.0000\n",
      "PULocationID_enco...  -0.0021    0.0003  -7.1770  0.0000\n",
      "PULocationID_enco...   0.0045    0.0003  15.1428  0.0000\n",
      "PULocationID_enco...  -0.0008    0.0003  -2.6805  0.0074\n",
      "PULocationID_enco...   0.0030    0.0003  10.0872  0.0000\n",
      "PULocationID_enco...   0.0026    0.0003   8.8344  0.0000\n",
      "PULocationID_enco...   0.0014    0.0003   4.8084  0.0000\n",
      "PULocationID_enco...  -0.0011    0.0003  -3.7406  0.0002\n",
      "PULocationID_enco...   0.0025    0.0003   8.4309  0.0000\n",
      "PULocationID_enco...   0.0017    0.0003   5.5806  0.0000\n",
      "PULocationID_enco...   0.0016    0.0003   5.3802  0.0000\n",
      "PULocationID_enco...   0.0015    0.0003   4.9000  0.0000\n",
      "PULocationID_enco...   0.0073    0.0003  24.6843  0.0000\n",
      "PULocationID_enco...   0.0061    0.0003  20.4903  0.0000\n",
      "PULocationID_enco...  -0.0025    0.0003  -8.4439  0.0000\n",
      "PULocationID_enco...   0.0034    0.0003  11.4083  0.0000\n",
      "PULocationID_enco...   0.0121    0.0003  40.4247  0.0000\n",
      "PULocationID_enco...   0.0046    0.0003  15.4443  0.0000\n",
      "PULocationID_enco...   0.0040    0.0003  13.4064  0.0000\n",
      "PULocationID_enco...  -0.0008    0.0003  -2.6465  0.0081\n",
      "PULocationID_enco...   0.0023    0.0003   7.6459  0.0000\n",
      "PULocationID_enco...   0.0043    0.0003  14.1631  0.0000\n",
      "PULocationID_enco...   0.0012    0.0003   3.8877  0.0001\n",
      "PULocationID_enco...   0.0007    0.0003   2.4299  0.0151\n",
      "PULocationID_enco...   0.0006    0.0003   1.9067  0.0566\n",
      "PULocationID_enco...   0.0029    0.0003   9.7772  0.0000\n",
      "PULocationID_enco...   0.0019    0.0003   6.1497  0.0000\n",
      "PULocationID_enco...   0.0017    0.0003   5.7519  0.0000\n",
      "PULocationID_enco...   0.0021    0.0003   6.9810  0.0000\n",
      "DOLocationID_enco...  -0.0066    0.0003 -22.8243  0.0000\n",
      "DOLocationID_enco...  -0.0046    0.0003 -16.0543  0.0000\n",
      "DOLocationID_enco...  -0.0073    0.0003 -25.2785  0.0000\n",
      "DOLocationID_enco...  -0.0091    0.0003 -31.4378  0.0000\n",
      "DOLocationID_enco...  -0.0071    0.0003 -24.3481  0.0000\n",
      "DOLocationID_enco...  -0.0016    0.0003  -5.3888  0.0000\n",
      "DOLocationID_enco...  -0.0060    0.0003 -20.4825  0.0000\n",
      "DOLocationID_enco...  -0.0007    0.0003  -2.3326  0.0197\n",
      "DOLocationID_enco...  -0.0016    0.0003  -5.4646  0.0000\n",
      "DOLocationID_enco...  -0.0046    0.0003 -15.8942  0.0000\n",
      "DOLocationID_enco...  -0.0028    0.0003  -9.4930  0.0000\n",
      "DOLocationID_enco...  -0.0067    0.0003 -22.9834  0.0000\n",
      "DOLocationID_enco...   0.0039    0.0003  13.4956  0.0000\n",
      "DOLocationID_enco...  -0.0035    0.0003 -12.1007  0.0000\n",
      "DOLocationID_enco...   0.0051    0.0003  17.3646  0.0000\n",
      "DOLocationID_enco...  -0.0049    0.0003 -16.8778  0.0000\n",
      "DOLocationID_enco...   0.0123    0.0003  42.0455  0.0000\n",
      "DOLocationID_enco...  -0.0035    0.0003 -11.8472  0.0000\n",
      "DOLocationID_enco...  -0.0039    0.0003 -13.1818  0.0000\n",
      "DOLocationID_enco...  -0.0036    0.0003 -12.1930  0.0000\n",
      "DOLocationID_enco...  -0.0006    0.0003  -2.0831  0.0372\n",
      "DOLocationID_enco...  -0.0068    0.0003 -23.1034  0.0000\n",
      "DOLocationID_enco...   0.0011    0.0003   3.8423  0.0001\n",
      "DOLocationID_enco...  -0.0026    0.0003  -9.0003  0.0000\n",
      "DOLocationID_enco...  -0.0055    0.0003 -18.5539  0.0000\n",
      "DOLocationID_enco...  -0.0043    0.0003 -14.6592  0.0000\n",
      "DOLocationID_enco...  -0.0059    0.0003 -19.9815  0.0000\n",
      "DOLocationID_enco...   0.0006    0.0003   2.1196  0.0340\n",
      "DOLocationID_enco...  -0.0054    0.0003 -18.3778  0.0000\n",
      "DOLocationID_enco...   0.0094    0.0003  31.8123  0.0000\n",
      "DOLocationID_enco...  -0.0011    0.0003  -3.7913  0.0001\n",
      "DOLocationID_enco...  -0.0030    0.0003 -10.2684  0.0000\n",
      "DOLocationID_enco...  -0.0008    0.0003  -2.7154  0.0066\n",
      "DOLocationID_enco...   0.0015    0.0003   5.1138  0.0000\n",
      "DOLocationID_enco...  -0.0005    0.0003  -1.7775  0.0755\n",
      "DOLocationID_enco...   0.0057    0.0003  19.0804  0.0000\n",
      "DOLocationID_enco...   0.0010    0.0003   3.5140  0.0004\n",
      "DOLocationID_enco...   0.0002    0.0003   0.8361  0.4031\n",
      "DOLocationID_enco...   0.0043    0.0003  14.4833  0.0000\n",
      "DOLocationID_enco...   0.0052    0.0003  17.4617  0.0000\n",
      "DOLocationID_enco...  -0.0002    0.0003  -0.6290  0.5294\n",
      "DOLocationID_enco...   0.0082    0.0003  27.5236  0.0000\n",
      "DOLocationID_enco...   0.0082    0.0003  27.4134  0.0000\n",
      "DOLocationID_enco...   0.0012    0.0003   4.1604  0.0000\n",
      "DOLocationID_enco...   0.0190    0.0003  63.8963  0.0000\n",
      "DOLocationID_enco...   0.0002    0.0003   0.7272  0.4671\n",
      "DOLocationID_enco...  -0.0011    0.0003  -3.5841  0.0003\n",
      "DOLocationID_enco...   0.0038    0.0003  12.7778  0.0000\n",
      "DOLocationID_enco...   0.0059    0.0003  19.6430  0.0000\n",
      "DOLocationID_enco...   0.0008    0.0003   2.8169  0.0048\n",
      "DOLocationID_enco...   0.0053    0.0003  17.4950  0.0000\n",
      "DOLocationID_enco...   0.0012    0.0003   3.9571  0.0001\n",
      "DOLocationID_enco...   0.0009    0.0003   2.9771  0.0029\n",
      "DOLocationID_enco...   0.0033    0.0003  11.0048  0.0000\n",
      "DOLocationID_enco...   0.0003    0.0003   0.9259  0.3545\n",
      "DOLocationID_enco...  -0.0005    0.0003  -1.8127  0.0699\n",
      "DOLocationID_enco...   0.0026    0.0003   8.5625  0.0000\n",
      "DOLocationID_enco...   0.0022    0.0003   7.3685  0.0000\n",
      "DOLocationID_enco...   0.0025    0.0003   8.1744  0.0000\n",
      "day_of_week_encod...   0.0028    0.0002  11.3573  0.0000\n",
      "day_of_week_encod...   0.0094    0.0002  37.8524  0.0000\n",
      "day_of_week_encod...   0.0029    0.0002  11.7238  0.0000\n",
      "day_of_week_encod...   0.0008    0.0003   3.1697  0.0015\n",
      "weather_pattern_e...   0.0049    0.0002  19.8743  0.0000\n",
      "weather_pattern_e...  -0.0036    0.0003 -13.1998  0.0000\n",
      "\n",
      "(Dispersion parameter for gaussian family taken to be 177094.1922)\n",
      "    Null deviance: 1908232199417.1938 on 10461718 degrees of freedom\n",
      "Residual deviance: 1852709497903.6416 on 10461718 degrees of freedom\n",
      "AIC: 156115718.9226\n"
     ]
    },
    {
     "name": "stderr",
     "output_type": "stream",
     "text": [
      "                                                                                \r"
     ]
    }
   ],
   "source": [
    "# Testing general linear model without transformations\n",
    "glr2 = GeneralizedLinearRegression(family=\"gaussian\", link=\"log\", maxIter=10, regParam=0.3)\n",
    "\n",
    "model2 = glr2.fit(X_train.select(\"features\", \"label\"))\n",
    "summary2 = model2.summary\n",
    "print(summary2)"
   ]
  },
  {
   "cell_type": "code",
   "execution_count": 79,
   "metadata": {},
   "outputs": [],
   "source": [
    "outcome2 = model2.transform(X_val.select(\"features\", \"label\"))"
   ]
  },
  {
   "cell_type": "code",
   "execution_count": 78,
   "metadata": {},
   "outputs": [
    {
     "name": "stderr",
     "output_type": "stream",
     "text": [
      "[Stage 270:=================================================>       (7 + 1) / 8]\r"
     ]
    },
    {
     "name": "stdout",
     "output_type": "stream",
     "text": [
      "464.72833054735514\n"
     ]
    },
    {
     "name": "stderr",
     "output_type": "stream",
     "text": [
      "                                                                                \r"
     ]
    }
   ],
   "source": [
    "from pyspark.ml.evaluation import RegressionEvaluator\n",
    "\n",
    "evaluator = RegressionEvaluator(labelCol=\"label\", predictionCol=\"prediction\", metricName=\"rmse\")\n",
    "rmse = evaluator.evaluate(model2.transform(X_val.select(\"features\", \"label\")))\n",
    "print(rmse)"
   ]
  },
  {
   "cell_type": "code",
   "execution_count": 82,
   "metadata": {},
   "outputs": [
    {
     "name": "stderr",
     "output_type": "stream",
     "text": [
      "                                                                                \r"
     ]
    },
    {
     "name": "stdout",
     "output_type": "stream",
     "text": [
      "+------------------+\n",
      "|   var_samp(label)|\n",
      "+------------------+\n",
      "|222702.38552534615|\n",
      "+------------------+\n",
      "\n"
     ]
    }
   ],
   "source": [
    "outcome2.select(variance(\"label\")).show()"
   ]
  },
  {
   "cell_type": "code",
   "execution_count": 83,
   "metadata": {},
   "outputs": [
    {
     "data": {
      "text/plain": [
       "471.91312759871386"
      ]
     },
     "execution_count": 83,
     "metadata": {},
     "output_type": "execute_result"
    }
   ],
   "source": [
    "222702 ** 0.5"
   ]
  },
  {
   "cell_type": "markdown",
   "metadata": {},
   "source": []
  },
  {
   "cell_type": "code",
   "execution_count": 6,
   "metadata": {},
   "outputs": [
    {
     "name": "stderr",
     "output_type": "stream",
     "text": [
      "                                                                                \r"
     ]
    },
    {
     "data": {
      "text/html": [
       "<div>\n",
       "<style scoped>\n",
       "    .dataframe tbody tr th:only-of-type {\n",
       "        vertical-align: middle;\n",
       "    }\n",
       "\n",
       "    .dataframe tbody tr th {\n",
       "        vertical-align: top;\n",
       "    }\n",
       "\n",
       "    .dataframe thead th {\n",
       "        text-align: right;\n",
       "    }\n",
       "</style>\n",
       "<table border=\"1\" class=\"dataframe\">\n",
       "  <thead>\n",
       "    <tr style=\"text-align: right;\">\n",
       "      <th></th>\n",
       "      <th>month</th>\n",
       "      <th>time_bin</th>\n",
       "      <th>PULocationID</th>\n",
       "      <th>DOLocationID</th>\n",
       "      <th>day_of_week</th>\n",
       "      <th>trip_duration</th>\n",
       "      <th>peak_hours</th>\n",
       "      <th>weather_pattern</th>\n",
       "      <th>count</th>\n",
       "      <th>Temperature</th>\n",
       "      <th>Dew Point</th>\n",
       "      <th>Humidity</th>\n",
       "      <th>Wind Speed</th>\n",
       "      <th>Wind Gust</th>\n",
       "      <th>Pressure</th>\n",
       "      <th>Precipitation</th>\n",
       "    </tr>\n",
       "  </thead>\n",
       "  <tbody>\n",
       "    <tr>\n",
       "      <th>0</th>\n",
       "      <td>8</td>\n",
       "      <td>5</td>\n",
       "      <td>236</td>\n",
       "      <td>50</td>\n",
       "      <td>4</td>\n",
       "      <td>1349</td>\n",
       "      <td>0</td>\n",
       "      <td>1</td>\n",
       "      <td>2575</td>\n",
       "      <td>76.0</td>\n",
       "      <td>69.0</td>\n",
       "      <td>79.0</td>\n",
       "      <td>6.0</td>\n",
       "      <td>0.0</td>\n",
       "      <td>30.0</td>\n",
       "      <td>0.0</td>\n",
       "    </tr>\n",
       "    <tr>\n",
       "      <th>1</th>\n",
       "      <td>8</td>\n",
       "      <td>5</td>\n",
       "      <td>263</td>\n",
       "      <td>48</td>\n",
       "      <td>4</td>\n",
       "      <td>790</td>\n",
       "      <td>0</td>\n",
       "      <td>1</td>\n",
       "      <td>2575</td>\n",
       "      <td>76.0</td>\n",
       "      <td>69.0</td>\n",
       "      <td>79.0</td>\n",
       "      <td>6.0</td>\n",
       "      <td>0.0</td>\n",
       "      <td>30.0</td>\n",
       "      <td>0.0</td>\n",
       "    </tr>\n",
       "    <tr>\n",
       "      <th>2</th>\n",
       "      <td>8</td>\n",
       "      <td>5</td>\n",
       "      <td>246</td>\n",
       "      <td>237</td>\n",
       "      <td>4</td>\n",
       "      <td>1119</td>\n",
       "      <td>0</td>\n",
       "      <td>1</td>\n",
       "      <td>2575</td>\n",
       "      <td>76.0</td>\n",
       "      <td>69.0</td>\n",
       "      <td>79.0</td>\n",
       "      <td>6.0</td>\n",
       "      <td>0.0</td>\n",
       "      <td>30.0</td>\n",
       "      <td>0.0</td>\n",
       "    </tr>\n",
       "    <tr>\n",
       "      <th>3</th>\n",
       "      <td>8</td>\n",
       "      <td>5</td>\n",
       "      <td>249</td>\n",
       "      <td>211</td>\n",
       "      <td>4</td>\n",
       "      <td>636</td>\n",
       "      <td>0</td>\n",
       "      <td>1</td>\n",
       "      <td>2575</td>\n",
       "      <td>76.0</td>\n",
       "      <td>69.0</td>\n",
       "      <td>79.0</td>\n",
       "      <td>6.0</td>\n",
       "      <td>0.0</td>\n",
       "      <td>30.0</td>\n",
       "      <td>0.0</td>\n",
       "    </tr>\n",
       "    <tr>\n",
       "      <th>4</th>\n",
       "      <td>8</td>\n",
       "      <td>5</td>\n",
       "      <td>107</td>\n",
       "      <td>186</td>\n",
       "      <td>4</td>\n",
       "      <td>647</td>\n",
       "      <td>0</td>\n",
       "      <td>1</td>\n",
       "      <td>2575</td>\n",
       "      <td>76.0</td>\n",
       "      <td>69.0</td>\n",
       "      <td>79.0</td>\n",
       "      <td>6.0</td>\n",
       "      <td>0.0</td>\n",
       "      <td>30.0</td>\n",
       "      <td>0.0</td>\n",
       "    </tr>\n",
       "  </tbody>\n",
       "</table>\n",
       "</div>"
      ],
      "text/plain": [
       "   month  time_bin  PULocationID  DOLocationID  day_of_week  trip_duration  \\\n",
       "0      8         5           236            50            4           1349   \n",
       "1      8         5           263            48            4            790   \n",
       "2      8         5           246           237            4           1119   \n",
       "3      8         5           249           211            4            636   \n",
       "4      8         5           107           186            4            647   \n",
       "\n",
       "   peak_hours  weather_pattern  count  Temperature  Dew Point  Humidity  \\\n",
       "0           0                1   2575         76.0       69.0      79.0   \n",
       "1           0                1   2575         76.0       69.0      79.0   \n",
       "2           0                1   2575         76.0       69.0      79.0   \n",
       "3           0                1   2575         76.0       69.0      79.0   \n",
       "4           0                1   2575         76.0       69.0      79.0   \n",
       "\n",
       "   Wind Speed  Wind Gust  Pressure  Precipitation  \n",
       "0         6.0        0.0      30.0            0.0  \n",
       "1         6.0        0.0      30.0            0.0  \n",
       "2         6.0        0.0      30.0            0.0  \n",
       "3         6.0        0.0      30.0            0.0  \n",
       "4         6.0        0.0      30.0            0.0  "
      ]
     },
     "execution_count": 6,
     "metadata": {},
     "output_type": "execute_result"
    }
   ],
   "source": [
    "X_train_pd = X_train.sample(0.25).toPandas()\n",
    "X_train_pd.head()"
   ]
  },
  {
   "cell_type": "code",
   "execution_count": 18,
   "metadata": {},
   "outputs": [
    {
     "name": "stdout",
     "output_type": "stream",
     "text": [
      "Model: \"sequential_2\"\n",
      "_________________________________________________________________\n",
      " Layer (type)                Output Shape              Param #   \n",
      "=================================================================\n",
      " dense_6 (Dense)             (None, 128)               1024      \n",
      "                                                                 \n",
      " dropout_4 (Dropout)         (None, 128)               0         \n",
      "                                                                 \n",
      " dense_7 (Dense)             (None, 64)                8256      \n",
      "                                                                 \n",
      " dropout_5 (Dropout)         (None, 64)                0         \n",
      "                                                                 \n",
      " dense_8 (Dense)             (None, 1)                 65        \n",
      "                                                                 \n",
      "=================================================================\n",
      "Total params: 9,345\n",
      "Trainable params: 9,345\n",
      "Non-trainable params: 0\n",
      "_________________________________________________________________\n"
     ]
    }
   ],
   "source": [
    "model = Sequential()\n",
    "\n",
    "model.add(Dense(128, input_shape=(len(X_train.columns) - 1, ), activation='relu'))\n",
    "model.add(Dropout(0.2))\n",
    "model.add(Dense(64, activation='relu'))\n",
    "model.add(Dropout(0.1))\n",
    "\n",
    "model.add(Dense(1, activation='relu'))\n",
    "\n",
    "model.summary()"
   ]
  },
  {
   "cell_type": "code",
   "execution_count": 19,
   "metadata": {},
   "outputs": [],
   "source": [
    "model.compile(loss=\"mean_squared_error\", optimizer=\"adam\", metrics=[\"accuracy\"])"
   ]
  },
  {
   "cell_type": "code",
   "execution_count": 8,
   "metadata": {},
   "outputs": [],
   "source": [
    "y_train = X_train_pd[\"trip_duration\"]\n",
    "X_train_pd_x = X_train_pd.drop([\"trip_duration\"], axis=1)\n",
    "\n",
    "sc = StandardScaler()\n",
    "X_train_pd_x_scaled = sc.fit_transform(X_train_pd_x.values)"
   ]
  },
  {
   "cell_type": "code",
   "execution_count": 9,
   "metadata": {},
   "outputs": [
    {
     "data": {
      "text/plain": [
       "array([[ 0.4597196 , -1.16717755, -1.01797639,  0.38120244, -0.10861665,\n",
       "        -0.66504068,  0.69536124,  0.75670975,  1.23960898,  1.18296872,\n",
       "        -0.80262976, -0.45293955,  0.01036787, -0.13483045],\n",
       "       [ 0.4597196 , -1.16717755,  1.27595914,  0.92029807, -0.10861665,\n",
       "        -0.66504068,  0.69536124,  0.75670975,  1.23960898,  1.18296872,\n",
       "        -0.80262976, -0.45293955,  0.01036787, -0.13483045]])"
      ]
     },
     "execution_count": 9,
     "metadata": {},
     "output_type": "execute_result"
    }
   ],
   "source": [
    "X_train_pd_x_scaled[:2]"
   ]
  },
  {
   "cell_type": "code",
   "execution_count": 21,
   "metadata": {},
   "outputs": [
    {
     "name": "stdout",
     "output_type": "stream",
     "text": [
      "Epoch 1/5\n",
      "52422/52422 [==============================] - 131s 2ms/step - loss: 3580154.5000 - accuracy: 8.9420e-07 - val_loss: 7533423.0000 - val_accuracy: 0.0000e+00\n",
      "Epoch 2/5\n",
      "52422/52422 [==============================] - 102s 2ms/step - loss: 3575298.0000 - accuracy: 8.9420e-07 - val_loss: 7528290.0000 - val_accuracy: 0.0000e+00\n",
      "Epoch 3/5\n",
      "52422/52422 [==============================] - 106s 2ms/step - loss: 3573400.0000 - accuracy: 8.9420e-07 - val_loss: 7538627.5000 - val_accuracy: 0.0000e+00\n",
      "Epoch 4/5\n",
      "52422/52422 [==============================] - 148s 3ms/step - loss: 3571444.5000 - accuracy: 8.9420e-07 - val_loss: 7523749.0000 - val_accuracy: 0.0000e+00\n",
      "Epoch 5/5\n",
      "52422/52422 [==============================] - 157s 3ms/step - loss: 3570768.0000 - accuracy: 8.9420e-07 - val_loss: 7538699.0000 - val_accuracy: 0.0000e+00\n"
     ]
    },
    {
     "ename": "",
     "evalue": "",
     "output_type": "error",
     "traceback": [
      "The Kernel crashed while executing code in the the current cell or a previous cell. Please review the code in the cell(s) to identify a possible cause of the failure. Click <a href='https://aka.ms/vscodeJupyterKernelCrash'>here</a> for more info. View Jupyter <a href='command:jupyter.viewOutput'>log</a> for further details."
     ]
    }
   ],
   "source": [
    "# history = model.fit(X_train_pd_x_scaled, y_train, epochs=5, batch_size=64, validation_split=0.2)\n",
    "y_train = X_train_pd[\"trip_duration\"]\n",
    "history = model.fit(X_train_pd.drop([\"trip_duration\"], axis=1).values, y_train, epochs=5, batch_size=64, validation_split=0.2)"
   ]
  },
  {
   "cell_type": "code",
   "execution_count": 33,
   "metadata": {},
   "outputs": [
    {
     "name": "stderr",
     "output_type": "stream",
     "text": [
      "                                                                                \r"
     ]
    },
    {
     "data": {
      "text/plain": [
       "Coefficients:\n",
       "      Feature Estimate Std Error   T Value P Value\n",
       "  (Intercept)   0.0011    0.0000   52.7675  0.0000\n",
       "        month   0.0000    0.0000  -39.6288  0.0000\n",
       "     time_bin   0.0000    0.0000  134.8782  0.0000\n",
       " PULocationID   0.0000    0.0000   34.7926  0.0000\n",
       " DOLocationID   0.0000    0.0000   52.3010  0.0000\n",
       "  day_of_week   0.0000    0.0000  -13.3189  0.0000\n",
       "   peak_hours   0.0000    0.0000   14.7386  0.0000\n",
       "        count   0.0000    0.0000 -167.8731  0.0000\n",
       "  Temperature   0.0000    0.0000    6.6478  0.0000\n",
       "    Dew Point   0.0000    0.0000  -12.0570  0.0000\n",
       "     Humidity   0.0000    0.0000   19.6858  0.0000\n",
       "   Wind Speed   0.0000    0.0000    3.8424  0.0001\n",
       "    Wind Gust   0.0000    0.0000    4.2182  0.0000\n",
       "     Pressure   0.0000    0.0000   -1.7406  0.0818\n",
       "Precipitation   0.0000    0.0000    0.5569  0.5776\n",
       "\n",
       "(Dispersion parameter for gamma family taken to be 3.4149)\n",
       "    Null deviance: 11735396.3049 on 30136538 degrees of freedom\n",
       "Residual deviance: 11545752.4081 on 30136538 degrees of freedom\n",
       "AIC: 458637904.5518"
      ]
     },
     "execution_count": 33,
     "metadata": {},
     "output_type": "execute_result"
    }
   ],
   "source": [
    "model.summary"
   ]
  },
  {
   "cell_type": "code",
   "execution_count": 35,
   "metadata": {},
   "outputs": [
    {
     "name": "stderr",
     "output_type": "stream",
     "text": [
      "[Stage 79:===================================================>      (8 + 1) / 9]\r"
     ]
    },
    {
     "name": "stdout",
     "output_type": "stream",
     "text": [
      "Coefficients:\n",
      "      Feature Estimate Std Error   T Value P Value\n",
      "  (Intercept)   6.8277    0.0192  355.6322  0.0000\n",
      "        month   0.0045    0.0001   38.3041  0.0000\n",
      "     time_bin  -0.0093    0.0001 -130.1202  0.0000\n",
      " PULocationID  -0.0002    0.0000  -35.6199  0.0000\n",
      " DOLocationID  -0.0002    0.0000  -53.4053  0.0000\n",
      "  day_of_week   0.0025    0.0002   14.1817  0.0000\n",
      "   peak_hours  -0.0073    0.0005  -15.3472  0.0000\n",
      "        count   0.0000    0.0000  162.7269  0.0000\n",
      "  Temperature  -0.0009    0.0002   -6.0341  0.0000\n",
      "    Dew Point   0.0019    0.0002   11.4238  0.0000\n",
      "     Humidity  -0.0016    0.0001  -19.2205  0.0000\n",
      "   Wind Speed  -0.0004    0.0001   -4.1146  0.0000\n",
      "    Wind Gust  -0.0002    0.0000   -4.0015  0.0001\n",
      "     Pressure   0.0010    0.0006    1.7375  0.0823\n",
      "Precipitation  -0.0003    0.0006   -0.5384  0.5903\n",
      "\n",
      "(Dispersion parameter for gaussian family taken to be 2970084.9911)\n",
      "    Null deviance: 89667181649503.7200 on 30136538 degrees of freedom\n",
      "Residual deviance: 89508079196683.1600 on 30136538 degrees of freedom\n",
      "AIC: 534682083.1473\n"
     ]
    },
    {
     "name": "stderr",
     "output_type": "stream",
     "text": [
      "                                                                                \r"
     ]
    }
   ],
   "source": [
    "glr_g = GeneralizedLinearRegression(family=\"gaussian\", link=\"log\", maxIter=10, regParam=0.3)\n",
    "\n",
    "model = glr_g.fit(va_df)\n",
    "summary = model.summary\n",
    "print(summary)"
   ]
  },
  {
   "cell_type": "code",
   "execution_count": 39,
   "metadata": {},
   "outputs": [
    {
     "name": "stderr",
     "output_type": "stream",
     "text": [
      "/home/jay/Classes/Apl-DS/virtual/lib/python3.9/site-packages/pyspark/sql/dataframe.py:3313: FutureWarning: DataFrame.to_pandas_on_spark is deprecated. Use DataFrame.pandas_api instead.\n",
      "  warnings.warn(\n",
      "[Stage 84:>                                                         (0 + 8) / 8]\r"
     ]
    },
    {
     "name": "stdout",
     "output_type": "stream",
     "text": [
      "22/08/21 01:23:21 WARN MemoryStore: Not enough space to cache rdd_359_6 in memory! (computed 44.4 MiB so far)\n",
      "22/08/21 01:23:21 WARN MemoryStore: Not enough space to cache rdd_359_2 in memory! (computed 44.4 MiB so far)\n",
      "22/08/21 01:23:21 WARN BlockManager: Persisting block rdd_359_6 to disk instead.\n",
      "22/08/21 01:23:21 WARN BlockManager: Persisting block rdd_359_2 to disk instead.\n",
      "22/08/21 01:23:21 WARN MemoryStore: Not enough space to cache rdd_359_7 in memory! (computed 67.3 MiB so far)\n",
      "22/08/21 01:23:21 WARN BlockManager: Persisting block rdd_359_7 to disk instead.\n",
      "22/08/21 01:23:21 WARN MemoryStore: Not enough space to cache rdd_359_3 in memory! (computed 44.4 MiB so far)\n",
      "22/08/21 01:23:21 WARN BlockManager: Persisting block rdd_359_3 to disk instead.\n",
      "22/08/21 01:23:21 WARN MemoryStore: Not enough space to cache rdd_359_0 in memory! (computed 29.6 MiB so far)\n",
      "22/08/21 01:23:21 WARN BlockManager: Persisting block rdd_359_0 to disk instead.\n",
      "22/08/21 01:23:21 WARN MemoryStore: Not enough space to cache rdd_359_1 in memory! (computed 67.3 MiB so far)\n",
      "22/08/21 01:23:21 WARN BlockManager: Persisting block rdd_359_1 to disk instead.\n",
      "22/08/21 01:23:21 WARN MemoryStore: Not enough space to cache rdd_359_5 in memory! (computed 67.3 MiB so far)\n",
      "22/08/21 01:23:21 WARN BlockManager: Persisting block rdd_359_5 to disk instead.\n",
      "22/08/21 01:23:22 WARN MemoryStore: Not enough space to cache rdd_359_4 in memory! (computed 67.3 MiB so far)\n",
      "22/08/21 01:23:22 WARN BlockManager: Persisting block rdd_359_4 to disk instead.\n",
      "22/08/21 01:23:25 WARN MemoryStore: Not enough space to cache rdd_359_7 in memory! (computed 237.8 MiB so far)\n"
     ]
    },
    {
     "name": "stderr",
     "output_type": "stream",
     "text": [
      "[Stage 84:=======>                                                  (1 + 7) / 8]\r"
     ]
    },
    {
     "name": "stdout",
     "output_type": "stream",
     "text": [
      "22/08/21 01:23:26 WARN MemoryStore: Not enough space to cache rdd_359_6 in memory! (computed 5.5 MiB so far)\n",
      "22/08/21 01:23:26 WARN MemoryStore: Not enough space to cache rdd_359_5 in memory! (computed 3.7 MiB so far)\n",
      "22/08/21 01:23:26 WARN MemoryStore: Not enough space to cache rdd_359_4 in memory! (computed 356.7 MiB so far)\n",
      "22/08/21 01:23:26 WARN MemoryStore: Not enough space to cache rdd_359_2 in memory! (computed 8.3 MiB so far)\n"
     ]
    },
    {
     "name": "stderr",
     "output_type": "stream",
     "text": [
      "[Stage 84:==============>                                           (2 + 6) / 8]\r"
     ]
    },
    {
     "name": "stdout",
     "output_type": "stream",
     "text": [
      "22/08/21 01:23:27 WARN MemoryStore: Not enough space to cache rdd_359_3 in memory! (computed 356.7 MiB so far)\n"
     ]
    },
    {
     "name": "stderr",
     "output_type": "stream",
     "text": [
      "[Stage 84:===========================================>              (6 + 2) / 8]\r"
     ]
    },
    {
     "name": "stdout",
     "output_type": "stream",
     "text": [
      "22/08/21 01:23:29 WARN MemoryStore: Not enough space to cache rdd_359_1 in memory! (computed 67.3 MiB so far)\n",
      "22/08/21 01:23:29 WARN MemoryStore: Not enough space to cache rdd_359_0 in memory! (computed 356.7 MiB so far)\n"
     ]
    },
    {
     "name": "stderr",
     "output_type": "stream",
     "text": [
      "                                                                                \r"
     ]
    },
    {
     "name": "stdout",
     "output_type": "stream",
     "text": [
      "22/08/21 01:23:32 WARN MemoryStore: Not enough space to cache rdd_359_0 in memory! (computed 158.5 MiB so far)\n"
     ]
    },
    {
     "data": {
      "text/html": [
       "<div>\n",
       "<style scoped>\n",
       "    .dataframe tbody tr th:only-of-type {\n",
       "        vertical-align: middle;\n",
       "    }\n",
       "\n",
       "    .dataframe tbody tr th {\n",
       "        vertical-align: top;\n",
       "    }\n",
       "\n",
       "    .dataframe thead th {\n",
       "        text-align: right;\n",
       "    }\n",
       "</style>\n",
       "<table border=\"1\" class=\"dataframe\">\n",
       "  <thead>\n",
       "    <tr style=\"text-align: right;\">\n",
       "      <th></th>\n",
       "      <th>month</th>\n",
       "      <th>time_bin</th>\n",
       "      <th>PULocationID</th>\n",
       "      <th>DOLocationID</th>\n",
       "      <th>day_of_week</th>\n",
       "      <th>label</th>\n",
       "      <th>peak_hours</th>\n",
       "      <th>count</th>\n",
       "      <th>Temperature</th>\n",
       "      <th>Dew Point</th>\n",
       "      <th>Humidity</th>\n",
       "      <th>Wind Speed</th>\n",
       "      <th>Wind Gust</th>\n",
       "      <th>Pressure</th>\n",
       "      <th>Precipitation</th>\n",
       "    </tr>\n",
       "  </thead>\n",
       "  <tbody>\n",
       "    <tr>\n",
       "      <th>0</th>\n",
       "      <td>8</td>\n",
       "      <td>5</td>\n",
       "      <td>143</td>\n",
       "      <td>100</td>\n",
       "      <td>4</td>\n",
       "      <td>795</td>\n",
       "      <td>0</td>\n",
       "      <td>4492</td>\n",
       "      <td>76.0</td>\n",
       "      <td>69.0</td>\n",
       "      <td>79.0</td>\n",
       "      <td>6.0</td>\n",
       "      <td>0.0</td>\n",
       "      <td>30.0</td>\n",
       "      <td>0.0</td>\n",
       "    </tr>\n",
       "    <tr>\n",
       "      <th>1</th>\n",
       "      <td>8</td>\n",
       "      <td>5</td>\n",
       "      <td>87</td>\n",
       "      <td>186</td>\n",
       "      <td>4</td>\n",
       "      <td>1282</td>\n",
       "      <td>0</td>\n",
       "      <td>4492</td>\n",
       "      <td>76.0</td>\n",
       "      <td>69.0</td>\n",
       "      <td>79.0</td>\n",
       "      <td>6.0</td>\n",
       "      <td>0.0</td>\n",
       "      <td>30.0</td>\n",
       "      <td>0.0</td>\n",
       "    </tr>\n",
       "    <tr>\n",
       "      <th>2</th>\n",
       "      <td>8</td>\n",
       "      <td>5</td>\n",
       "      <td>236</td>\n",
       "      <td>163</td>\n",
       "      <td>4</td>\n",
       "      <td>295</td>\n",
       "      <td>0</td>\n",
       "      <td>4492</td>\n",
       "      <td>76.0</td>\n",
       "      <td>69.0</td>\n",
       "      <td>79.0</td>\n",
       "      <td>6.0</td>\n",
       "      <td>0.0</td>\n",
       "      <td>30.0</td>\n",
       "      <td>0.0</td>\n",
       "    </tr>\n",
       "    <tr>\n",
       "      <th>3</th>\n",
       "      <td>8</td>\n",
       "      <td>5</td>\n",
       "      <td>90</td>\n",
       "      <td>164</td>\n",
       "      <td>4</td>\n",
       "      <td>317</td>\n",
       "      <td>0</td>\n",
       "      <td>4492</td>\n",
       "      <td>76.0</td>\n",
       "      <td>69.0</td>\n",
       "      <td>79.0</td>\n",
       "      <td>6.0</td>\n",
       "      <td>0.0</td>\n",
       "      <td>30.0</td>\n",
       "      <td>0.0</td>\n",
       "    </tr>\n",
       "    <tr>\n",
       "      <th>4</th>\n",
       "      <td>8</td>\n",
       "      <td>5</td>\n",
       "      <td>234</td>\n",
       "      <td>100</td>\n",
       "      <td>4</td>\n",
       "      <td>350</td>\n",
       "      <td>0</td>\n",
       "      <td>4492</td>\n",
       "      <td>76.0</td>\n",
       "      <td>69.0</td>\n",
       "      <td>79.0</td>\n",
       "      <td>6.0</td>\n",
       "      <td>0.0</td>\n",
       "      <td>30.0</td>\n",
       "      <td>0.0</td>\n",
       "    </tr>\n",
       "  </tbody>\n",
       "</table>\n",
       "</div>"
      ],
      "text/plain": [
       "   month  time_bin  PULocationID  DOLocationID  day_of_week  label  peak_hours  count  Temperature  Dew Point  Humidity  Wind Speed  Wind Gust  Pressure  Precipitation\n",
       "0      8         5           143           100            4    795           0   4492         76.0       69.0      79.0         6.0        0.0      30.0            0.0\n",
       "1      8         5            87           186            4   1282           0   4492         76.0       69.0      79.0         6.0        0.0      30.0            0.0\n",
       "2      8         5           236           163            4    295           0   4492         76.0       69.0      79.0         6.0        0.0      30.0            0.0\n",
       "3      8         5            90           164            4    317           0   4492         76.0       69.0      79.0         6.0        0.0      30.0            0.0\n",
       "4      8         5           234           100            4    350           0   4492         76.0       69.0      79.0         6.0        0.0      30.0            0.0"
      ]
     },
     "execution_count": 39,
     "metadata": {},
     "output_type": "execute_result"
    },
    {
     "name": "stdout",
     "output_type": "stream",
     "text": [
      "22/08/21 02:17:40 WARN HeartbeatReceiver: Removing executor driver with no recent heartbeats: 1816005 ms exceeds timeout 120000 ms\n",
      "22/08/21 02:17:40 WARN SparkContext: Killing executors is not supported by current scheduler.\n"
     ]
    }
   ],
   "source": [
    "x_tra_pd = X_tra.to_pandas_on_spark()\n",
    "x_tra_pd.head()"
   ]
  },
  {
   "cell_type": "code",
   "execution_count": null,
   "metadata": {},
   "outputs": [],
   "source": []
  }
 ],
 "metadata": {
  "kernelspec": {
   "display_name": "Python 3.9.13 ('virtual')",
   "language": "python",
   "name": "python3"
  },
  "language_info": {
   "codemirror_mode": {
    "name": "ipython",
    "version": 3
   },
   "file_extension": ".py",
   "mimetype": "text/x-python",
   "name": "python",
   "nbconvert_exporter": "python",
   "pygments_lexer": "ipython3",
   "version": "3.9.13"
  },
  "orig_nbformat": 4,
  "vscode": {
   "interpreter": {
    "hash": "064aedc1eb8b7d9f9e1500e028db0dd8866d569cb38718b1182d0602d551f688"
   }
  }
 },
 "nbformat": 4,
 "nbformat_minor": 2
}
