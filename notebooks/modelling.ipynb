{
 "cells": [
  {
   "cell_type": "code",
   "execution_count": 184,
   "metadata": {},
   "outputs": [],
   "source": [
    "import numpy as np\n",
    "import pandas as pd\n",
    "\n",
    "import seaborn as sns\n",
    "import matplotlib.pyplot as plt\n",
    "\n",
    "from pyspark.sql.functions import col, variance\n",
    "from pyspark.sql import SparkSession, DataFrame\n",
    "\n",
    "from pyspark.ml import Pipeline\n",
    "from pyspark.sql.types import FloatType\n",
    "from pyspark.mllib.evaluation import MulticlassMetrics\n",
    "from pyspark.ml.regression import GeneralizedLinearRegression, GBTRegressor\n",
    "from pyspark.ml.classification import MultilayerPerceptronClassifier\n",
    "from pyspark.ml.feature import StringIndexer, OneHotEncoder, VectorAssembler, StandardScaler\n",
    "from pyspark.ml.evaluation import MulticlassClassificationEvaluator, RegressionEvaluator"
   ]
  },
  {
   "cell_type": "code",
   "execution_count": 2,
   "metadata": {},
   "outputs": [
    {
     "name": "stdout",
     "output_type": "stream",
     "text": [
      "22/08/25 22:08:25 WARN Utils: Your hostname, J-L resolves to a loopback address: 127.0.1.1; using 172.28.49.50 instead (on interface eth0)\n",
      "22/08/25 22:08:25 WARN Utils: Set SPARK_LOCAL_IP if you need to bind to another address\n"
     ]
    },
    {
     "name": "stderr",
     "output_type": "stream",
     "text": [
      "Setting default log level to \"WARN\".\n",
      "To adjust logging level use sc.setLogLevel(newLevel). For SparkR, use setLogLevel(newLevel).\n"
     ]
    },
    {
     "name": "stdout",
     "output_type": "stream",
     "text": [
      "22/08/25 22:08:28 WARN NativeCodeLoader: Unable to load native-hadoop library for your platform... using builtin-java classes where applicable\n"
     ]
    },
    {
     "data": {
      "text/html": [
       "\n",
       "            <div>\n",
       "                <p><b>SparkSession - in-memory</b></p>\n",
       "                \n",
       "        <div>\n",
       "            <p><b>SparkContext</b></p>\n",
       "\n",
       "            <p><a href=\"http://172.28.49.50:4040\">Spark UI</a></p>\n",
       "\n",
       "            <dl>\n",
       "              <dt>Version</dt>\n",
       "                <dd><code>v3.3.0</code></dd>\n",
       "              <dt>Master</dt>\n",
       "                <dd><code>local[*]</code></dd>\n",
       "              <dt>AppName</dt>\n",
       "                <dd><code>Model</code></dd>\n",
       "            </dl>\n",
       "        </div>\n",
       "        \n",
       "            </div>\n",
       "        "
      ],
      "text/plain": [
       "<pyspark.sql.session.SparkSession at 0x7f6a65f5e790>"
      ]
     },
     "execution_count": 2,
     "metadata": {},
     "output_type": "execute_result"
    }
   ],
   "source": [
    "sp = (\n",
    "    SparkSession\n",
    "    .builder.appName(\"Model\")\n",
    "    .config(\"spark.sql.session.timeZone\", \"-04\")\n",
    "    #.config(\"spark.sql.repl.eagerEval.enabled\", True)\n",
    "    #.config(\"spark.sql.parquet.cacheMetadata\", \"true\")\n",
    "    .getOrCreate()\n",
    ")\n",
    "sp"
   ]
  },
  {
   "cell_type": "markdown",
   "metadata": {},
   "source": [
    "### Load data"
   ]
  },
  {
   "cell_type": "code",
   "execution_count": 3,
   "metadata": {},
   "outputs": [
    {
     "name": "stderr",
     "output_type": "stream",
     "text": [
      "                                                                                \r"
     ]
    },
    {
     "name": "stdout",
     "output_type": "stream",
     "text": [
      "+----+-----+--------+------------+------------+-----------+---------------+----------+---------------+------------------+-----------+---------+--------+----------+---------+--------+-------------+\n",
      "|year|month|time_bin|PULocationID|DOLocationID|day_of_week|trip_difference|peak_hours|weather_pattern|better_travel_type|Temperature|Dew Point|Humidity|Wind Speed|Wind Gust|Pressure|Precipitation|\n",
      "+----+-----+--------+------------+------------+-----------+---------------+----------+---------------+------------------+-----------+---------+--------+----------+---------+--------+-------------+\n",
      "|2020|    7|       0|         113|          68|          4|           -206|         0|              1|                 0|       70.0|     65.0|    84.0|       6.0|      0.0|    29.9|          0.0|\n",
      "|2020|    7|       0|         113|          68|          4|           -209|         0|              1|                 0|       70.0|     65.0|    84.0|       6.0|      0.0|    29.9|          0.0|\n",
      "|2020|    7|       1|          41|          74|          4|            437|         0|              1|                 1|       70.0|     65.0|    84.0|       5.0|      0.0|    29.9|          0.0|\n",
      "+----+-----+--------+------------+------------+-----------+---------------+----------+---------------+------------------+-----------+---------+--------+----------+---------+--------+-------------+\n",
      "only showing top 3 rows\n",
      "\n"
     ]
    }
   ],
   "source": [
    "data = sp.read.parquet(\"../data/processed/merged/\").drop(\"day\", \"count_taxis\", \"count_bikes\", \"trip_duration_taxis\", \"trip_duration_bikes\")\n",
    "# Retaining year for now to split train-test later\n",
    "data.show(3)"
   ]
  },
  {
   "cell_type": "markdown",
   "metadata": {},
   "source": [
    "### Feature Relevance"
   ]
  },
  {
   "cell_type": "code",
   "execution_count": 90,
   "metadata": {},
   "outputs": [],
   "source": [
    "import statsmodels.api as sm\n",
    "from statsmodels.formula.api import ols"
   ]
  },
  {
   "cell_type": "code",
   "execution_count": 93,
   "metadata": {},
   "outputs": [
    {
     "name": "stderr",
     "output_type": "stream",
     "text": [
      "                                                                                \r"
     ]
    }
   ],
   "source": [
    "data_copy = data.sample(0.05).toPandas().copy()"
   ]
  },
  {
   "cell_type": "code",
   "execution_count": 94,
   "metadata": {},
   "outputs": [
    {
     "data": {
      "text/plain": [
       "Index(['year', 'month', 'time_bin', 'PULocationID', 'DOLocationID',\n",
       "       'day_of_week', 'trip_difference', 'peak_hours', 'weather_pattern',\n",
       "       'better_travel_type', 'Temperature', 'Dew Point', 'Humidity',\n",
       "       'Wind Speed', 'Wind Gust', 'Pressure', 'Precipitation'],\n",
       "      dtype='object')"
      ]
     },
     "execution_count": 94,
     "metadata": {},
     "output_type": "execute_result"
    }
   ],
   "source": [
    "data_copy.columns"
   ]
  },
  {
   "cell_type": "code",
   "execution_count": 95,
   "metadata": {},
   "outputs": [],
   "source": [
    "data_copy.columns = ['year', 'month', 'time_bin', 'PULocationID', 'DOLocationID',\n",
    "       'day_of_week', 'trip_difference', 'peak_hours', 'weather_pattern',\n",
    "       'better_travel_type', 'Temperature', 'Dew_Point', 'Humidity',\n",
    "       'Wind_Speed', 'Wind_Gust', 'Pressure', 'Precipitation'\n",
    "]"
   ]
  },
  {
   "cell_type": "code",
   "execution_count": 96,
   "metadata": {},
   "outputs": [
    {
     "name": "stdout",
     "output_type": "stream",
     "text": [
      "                     sum_sq        df           F        PR(>F)\n",
      "Temperature    4.748266e+07       1.0  122.604773  1.716126e-28\n",
      "Dew_Point      2.293416e+06       1.0    5.921820  1.495488e-02\n",
      "Humidity       6.321189e+06       1.0   16.321916  5.345100e-05\n",
      "Wind_Speed     7.405897e+07       1.0  191.227361  1.750626e-43\n",
      "Wind_Gust      7.934770e+07       1.0  204.883369  1.837754e-46\n",
      "Pressure       2.572316e+06       1.0    6.641968  9.960697e-03\n",
      "Precipitation  1.824612e+05       1.0    0.471132  4.924670e-01\n",
      "Residual       1.772270e+11  457617.0         NaN           NaN\n"
     ]
    }
   ],
   "source": [
    "model1 = ols(\"trip_difference ~ Temperature + Dew_Point + Humidity + Wind_Speed + Wind_Gust + Pressure + Precipitation\", data=data_copy).fit()\n",
    "\n",
    "aov_table1 = sm.stats.anova_lm(model1, typ=2)\n",
    "print(aov_table1)"
   ]
  },
  {
   "cell_type": "markdown",
   "metadata": {},
   "source": [
    "### Classifier model\n",
    "\n",
    "Working with a classifier first so we will drop the regression data. (Also drop null value if any as a safety check)\n",
    "\n",
    "- Keep in mind, test data is still a part of the dataframe. We will ensure to use the same labels for all columns before we split and normalize the data"
   ]
  },
  {
   "cell_type": "code",
   "execution_count": 4,
   "metadata": {},
   "outputs": [
    {
     "name": "stdout",
     "output_type": "stream",
     "text": [
      "+----+-----+--------+------------+------------+-----------+----------+---------------+------------------+-----------+---------+--------+----------+---------+--------+-------------+\n",
      "|year|month|time_bin|PULocationID|DOLocationID|day_of_week|peak_hours|weather_pattern|better_travel_type|Temperature|Dew Point|Humidity|Wind Speed|Wind Gust|Pressure|Precipitation|\n",
      "+----+-----+--------+------------+------------+-----------+----------+---------------+------------------+-----------+---------+--------+----------+---------+--------+-------------+\n",
      "|2020|    7|       0|         113|          68|          4|         0|              1|                 0|       70.0|     65.0|    84.0|       6.0|      0.0|    29.9|          0.0|\n",
      "+----+-----+--------+------------+------------+-----------+----------+---------------+------------------+-----------+---------+--------+----------+---------+--------+-------------+\n",
      "only showing top 1 row\n",
      "\n"
     ]
    }
   ],
   "source": [
    "data_class = data.drop(\"trip_difference\").dropna()\n",
    "data_class.show(1)"
   ]
  },
  {
   "cell_type": "code",
   "execution_count": 5,
   "metadata": {},
   "outputs": [
    {
     "name": "stdout",
     "output_type": "stream",
     "text": [
      "root\n",
      " |-- year: integer (nullable = true)\n",
      " |-- month: integer (nullable = true)\n",
      " |-- time_bin: integer (nullable = true)\n",
      " |-- PULocationID: long (nullable = true)\n",
      " |-- DOLocationID: long (nullable = true)\n",
      " |-- day_of_week: integer (nullable = true)\n",
      " |-- peak_hours: integer (nullable = true)\n",
      " |-- weather_pattern: integer (nullable = true)\n",
      " |-- better_travel_type: integer (nullable = true)\n",
      " |-- Temperature: double (nullable = true)\n",
      " |-- Dew Point: double (nullable = true)\n",
      " |-- Humidity: double (nullable = true)\n",
      " |-- Wind Speed: double (nullable = true)\n",
      " |-- Wind Gust: double (nullable = true)\n",
      " |-- Pressure: double (nullable = true)\n",
      " |-- Precipitation: double (nullable = true)\n",
      "\n"
     ]
    }
   ],
   "source": [
    "data_class.printSchema()"
   ]
  },
  {
   "cell_type": "code",
   "execution_count": 6,
   "metadata": {},
   "outputs": [
    {
     "name": "stderr",
     "output_type": "stream",
     "text": [
      "[Stage 3:====================================================>      (8 + 1) / 9]\r"
     ]
    },
    {
     "name": "stdout",
     "output_type": "stream",
     "text": [
      "+------------------+-------+\n",
      "|better_travel_type|  count|\n",
      "+------------------+-------+\n",
      "|                 1|4147790|\n",
      "|                 0|5000914|\n",
      "+------------------+-------+\n",
      "\n"
     ]
    },
    {
     "name": "stderr",
     "output_type": "stream",
     "text": [
      "                                                                                \r"
     ]
    }
   ],
   "source": [
    "data_class.groupBy(\"better_travel_type\").count().show()"
   ]
  },
  {
   "cell_type": "code",
   "execution_count": 7,
   "metadata": {},
   "outputs": [],
   "source": [
    "def preprocessing_pipe(data: DataFrame, outcome: str):\n",
    "    \"\"\"\n",
    "    Function to act as a pipeline to process and feed the model in vectorized format\n",
    "    \"\"\"\n",
    "    # List of categorical columns\n",
    "    categories = [\"month\", \"time_bin\", \"PULocationID\", \"DOLocationID\", \"day_of_week\", \"weather_pattern\"]\n",
    "\n",
    "    # Pipeline\n",
    "    indexers = [StringIndexer(inputCol=c, outputCol=c+\"_index\") for c in categories]\n",
    "    encoders = [OneHotEncoder(inputCol=c+\"_index\", outputCol=c+\"_encoded\") for c in categories]\n",
    "    transformed = Pipeline(stages=indexers + encoders).fit(data).transform(data)\n",
    "\n",
    "    # Drop columns\n",
    "    for c in categories:\n",
    "        if c == \"month\":\n",
    "            transformed = transformed.drop(c+\"_index\")\n",
    "        else:\n",
    "            transformed = transformed.drop(c).drop(c+\"_index\")\n",
    "    return transformed\n",
    "\n",
    "    assembled = VectorAssembler(\n",
    "        inputCols= [c for c in transformed.drop(\"year\", outcome).columns if not (c in categories) and not (\"_index\" in c)],\n",
    "        outputCol=\"features\"\n",
    "    ).transform(transformed)\n",
    "    \n",
    "    return assembled.withColumnRenamed(outcome, \"label\")"
   ]
  },
  {
   "cell_type": "code",
   "execution_count": 8,
   "metadata": {},
   "outputs": [
    {
     "name": "stderr",
     "output_type": "stream",
     "text": [
      "                                                                                \r"
     ]
    },
    {
     "name": "stdout",
     "output_type": "stream",
     "text": [
      "+----+-----+----------+------------------+-----------+---------+--------+----------+---------+--------+-------------+--------------+----------------+--------------------+--------------------+-------------------+-----------------------+\n",
      "|year|month|peak_hours|better_travel_type|Temperature|Dew Point|Humidity|Wind Speed|Wind Gust|Pressure|Precipitation| month_encoded|time_bin_encoded|PULocationID_encoded|DOLocationID_encoded|day_of_week_encoded|weather_pattern_encoded|\n",
      "+----+-----+----------+------------------+-----------+---------+--------+----------+---------+--------+-------------+--------------+----------------+--------------------+--------------------+-------------------+-----------------------+\n",
      "|2020|    7|         0|                 0|       70.0|     65.0|    84.0|       6.0|      0.0|    29.9|          0.0|(11,[5],[1.0])| (23,[22],[1.0])|      (59,[6],[1.0])|      (59,[1],[1.0])|      (4,[2],[1.0])|          (2,[1],[1.0])|\n",
      "+----+-----+----------+------------------+-----------+---------+--------+----------+---------+--------+-------------+--------------+----------------+--------------------+--------------------+-------------------+-----------------------+\n",
      "only showing top 1 row\n",
      "\n"
     ]
    }
   ],
   "source": [
    "data_class_transformed = preprocessing_pipe(data_class.dropna(), \"better_travel_type\")\n",
    "data_class_transformed.show(1)"
   ]
  },
  {
   "cell_type": "markdown",
   "metadata": {},
   "source": [
    "#### Split train, validation and test sets\n",
    "\n",
    "Also drop year and month as we want to generalize for every year, and month has been from the assembler"
   ]
  },
  {
   "cell_type": "code",
   "execution_count": 9,
   "metadata": {},
   "outputs": [
    {
     "data": {
      "text/plain": [
       "[Row(peak_hours=0, better_travel_type=0, Temperature=70.0, Dew Point=65.0, Humidity=84.0, Wind Speed=6.0, Wind Gust=0.0, Pressure=29.9, Precipitation=0.0, month_encoded=SparseVector(11, {5: 1.0}), time_bin_encoded=SparseVector(23, {22: 1.0}), PULocationID_encoded=SparseVector(59, {6: 1.0}), DOLocationID_encoded=SparseVector(59, {1: 1.0}), day_of_week_encoded=SparseVector(4, {2: 1.0}), weather_pattern_encoded=SparseVector(2, {1: 1.0}))]"
      ]
     },
     "execution_count": 9,
     "metadata": {},
     "output_type": "execute_result"
    }
   ],
   "source": [
    "X_test_class = data_class_transformed.filter(col(\"year\") == 2022).drop(\"year\", \"month\")\n",
    "X_val_class = data_class_transformed.filter((col(\"year\") == 2021) & (col(\"month\") > 8)).drop(\"year\", \"month\")\n",
    "X_train_class = data_class_transformed.filter((col(\"year\") == 2020) | ((col(\"month\") < 9) & (col(\"year\") == 2021))).drop(\"year\", \"month\")\n",
    "\n",
    "X_train_class.head(1)"
   ]
  },
  {
   "cell_type": "markdown",
   "metadata": {},
   "source": [
    "Process numerical types seperately"
   ]
  },
  {
   "cell_type": "code",
   "execution_count": 10,
   "metadata": {},
   "outputs": [],
   "source": [
    "def process_numerical(data: DataFrame):\n",
    "    \"\"\"\n",
    "    Function to scale and process numerical columns\n",
    "    \"\"\"\n",
    "    # Scaler\n",
    "    columns = [\"Temperature\", \"Dew Point\", \"Humidity\", \"Wind Speed\", \"Wind Gust\", \"Pressure\", \"Precipitation\"]\n",
    "\n",
    "    va = VectorAssembler(inputCols=columns, outputCol=\"to_scale\")\n",
    "    sc = StandardScaler(inputCol=\"to_scale\", outputCol=\"scaled\")\n",
    "\n",
    "    va_data = va.transform(data)\n",
    "    data = sc.fit(va_data).transform(va_data)\n",
    "    # Drop other columns\n",
    "    for c in columns:\n",
    "        data = data.drop(c)\n",
    "    return data.drop(\"to_scale\")\n",
    "    "
   ]
  },
  {
   "cell_type": "code",
   "execution_count": 11,
   "metadata": {},
   "outputs": [
    {
     "name": "stderr",
     "output_type": "stream",
     "text": [
      "                                                                                \r"
     ]
    },
    {
     "name": "stdout",
     "output_type": "stream",
     "text": [
      "+----------+------------------+--------------+----------------+--------------------+--------------------+-------------------+-----------------------+--------------------+\n",
      "|peak_hours|better_travel_type| month_encoded|time_bin_encoded|PULocationID_encoded|DOLocationID_encoded|day_of_week_encoded|weather_pattern_encoded|              scaled|\n",
      "+----------+------------------+--------------+----------------+--------------------+--------------------+-------------------+-----------------------+--------------------+\n",
      "|         0|                 0|(11,[5],[1.0])| (23,[22],[1.0])|      (59,[6],[1.0])|      (59,[1],[1.0])|      (4,[2],[1.0])|          (2,[1],[1.0])|[4.42175607466915...|\n",
      "|         0|                 0|(11,[5],[1.0])| (23,[22],[1.0])|      (59,[6],[1.0])|      (59,[1],[1.0])|      (4,[2],[1.0])|          (2,[1],[1.0])|[4.42175607466915...|\n",
      "+----------+------------------+--------------+----------------+--------------------+--------------------+-------------------+-----------------------+--------------------+\n",
      "only showing top 2 rows\n",
      "\n"
     ]
    }
   ],
   "source": [
    "X_train_processed = process_numerical(X_train_class)\n",
    "X_val_processed = process_numerical(X_val_class)\n",
    "X_test_processed = process_numerical(X_test_class)\n",
    "\n",
    "# Print data\n",
    "X_train_processed.show(2)"
   ]
  },
  {
   "cell_type": "code",
   "execution_count": 12,
   "metadata": {},
   "outputs": [],
   "source": [
    "def vectorize(data: DataFrame, outcome: str):\n",
    "    \"\"\"\n",
    "    Function to vectorize all the processed data\n",
    "    \"\"\"\n",
    "    data = data.withColumnRenamed(outcome, \"label\")\n",
    "    return VectorAssembler(\n",
    "        inputCols= [c for c in data.drop(\"label\").columns],\n",
    "        outputCol=\"features\"\n",
    "    ).transform(data)"
   ]
  },
  {
   "cell_type": "code",
   "execution_count": 13,
   "metadata": {},
   "outputs": [
    {
     "data": {
      "text/plain": [
       "[Row(peak_hours=0, label=0, month_encoded=SparseVector(11, {5: 1.0}), time_bin_encoded=SparseVector(23, {22: 1.0}), PULocationID_encoded=SparseVector(59, {6: 1.0}), DOLocationID_encoded=SparseVector(59, {1: 1.0}), day_of_week_encoded=SparseVector(4, {2: 1.0}), weather_pattern_encoded=SparseVector(2, {1: 1.0}), scaled=DenseVector([4.4218, 3.823, 4.8157, 1.1629, 0.0, 152.4391, 0.0]), features=SparseVector(166, {6: 1.0, 34: 1.0, 41: 1.0, 95: 1.0, 155: 1.0, 158: 1.0, 159: 4.4218, 160: 3.823, 161: 4.8157, 162: 1.1629, 164: 152.4391}))]"
      ]
     },
     "execution_count": 13,
     "metadata": {},
     "output_type": "execute_result"
    }
   ],
   "source": [
    "X_train_vector = vectorize(X_train_processed, \"better_travel_type\")\n",
    "X_val_vector = vectorize(X_val_processed, \"better_travel_type\")\n",
    "X_test_vector = vectorize(X_test_processed, \"better_travel_type\")\n",
    "\n",
    "X_train_vector.head(1)"
   ]
  },
  {
   "cell_type": "markdown",
   "metadata": {},
   "source": [
    "##### Model Outcome"
   ]
  },
  {
   "cell_type": "code",
   "execution_count": 14,
   "metadata": {},
   "outputs": [],
   "source": [
    "inputCount = 166                # Seen from sparse vector column\n",
    "layers = [166, 100, 2]\n",
    "model = MultilayerPerceptronClassifier(\n",
    "    labelCol='label',\n",
    "    featuresCol='features',\n",
    "    maxIter=50,\n",
    "    layers=layers,\n",
    "    blockSize=128,\n",
    "    seed=669)"
   ]
  },
  {
   "cell_type": "code",
   "execution_count": null,
   "metadata": {},
   "outputs": [],
   "source": [
    "model_fit = model.fit(X_train_vector.select(\"features\", \"label\"))"
   ]
  },
  {
   "cell_type": "code",
   "execution_count": 16,
   "metadata": {},
   "outputs": [],
   "source": [
    "class_train_output = model_fit.transform(X_train_vector)\n",
    "class_val_output = model_fit.transform(X_val_vector)\n",
    "class_test_output = model_fit.transform(X_test_vector)"
   ]
  },
  {
   "cell_type": "code",
   "execution_count": 17,
   "metadata": {},
   "outputs": [
    {
     "name": "stderr",
     "output_type": "stream",
     "text": [
      "                                                                                \r"
     ]
    },
    {
     "name": "stdout",
     "output_type": "stream",
     "text": [
      "Train weightedPrecision = 0.5647574546662515\n"
     ]
    },
    {
     "name": "stderr",
     "output_type": "stream",
     "text": [
      "                                                                                \r"
     ]
    },
    {
     "name": "stdout",
     "output_type": "stream",
     "text": [
      "Train weightedRecall = 0.5215983188079127\n"
     ]
    },
    {
     "name": "stderr",
     "output_type": "stream",
     "text": [
      "[Stage 176:==================================================>      (8 + 1) / 9]\r"
     ]
    },
    {
     "name": "stdout",
     "output_type": "stream",
     "text": [
      "Train accuracy = 0.5215983188079127\n"
     ]
    },
    {
     "name": "stderr",
     "output_type": "stream",
     "text": [
      "                                                                                \r"
     ]
    }
   ],
   "source": [
    "metrics = ['weightedPrecision', 'weightedRecall', 'accuracy']\n",
    "for metric in metrics:\n",
    "    evaluator = MulticlassClassificationEvaluator(metricName=metric)\n",
    "    print('Train ' + metric + ' = ' + str(evaluator.evaluate(\n",
    "        class_val_output.select(\"prediction\", \"label\"))))"
   ]
  },
  {
   "cell_type": "code",
   "execution_count": 18,
   "metadata": {},
   "outputs": [
    {
     "name": "stderr",
     "output_type": "stream",
     "text": [
      "                                                                                \r"
     ]
    },
    {
     "name": "stdout",
     "output_type": "stream",
     "text": [
      "Train weightedPrecision = 0.5852663619243035\n"
     ]
    },
    {
     "name": "stderr",
     "output_type": "stream",
     "text": [
      "                                                                                \r"
     ]
    },
    {
     "name": "stdout",
     "output_type": "stream",
     "text": [
      "Train weightedRecall = 0.48994223532315834\n"
     ]
    },
    {
     "name": "stderr",
     "output_type": "stream",
     "text": [
      "[Stage 182:==================================================>      (8 + 1) / 9]\r"
     ]
    },
    {
     "name": "stdout",
     "output_type": "stream",
     "text": [
      "Train accuracy = 0.48994223532315834\n"
     ]
    },
    {
     "name": "stderr",
     "output_type": "stream",
     "text": [
      "                                                                                \r"
     ]
    }
   ],
   "source": [
    "for metric in metrics:\n",
    "    evaluator = MulticlassClassificationEvaluator(metricName=metric)\n",
    "    print('Train ' + metric + ' = ' + str(evaluator.evaluate(\n",
    "        class_test_output.select(\"prediction\", \"label\"))))"
   ]
  },
  {
   "cell_type": "code",
   "execution_count": 19,
   "metadata": {},
   "outputs": [
    {
     "name": "stderr",
     "output_type": "stream",
     "text": [
      "                                                                                \r"
     ]
    },
    {
     "name": "stdout",
     "output_type": "stream",
     "text": [
      "Train weightedPrecision = 0.5728204340357439\n"
     ]
    },
    {
     "name": "stderr",
     "output_type": "stream",
     "text": [
      "                                                                                \r"
     ]
    },
    {
     "name": "stdout",
     "output_type": "stream",
     "text": [
      "Train weightedRecall = 0.5890045696341949\n"
     ]
    },
    {
     "name": "stderr",
     "output_type": "stream",
     "text": [
      "[Stage 188:==================================================>      (8 + 1) / 9]\r"
     ]
    },
    {
     "name": "stdout",
     "output_type": "stream",
     "text": [
      "Train accuracy = 0.5890045696341949\n"
     ]
    },
    {
     "name": "stderr",
     "output_type": "stream",
     "text": [
      "                                                                                \r"
     ]
    }
   ],
   "source": [
    "for metric in metrics:\n",
    "    evaluator = MulticlassClassificationEvaluator(metricName=metric)\n",
    "    print('Train ' + metric + ' = ' + str(evaluator.evaluate(\n",
    "        class_train_output.select(\"prediction\", \"label\"))))"
   ]
  },
  {
   "cell_type": "code",
   "execution_count": 185,
   "metadata": {},
   "outputs": [
    {
     "name": "stderr",
     "output_type": "stream",
     "text": [
      "/home/jay/Classes/Apl-DS/virtual/lib/python3.9/site-packages/pyspark/sql/context.py:157: FutureWarning: Deprecated in 3.0.0. Use SparkSession.builder.getOrCreate() instead.\n",
      "  warnings.warn(\n",
      "[Stage 960:>                                                        (0 + 1) / 1]\r"
     ]
    },
    {
     "name": "stdout",
     "output_type": "stream",
     "text": [
      "[[674572.  17970.]\n",
      " [723832.  37975.]]\n"
     ]
    },
    {
     "name": "stderr",
     "output_type": "stream",
     "text": [
      "                                                                                \r"
     ]
    }
   ],
   "source": [
    "# Confusion matrix\n",
    "preds_and_labels = class_test_output.select(['prediction','label']).withColumn('label', col('label').cast(FloatType())).orderBy('prediction')\n",
    "#select only prediction and label columns\n",
    "preds_and_labels = preds_and_labels.select(['prediction','label'])\n",
    "\n",
    "metrics = MulticlassMetrics(preds_and_labels.rdd.map(tuple))\n",
    "print(metrics.confusionMatrix().toArray())\n"
   ]
  },
  {
   "cell_type": "code",
   "execution_count": 186,
   "metadata": {},
   "outputs": [
    {
     "data": {
      "text/plain": [
       "<AxesSubplot:>"
      ]
     },
     "execution_count": 186,
     "metadata": {},
     "output_type": "execute_result"
    },
    {
     "data": {
      "image/png": "[encoded data removed]",
      "text/plain": [
       "<Figure size 432x288 with 2 Axes>"
      ]
     },
     "metadata": {},
     "output_type": "display_data"
    }
   ],
   "source": [
    "sns.heatmap(metrics.confusionMatrix().toArray())"
   ]
  },
  {
   "cell_type": "markdown",
   "metadata": {},
   "source": [
    "### Regression model\n",
    "\n",
    "We will try a gradient boost regression model"
   ]
  },
  {
   "cell_type": "code",
   "execution_count": 121,
   "metadata": {},
   "outputs": [
    {
     "name": "stdout",
     "output_type": "stream",
     "text": [
      "+----+-----+--------+------------+------------+-----------+---------------+----------+---------------+-----------+---------+--------+----------+---------+--------+-------------+\n",
      "|year|month|time_bin|PULocationID|DOLocationID|day_of_week|trip_difference|peak_hours|weather_pattern|Temperature|Dew Point|Humidity|Wind Speed|Wind Gust|Pressure|Precipitation|\n",
      "+----+-----+--------+------------+------------+-----------+---------------+----------+---------------+-----------+---------+--------+----------+---------+--------+-------------+\n",
      "|2020|    7|       0|         113|          68|          4|           -206|         0|              1|       70.0|     65.0|    84.0|       6.0|      0.0|    29.9|          0.0|\n",
      "+----+-----+--------+------------+------------+-----------+---------------+----------+---------------+-----------+---------+--------+----------+---------+--------+-------------+\n",
      "only showing top 1 row\n",
      "\n"
     ]
    }
   ],
   "source": [
    "data_reg = data.drop(\"better_travel_type\").dropna()\n",
    "data_reg.show(1)"
   ]
  },
  {
   "cell_type": "code",
   "execution_count": 116,
   "metadata": {},
   "outputs": [
    {
     "name": "stderr",
     "output_type": "stream",
     "text": [
      "                                                                                \r"
     ]
    },
    {
     "data": {
      "text/plain": [
       "[Row(year=2020, month=7, trip_difference=-206, peak_hours=0, Temperature=70.0, Dew Point=65.0, Humidity=84.0, Wind Speed=6.0, Wind Gust=0.0, Pressure=29.9, Precipitation=0.0, month_encoded=SparseVector(11, {5: 1.0}), time_bin_encoded=SparseVector(23, {22: 1.0}), PULocationID_encoded=SparseVector(59, {6: 1.0}), DOLocationID_encoded=SparseVector(59, {1: 1.0}), day_of_week_encoded=SparseVector(4, {2: 1.0}), weather_pattern_encoded=SparseVector(2, {1: 1.0}))]"
      ]
     },
     "execution_count": 116,
     "metadata": {},
     "output_type": "execute_result"
    }
   ],
   "source": [
    "data_reg_processed = preprocessing_pipe(data_reg.dropna(), \"trip_difference\").dropna()\n",
    "data_reg_processed.head(1)"
   ]
  },
  {
   "cell_type": "code",
   "execution_count": 118,
   "metadata": {},
   "outputs": [
    {
     "name": "stdout",
     "output_type": "stream",
     "text": [
      "+----+-----+--------+------------+------------+-----------+---------------+----------+---------------+-----------+---------+--------+----------+---------+--------+-------------+\n",
      "|year|month|time_bin|PULocationID|DOLocationID|day_of_week|trip_difference|peak_hours|weather_pattern|Temperature|Dew Point|Humidity|Wind Speed|Wind Gust|Pressure|Precipitation|\n",
      "+----+-----+--------+------------+------------+-----------+---------------+----------+---------------+-----------+---------+--------+----------+---------+--------+-------------+\n",
      "|2020|    7|      16|         249|          79|          4|           -169|         1|              1|       83.0|     59.0|    44.0|       8.0|      0.0|    29.8|          0.0|\n",
      "|2020|    7|       9|          42|          41|          5|            539|         1|              1|       84.0|     70.0|    63.0|       6.0|      0.0|    30.0|          0.0|\n",
      "|2020|    7|       8|         246|         164|          3|           -248|         1|              1|       77.0|     60.0|    56.0|       7.0|      0.0|    29.9|          0.0|\n",
      "|2020|    7|       2|          48|          68|          6|            173|         0|              1|       72.0|     60.0|    66.0|       9.0|      0.0|    30.2|          0.0|\n",
      "|2020|    7|      15|         239|          68|          4|          -1056|         0|              1|       94.0|     70.0|    46.0|      14.0|     23.0|    29.9|          0.0|\n",
      "|2020|    8|      20|         148|           4|          5|           -194|         0|              1|       78.0|     54.0|    43.0|       5.0|      0.0|    30.1|          0.0|\n",
      "|2020|    8|      10|         170|          90|          6|            108|         1|              1|       80.0|     66.0|    62.0|      12.0|      0.0|    30.0|          0.0|\n",
      "|2020|    8|       8|         170|         161|          4|           -195|         1|              1|       71.0|     51.0|    49.0|      16.0|      0.0|    29.9|          0.0|\n",
      "|2020|    8|      13|          75|         236|          6|            181|         0|              2|       86.0|     62.0|    44.0|      10.0|      0.0|    29.8|          0.0|\n",
      "|2020|    9|       8|         107|         186|          6|            256|         1|              2|       73.0|     63.0|    71.0|      13.0|      0.0|    30.1|          0.0|\n",
      "|2020|    9|      18|         125|         246|          2|           -763|         1|              2|       73.0|     47.0|    39.0|      17.0|     25.0|    30.1|          0.0|\n",
      "|2020|    9|      14|         237|         263|          3|           -864|         0|              2|       65.0|     44.0|    47.0|       6.0|      0.0|    30.3|          0.0|\n",
      "|2020|    9|      12|         246|         100|          6|            286|         0|              2|       69.0|     54.0|    58.0|      15.0|      0.0|    29.9|          0.0|\n",
      "|2020|    9|      18|         107|         148|          3|           -499|         1|              2|       71.0|     37.0|    29.0|      15.0|      0.0|    29.9|          0.0|\n",
      "|2020|    9|      16|         170|         263|          3|           -933|         1|              2|       73.0|     68.0|    84.0|      10.0|      0.0|    29.8|          0.0|\n",
      "|2020|    9|       8|          75|         263|          4|            304|         1|              2|       63.0|     55.0|    75.0|      14.0|      0.0|    29.6|          0.0|\n",
      "|2020|   10|      11|          74|          41|          6|            436|         0|              2|       58.0|     48.0|    70.0|      12.0|      0.0|    30.0|          0.0|\n",
      "|2020|   10|      12|         107|         113|          2|             35|         0|              2|       67.0|     52.0|    59.0|       8.0|      0.0|    30.1|          0.0|\n",
      "|2020|   10|       7|         238|         142|          6|            145|         0|              2|       57.0|     39.0|    51.0|       3.0|      0.0|    30.2|          0.0|\n",
      "|2020|   10|      13|         164|         234|          4|             25|         0|              2|       68.0|     40.0|    36.0|      10.0|      0.0|    29.9|          0.0|\n",
      "+----+-----+--------+------------+------------+-----------+---------------+----------+---------------+-----------+---------+--------+----------+---------+--------+-------------+\n",
      "only showing top 20 rows\n",
      "\n"
     ]
    }
   ],
   "source": [
    "data_reg.sample(0.0001, seed=69).show()"
   ]
  },
  {
   "cell_type": "code",
   "execution_count": 120,
   "metadata": {},
   "outputs": [
    {
     "name": "stderr",
     "output_type": "stream",
     "text": [
      "[Stage 953:>                                                        (0 + 1) / 1]\r"
     ]
    },
    {
     "name": "stdout",
     "output_type": "stream",
     "text": [
      "+----+-----+---------------+----------+-----------+---------+--------+----------+---------+--------+-------------+--------------+----------------+--------------------+--------------------+-------------------+-----------------------+\n",
      "|year|month|trip_difference|peak_hours|Temperature|Dew Point|Humidity|Wind Speed|Wind Gust|Pressure|Precipitation| month_encoded|time_bin_encoded|PULocationID_encoded|DOLocationID_encoded|day_of_week_encoded|weather_pattern_encoded|\n",
      "+----+-----+---------------+----------+-----------+---------+--------+----------+---------+--------+-------------+--------------+----------------+--------------------+--------------------+-------------------+-----------------------+\n",
      "|2020|    7|           -169|         1|       83.0|     59.0|    44.0|       8.0|      0.0|    29.8|          0.0|(11,[5],[1.0])|  (23,[3],[1.0])|      (59,[4],[1.0])|      (59,[0],[1.0])|      (4,[2],[1.0])|          (2,[1],[1.0])|\n",
      "|2020|    7|            539|         1|       84.0|     70.0|    63.0|       6.0|      0.0|    30.0|          0.0|(11,[5],[1.0])|  (23,[8],[1.0])|     (59,[30],[1.0])|     (59,[14],[1.0])|      (4,[1],[1.0])|          (2,[1],[1.0])|\n",
      "|2020|    7|           -248|         1|       77.0|     60.0|    56.0|       7.0|      0.0|    29.9|          0.0|(11,[5],[1.0])|  (23,[6],[1.0])|      (59,[8],[1.0])|     (59,[29],[1.0])|      (4,[3],[1.0])|          (2,[1],[1.0])|\n",
      "|2020|    7|            173|         0|       72.0|     60.0|    66.0|       9.0|      0.0|    30.2|          0.0|(11,[5],[1.0])| (23,[21],[1.0])|      (59,[3],[1.0])|      (59,[1],[1.0])|      (4,[0],[1.0])|          (2,[1],[1.0])|\n",
      "|2020|    7|          -1056|         0|       94.0|     70.0|    46.0|      14.0|     23.0|    29.9|          0.0|(11,[5],[1.0])|  (23,[1],[1.0])|     (59,[19],[1.0])|      (59,[1],[1.0])|      (4,[2],[1.0])|          (2,[1],[1.0])|\n",
      "|2020|    8|           -194|         0|       78.0|     54.0|    43.0|       5.0|      0.0|    30.1|          0.0|(11,[3],[1.0])| (23,[14],[1.0])|     (59,[16],[1.0])|     (59,[46],[1.0])|      (4,[1],[1.0])|          (2,[1],[1.0])|\n",
      "|2020|    8|            108|         1|       80.0|     66.0|    62.0|      12.0|      0.0|    30.0|          0.0|(11,[3],[1.0])| (23,[12],[1.0])|      (59,[7],[1.0])|     (59,[15],[1.0])|      (4,[0],[1.0])|          (2,[1],[1.0])|\n",
      "|2020|    8|           -195|         1|       71.0|     51.0|    49.0|      16.0|      0.0|    29.9|          0.0|(11,[3],[1.0])|  (23,[6],[1.0])|      (59,[7],[1.0])|     (59,[22],[1.0])|      (4,[2],[1.0])|          (2,[1],[1.0])|\n",
      "|2020|    8|            181|         0|       86.0|     62.0|    44.0|      10.0|      0.0|    29.8|          0.0|(11,[3],[1.0])|  (23,[5],[1.0])|     (59,[14],[1.0])|     (59,[17],[1.0])|      (4,[0],[1.0])|          (2,[0],[1.0])|\n",
      "|2020|    9|            256|         1|       73.0|     63.0|    71.0|      13.0|      0.0|    30.1|          0.0|(11,[1],[1.0])|  (23,[6],[1.0])|     (59,[17],[1.0])|     (59,[11],[1.0])|      (4,[0],[1.0])|          (2,[0],[1.0])|\n",
      "|2020|    9|           -763|         1|       73.0|     47.0|    39.0|      17.0|     25.0|    30.1|          0.0|(11,[1],[1.0])|  (23,[4],[1.0])|     (59,[46],[1.0])|      (59,[7],[1.0])|          (4,[],[])|          (2,[0],[1.0])|\n",
      "|2020|    9|           -864|         0|       65.0|     44.0|    47.0|       6.0|      0.0|    30.3|          0.0|(11,[1],[1.0])|  (23,[2],[1.0])|     (59,[21],[1.0])|     (59,[16],[1.0])|      (4,[3],[1.0])|          (2,[0],[1.0])|\n",
      "|2020|    9|            286|         0|       69.0|     54.0|    58.0|      15.0|      0.0|    29.9|          0.0|(11,[1],[1.0])|  (23,[7],[1.0])|      (59,[8],[1.0])|     (59,[33],[1.0])|      (4,[0],[1.0])|          (2,[0],[1.0])|\n",
      "|2020|    9|           -499|         1|       71.0|     37.0|    29.0|      15.0|      0.0|    29.9|          0.0|(11,[1],[1.0])|  (23,[4],[1.0])|     (59,[17],[1.0])|     (59,[10],[1.0])|      (4,[3],[1.0])|          (2,[0],[1.0])|\n",
      "|2020|    9|           -933|         1|       73.0|     68.0|    84.0|      10.0|      0.0|    29.8|          0.0|(11,[1],[1.0])|  (23,[3],[1.0])|      (59,[7],[1.0])|     (59,[16],[1.0])|      (4,[3],[1.0])|          (2,[0],[1.0])|\n",
      "|2020|    9|            304|         1|       63.0|     55.0|    75.0|      14.0|      0.0|    29.6|          0.0|(11,[1],[1.0])|  (23,[6],[1.0])|     (59,[14],[1.0])|     (59,[16],[1.0])|      (4,[2],[1.0])|          (2,[0],[1.0])|\n",
      "|2020|   10|            436|         0|       58.0|     48.0|    70.0|      12.0|      0.0|    30.0|          0.0|(11,[0],[1.0])| (23,[10],[1.0])|     (59,[11],[1.0])|     (59,[14],[1.0])|      (4,[0],[1.0])|          (2,[0],[1.0])|\n",
      "|2020|   10|             35|         0|       67.0|     52.0|    59.0|       8.0|      0.0|    30.1|          0.0|(11,[0],[1.0])|  (23,[7],[1.0])|     (59,[17],[1.0])|      (59,[8],[1.0])|          (4,[],[])|          (2,[0],[1.0])|\n",
      "|2020|   10|            145|         0|       57.0|     39.0|    51.0|       3.0|      0.0|    30.2|          0.0|(11,[0],[1.0])| (23,[11],[1.0])|     (59,[24],[1.0])|     (59,[21],[1.0])|      (4,[0],[1.0])|          (2,[0],[1.0])|\n",
      "|2020|   10|             25|         0|       68.0|     40.0|    36.0|      10.0|      0.0|    29.9|          0.0|(11,[0],[1.0])|  (23,[5],[1.0])|     (59,[29],[1.0])|      (59,[4],[1.0])|      (4,[2],[1.0])|          (2,[0],[1.0])|\n",
      "+----+-----+---------------+----------+-----------+---------+--------+----------+---------+--------+-------------+--------------+----------------+--------------------+--------------------+-------------------+-----------------------+\n",
      "only showing top 20 rows\n",
      "\n"
     ]
    },
    {
     "name": "stderr",
     "output_type": "stream",
     "text": [
      "                                                                                \r"
     ]
    }
   ],
   "source": [
    "data_reg_processed.sample(0.0001, seed=69).show()"
   ]
  },
  {
   "cell_type": "code",
   "execution_count": 61,
   "metadata": {},
   "outputs": [
    {
     "data": {
      "text/plain": [
       "[Row(trip_difference=-206, peak_hours=0, Temperature=70.0, Dew Point=65.0, Humidity=84.0, Wind Speed=6.0, Wind Gust=0.0, Pressure=29.9, Precipitation=0.0, month_encoded=SparseVector(11, {5: 1.0}), time_bin_encoded=SparseVector(23, {22: 1.0}), PULocationID_encoded=SparseVector(59, {6: 1.0}), DOLocationID_encoded=SparseVector(59, {1: 1.0}), day_of_week_encoded=SparseVector(4, {2: 1.0}), weather_pattern_encoded=SparseVector(2, {1: 1.0}))]"
      ]
     },
     "execution_count": 61,
     "metadata": {},
     "output_type": "execute_result"
    }
   ],
   "source": [
    "X_test_reg = data_reg_processed.filter(col(\"year\") == 2022).drop(\"year\", \"month\").dropna()\n",
    "X_val_reg = data_reg_processed.filter((col(\"year\") == 2021) & (col(\"month\") > 8)).drop(\"year\", \"month\").dropna()\n",
    "X_train_reg = data_reg_processed.filter((col(\"year\") == 2020) | ((col(\"month\") < 9) & (col(\"year\") == 2021))).drop(\"year\", \"month\").dropna()\n",
    "\n",
    "X_train_reg.head(1)"
   ]
  },
  {
   "cell_type": "code",
   "execution_count": 62,
   "metadata": {},
   "outputs": [
    {
     "name": "stderr",
     "output_type": "stream",
     "text": [
      "                                                                                \r"
     ]
    },
    {
     "data": {
      "text/plain": [
       "[Row(trip_difference=-206, peak_hours=0, month_encoded=SparseVector(11, {5: 1.0}), time_bin_encoded=SparseVector(23, {22: 1.0}), PULocationID_encoded=SparseVector(59, {6: 1.0}), DOLocationID_encoded=SparseVector(59, {1: 1.0}), day_of_week_encoded=SparseVector(4, {2: 1.0}), weather_pattern_encoded=SparseVector(2, {1: 1.0}), scaled=DenseVector([4.4218, 3.823, 4.8157, 1.1629, 0.0, 152.4391, 0.0]))]"
      ]
     },
     "execution_count": 62,
     "metadata": {},
     "output_type": "execute_result"
    }
   ],
   "source": [
    "X_train_reg_processed = process_numerical(X_train_reg).dropna()\n",
    "X_val_reg_processed = process_numerical(X_val_reg).dropna()\n",
    "X_test_reg_processed = process_numerical(X_test_reg).dropna()\n",
    "\n",
    "# Print data\n",
    "X_train_reg_processed.head(1)"
   ]
  },
  {
   "cell_type": "code",
   "execution_count": 63,
   "metadata": {},
   "outputs": [
    {
     "data": {
      "text/plain": [
       "[Row(label=-206, peak_hours=0, month_encoded=SparseVector(11, {5: 1.0}), time_bin_encoded=SparseVector(23, {22: 1.0}), PULocationID_encoded=SparseVector(59, {6: 1.0}), DOLocationID_encoded=SparseVector(59, {1: 1.0}), day_of_week_encoded=SparseVector(4, {2: 1.0}), weather_pattern_encoded=SparseVector(2, {1: 1.0}), scaled=DenseVector([4.4218, 3.823, 4.8157, 1.1629, 0.0, 152.4391, 0.0]), features=SparseVector(166, {6: 1.0, 34: 1.0, 41: 1.0, 95: 1.0, 155: 1.0, 158: 1.0, 159: 4.4218, 160: 3.823, 161: 4.8157, 162: 1.1629, 164: 152.4391}))]"
      ]
     },
     "execution_count": 63,
     "metadata": {},
     "output_type": "execute_result"
    }
   ],
   "source": [
    "X_train_reg_vector = vectorize(X_train_reg_processed, \"trip_difference\").dropna()\n",
    "X_val_reg_vector = vectorize(X_val_reg_processed, \"trip_difference\").dropna()\n",
    "X_test_reg_vector = vectorize(X_test_reg_processed, \"trip_difference\").dropna()\n",
    "\n",
    "X_train_reg_vector.head(1)"
   ]
  },
  {
   "cell_type": "code",
   "execution_count": 64,
   "metadata": {},
   "outputs": [],
   "source": [
    "# Scaling the dependent variable\n",
    "X_train_reg_vector = X_train_reg_vector.withColumn(\"scaled_trip_difference\", col(\"label\") ** 3)"
   ]
  },
  {
   "cell_type": "code",
   "execution_count": 65,
   "metadata": {},
   "outputs": [
    {
     "data": {
      "text/plain": [
       "Row(label=-206, peak_hours=0, month_encoded=SparseVector(11, {5: 1.0}), time_bin_encoded=SparseVector(23, {22: 1.0}), PULocationID_encoded=SparseVector(59, {6: 1.0}), DOLocationID_encoded=SparseVector(59, {1: 1.0}), day_of_week_encoded=SparseVector(4, {2: 1.0}), weather_pattern_encoded=SparseVector(2, {1: 1.0}), scaled=DenseVector([4.4218, 3.823, 4.8157, 1.1629, 0.0, 152.4391, 0.0]), features=SparseVector(166, {6: 1.0, 34: 1.0, 41: 1.0, 95: 1.0, 155: 1.0, 158: 1.0, 159: 4.4218, 160: 3.823, 161: 4.8157, 162: 1.1629, 164: 152.4391}), scaled_trip_difference=-8741816.0)"
      ]
     },
     "execution_count": 65,
     "metadata": {},
     "output_type": "execute_result"
    }
   ],
   "source": [
    "X_train_reg_vector.head()"
   ]
  },
  {
   "cell_type": "code",
   "execution_count": null,
   "metadata": {},
   "outputs": [],
   "source": [
    "gbtr = GBTRegressor(maxIter=20, maxDepth=8).fit(X_train_reg_vector.select(\"features\", \"label\"))"
   ]
  },
  {
   "cell_type": "code",
   "execution_count": 85,
   "metadata": {},
   "outputs": [
    {
     "name": "stderr",
     "output_type": "stream",
     "text": [
      "[Stage 820:>                                                        (0 + 1) / 1]\r"
     ]
    },
    {
     "name": "stdout",
     "output_type": "stream",
     "text": [
      "+--------------------+-----+-------------------+\n",
      "|            features|label|         prediction|\n",
      "+--------------------+-----+-------------------+\n",
      "|(166,[2,50,96,155...|  -12|-262.28636081509063|\n",
      "|(166,[2,50,96,155...| -217|-262.28636081509063|\n",
      "+--------------------+-----+-------------------+\n",
      "only showing top 2 rows\n",
      "\n"
     ]
    },
    {
     "name": "stderr",
     "output_type": "stream",
     "text": [
      "                                                                                \r"
     ]
    }
   ],
   "source": [
    "gbtr_val_data = gbtr.transform(X_val_reg_vector.select(\"features\", \"label\"))\n",
    "gbtr_val_data.show(2)"
   ]
  },
  {
   "cell_type": "code",
   "execution_count": 86,
   "metadata": {},
   "outputs": [
    {
     "name": "stderr",
     "output_type": "stream",
     "text": [
      "                                                                                \r"
     ]
    },
    {
     "data": {
      "text/plain": [
       "607.6708953587029"
      ]
     },
     "execution_count": 86,
     "metadata": {},
     "output_type": "execute_result"
    }
   ],
   "source": [
    "rmse=RegressionEvaluator(labelCol=\"label\", predictionCol=\"prediction\", metricName=\"rmse\")\n",
    "rmse=rmse.evaluate(gbtr_val_data)\n",
    "rmse"
   ]
  },
  {
   "cell_type": "code",
   "execution_count": 87,
   "metadata": {},
   "outputs": [
    {
     "name": "stderr",
     "output_type": "stream",
     "text": [
      "[Stage 823:>                                                        (0 + 1) / 1]\r"
     ]
    },
    {
     "name": "stdout",
     "output_type": "stream",
     "text": [
      "+--------------------+-----+------------------+\n",
      "|            features|label|        prediction|\n",
      "+--------------------+-----+------------------+\n",
      "|(166,[11,34,60,11...|  136|-150.4190004661302|\n",
      "|(166,[11,34,60,11...|  -78|-150.4190004661302|\n",
      "+--------------------+-----+------------------+\n",
      "only showing top 2 rows\n",
      "\n"
     ]
    },
    {
     "name": "stderr",
     "output_type": "stream",
     "text": [
      "                                                                                \r"
     ]
    }
   ],
   "source": [
    "gbtr_test_data = gbtr.transform(X_test_reg_vector.select(\"features\", \"label\"))\n",
    "gbtr_test_data.show(2)"
   ]
  },
  {
   "cell_type": "code",
   "execution_count": 89,
   "metadata": {},
   "outputs": [
    {
     "name": "stderr",
     "output_type": "stream",
     "text": [
      "                                                                                \r"
     ]
    },
    {
     "data": {
      "text/plain": [
       "569.3407713357003"
      ]
     },
     "execution_count": 89,
     "metadata": {},
     "output_type": "execute_result"
    }
   ],
   "source": [
    "rmse=RegressionEvaluator(labelCol=\"label\", predictionCol=\"prediction\", metricName=\"rmse\")\n",
    "rmse=rmse.evaluate(gbtr_test_data)\n",
    "rmse"
   ]
  },
  {
   "cell_type": "code",
   "execution_count": 97,
   "metadata": {},
   "outputs": [
    {
     "name": "stderr",
     "output_type": "stream",
     "text": [
      "                                                                                \r"
     ]
    },
    {
     "data": {
      "text/plain": [
       "0.01619239306047837"
      ]
     },
     "execution_count": 97,
     "metadata": {},
     "output_type": "execute_result"
    }
   ],
   "source": [
    "r2=RegressionEvaluator(labelCol=\"label\", predictionCol=\"prediction\", metricName=\"r2\")\n",
    "r2=r2.evaluate(gbtr_test_data)\n",
    "r2"
   ]
  },
  {
   "cell_type": "code",
   "execution_count": 76,
   "metadata": {},
   "outputs": [
    {
     "name": "stderr",
     "output_type": "stream",
     "text": [
      "[Stage 485:==================================================>      (8 + 1) / 9]\r"
     ]
    },
    {
     "name": "stdout",
     "output_type": "stream",
     "text": [
      "+-----------------+\n",
      "|  var_samp(label)|\n",
      "+-----------------+\n",
      "|412039.8717451732|\n",
      "+-----------------+\n",
      "\n"
     ]
    },
    {
     "name": "stderr",
     "output_type": "stream",
     "text": [
      "                                                                                \r"
     ]
    }
   ],
   "source": [
    "X_train_reg_vector.select(variance(\"label\")).show()"
   ]
  },
  {
   "cell_type": "code",
   "execution_count": 77,
   "metadata": {},
   "outputs": [
    {
     "data": {
      "text/plain": [
       "641.9026405927927"
      ]
     },
     "execution_count": 77,
     "metadata": {},
     "output_type": "execute_result"
    }
   ],
   "source": [
    "412039 ** 0.5"
   ]
  },
  {
   "cell_type": "markdown",
   "metadata": {},
   "source": [
    "### Error Analysis Regression"
   ]
  },
  {
   "cell_type": "code",
   "execution_count": 105,
   "metadata": {},
   "outputs": [
    {
     "name": "stderr",
     "output_type": "stream",
     "text": [
      "[Stage 881:>                                                        (0 + 1) / 1]\r"
     ]
    },
    {
     "name": "stdout",
     "output_type": "stream",
     "text": [
      "+-----+-----+----------+---------------+----------------+--------------------+--------------------+-------------------+-----------------------+--------------------+--------------------+\n",
      "|month|label|peak_hours|  month_encoded|time_bin_encoded|PULocationID_encoded|DOLocationID_encoded|day_of_week_encoded|weather_pattern_encoded|              scaled|            features|\n",
      "+-----+-----+----------+---------------+----------------+--------------------+--------------------+-------------------+-----------------------+--------------------+--------------------+\n",
      "|    1|  136|         0|(11,[10],[1.0])| (23,[22],[1.0])|     (59,[25],[1.0])|     (59,[19],[1.0])|          (4,[],[])|              (2,[],[])|[2.14232952149909...|(167,[0,12,35,61,...|\n",
      "|    1|  -78|         0|(11,[10],[1.0])| (23,[22],[1.0])|     (59,[25],[1.0])|     (59,[19],[1.0])|          (4,[],[])|              (2,[],[])|[2.14232952149909...|(167,[0,12,35,61,...|\n",
      "|    1|  163|         0|(11,[10],[1.0])|      (23,[],[])|     (59,[19],[1.0])|     (59,[41],[1.0])|          (4,[],[])|              (2,[],[])|[3.34203405353859...|(167,[0,12,55,136...|\n",
      "|    1| -737|         0|(11,[10],[1.0])| (23,[20],[1.0])|     (59,[50],[1.0])|     (59,[26],[1.0])|          (4,[],[])|              (2,[],[])|[3.17064769181866...|(167,[0,12,33,86,...|\n",
      "|    1|  -66|         0|(11,[10],[1.0])| (23,[19],[1.0])|     (59,[14],[1.0])|     (59,[41],[1.0])|          (4,[],[])|              (2,[],[])|[2.99926133009873...|(167,[0,12,32,50,...|\n",
      "+-----+-----+----------+---------------+----------------+--------------------+--------------------+-------------------+-----------------------+--------------------+--------------------+\n",
      "only showing top 5 rows\n",
      "\n"
     ]
    },
    {
     "name": "stderr",
     "output_type": "stream",
     "text": [
      "                                                                                \r"
     ]
    }
   ],
   "source": [
    "gbtr_test_check = vectorize(process_numerical(preprocessing_pipe(data.drop(\"better_travel_type\"), \"trip_difference\").filter(col(\"year\") == 2022).drop(\"year\").dropna()), \"trip_difference\")\n",
    "gbtr_test_check.show(5)"
   ]
  },
  {
   "cell_type": "code",
   "execution_count": 106,
   "metadata": {},
   "outputs": [
    {
     "name": "stderr",
     "output_type": "stream",
     "text": [
      "[Stage 882:>                                                        (0 + 1) / 1]\r"
     ]
    },
    {
     "name": "stdout",
     "output_type": "stream",
     "text": [
      "+-----+-----+----------+---------------+----------------+--------------------+--------------------+-------------------+-----------------------+--------------------+--------------------+-------------------+\n",
      "|month|label|peak_hours|  month_encoded|time_bin_encoded|PULocationID_encoded|DOLocationID_encoded|day_of_week_encoded|weather_pattern_encoded|              scaled|            features|         prediction|\n",
      "+-----+-----+----------+---------------+----------------+--------------------+--------------------+-------------------+-----------------------+--------------------+--------------------+-------------------+\n",
      "|    1|  136|         0|(11,[10],[1.0])| (23,[22],[1.0])|     (59,[25],[1.0])|     (59,[19],[1.0])|          (4,[],[])|              (2,[],[])|[2.14232952149909...|(167,[0,12,35,61,...|-204.37093487945253|\n",
      "|    1|  -78|         0|(11,[10],[1.0])| (23,[22],[1.0])|     (59,[25],[1.0])|     (59,[19],[1.0])|          (4,[],[])|              (2,[],[])|[2.14232952149909...|(167,[0,12,35,61,...|-204.37093487945253|\n",
      "+-----+-----+----------+---------------+----------------+--------------------+--------------------+-------------------+-----------------------+--------------------+--------------------+-------------------+\n",
      "only showing top 2 rows\n",
      "\n"
     ]
    },
    {
     "name": "stderr",
     "output_type": "stream",
     "text": [
      "                                                                                \r"
     ]
    }
   ],
   "source": [
    "gbtr_test_data_check = gbtr.transform(gbtr_test_check)\n",
    "gbtr_test_data_check.show(2)"
   ]
  },
  {
   "cell_type": "code",
   "execution_count": 108,
   "metadata": {},
   "outputs": [
    {
     "name": "stderr",
     "output_type": "stream",
     "text": [
      "[Stage 886:==================================================>      (8 + 1) / 9]\r"
     ]
    },
    {
     "name": "stdout",
     "output_type": "stream",
     "text": [
      "+-----+-------------------+-------------------+-------------------+\n",
      "|month|day_of_week_encoded|    avg(prediction)|         avg(label)|\n",
      "+-----+-------------------+-------------------+-------------------+\n",
      "|    2|      (4,[0],[1.0])|-151.04865172352444| 16.939003474207308|\n",
      "|    1|          (4,[],[])|-176.28398100019933| -75.02613159122726|\n",
      "|    3|      (4,[1],[1.0])|-132.14154736253562| -4.358509343175713|\n",
      "|    3|      (4,[2],[1.0])| -128.2309345456129|-14.722505656833027|\n",
      "|    4|      (4,[3],[1.0])|-179.55599716564217|-45.496558373404284|\n",
      "|    1|      (4,[2],[1.0])|-175.35258685807452|-48.849989279843726|\n",
      "|    4|      (4,[1],[1.0])|-159.95875603964285| -16.72636821237349|\n",
      "|    2|      (4,[2],[1.0])|-164.88127610367494| -33.96961515581385|\n",
      "|    2|      (4,[1],[1.0])|-162.53452723744675|-12.528437449389733|\n",
      "|    4|      (4,[0],[1.0])| -146.0791664894322|-108.49346246973366|\n",
      "|    2|      (4,[3],[1.0])| -168.8742751864257| -5.243718807319882|\n",
      "|    3|      (4,[3],[1.0])|-136.18174458366602|-32.026268759554725|\n",
      "|    4|          (4,[],[])|-177.26648165743686| -91.90245281054307|\n",
      "|    3|      (4,[0],[1.0])| -112.8405832051648| -52.05353167375025|\n",
      "|    2|          (4,[],[])|-170.87721182092804| -51.27358048910984|\n",
      "|    3|          (4,[],[])|-137.74543642360544|  -88.2672340283235|\n",
      "|    1|      (4,[0],[1.0])| -164.6421195650854| -14.65044299597986|\n",
      "|    1|      (4,[3],[1.0])|-181.75200819324996| -54.54440185273918|\n",
      "|    4|      (4,[2],[1.0])|-168.67145544485967| -46.56594459346753|\n",
      "|    1|      (4,[1],[1.0])|-171.03362836421888| -39.50509614149287|\n",
      "+-----+-------------------+-------------------+-------------------+\n",
      "\n"
     ]
    },
    {
     "name": "stderr",
     "output_type": "stream",
     "text": [
      "                                                                                \r"
     ]
    }
   ],
   "source": [
    "# Group by day_of_week\n",
    "grouped_by_day = gbtr_test_data_check.groupBy(\"month\", \"day_of_week_encoded\").avg(\"prediction\", \"label\")\n",
    "grouped_by_day.show()"
   ]
  },
  {
   "cell_type": "code",
   "execution_count": 109,
   "metadata": {},
   "outputs": [
    {
     "name": "stderr",
     "output_type": "stream",
     "text": [
      "                                                                                \r"
     ]
    }
   ],
   "source": [
    "error_pd = grouped_by_day.toPandas()"
   ]
  },
  {
   "cell_type": "code",
   "execution_count": 139,
   "metadata": {},
   "outputs": [
    {
     "data": {
      "text/html": [
       "<div>\n",
       "<style scoped>\n",
       "    .dataframe tbody tr th:only-of-type {\n",
       "        vertical-align: middle;\n",
       "    }\n",
       "\n",
       "    .dataframe tbody tr th {\n",
       "        vertical-align: top;\n",
       "    }\n",
       "\n",
       "    .dataframe thead th {\n",
       "        text-align: right;\n",
       "    }\n",
       "</style>\n",
       "<table border=\"1\" class=\"dataframe\">\n",
       "  <thead>\n",
       "    <tr style=\"text-align: right;\">\n",
       "      <th></th>\n",
       "      <th>month</th>\n",
       "      <th>day_of_week_encoded</th>\n",
       "      <th>avg(prediction)</th>\n",
       "      <th>avg(label)</th>\n",
       "    </tr>\n",
       "  </thead>\n",
       "  <tbody>\n",
       "    <tr>\n",
       "      <th>0</th>\n",
       "      <td>2</td>\n",
       "      <td>(1.0, 0.0, 0.0, 0.0)</td>\n",
       "      <td>-151.048652</td>\n",
       "      <td>16.939003</td>\n",
       "    </tr>\n",
       "    <tr>\n",
       "      <th>1</th>\n",
       "      <td>1</td>\n",
       "      <td>(0.0, 0.0, 0.0, 0.0)</td>\n",
       "      <td>-176.283981</td>\n",
       "      <td>-75.026132</td>\n",
       "    </tr>\n",
       "    <tr>\n",
       "      <th>2</th>\n",
       "      <td>3</td>\n",
       "      <td>(0.0, 1.0, 0.0, 0.0)</td>\n",
       "      <td>-132.141547</td>\n",
       "      <td>-4.358509</td>\n",
       "    </tr>\n",
       "    <tr>\n",
       "      <th>3</th>\n",
       "      <td>3</td>\n",
       "      <td>(0.0, 0.0, 1.0, 0.0)</td>\n",
       "      <td>-128.230935</td>\n",
       "      <td>-14.722506</td>\n",
       "    </tr>\n",
       "    <tr>\n",
       "      <th>4</th>\n",
       "      <td>4</td>\n",
       "      <td>(0.0, 0.0, 0.0, 1.0)</td>\n",
       "      <td>-179.555997</td>\n",
       "      <td>-45.496558</td>\n",
       "    </tr>\n",
       "    <tr>\n",
       "      <th>5</th>\n",
       "      <td>1</td>\n",
       "      <td>(0.0, 0.0, 1.0, 0.0)</td>\n",
       "      <td>-175.352587</td>\n",
       "      <td>-48.849989</td>\n",
       "    </tr>\n",
       "    <tr>\n",
       "      <th>6</th>\n",
       "      <td>4</td>\n",
       "      <td>(0.0, 1.0, 0.0, 0.0)</td>\n",
       "      <td>-159.958756</td>\n",
       "      <td>-16.726368</td>\n",
       "    </tr>\n",
       "    <tr>\n",
       "      <th>7</th>\n",
       "      <td>2</td>\n",
       "      <td>(0.0, 0.0, 1.0, 0.0)</td>\n",
       "      <td>-164.881276</td>\n",
       "      <td>-33.969615</td>\n",
       "    </tr>\n",
       "    <tr>\n",
       "      <th>8</th>\n",
       "      <td>2</td>\n",
       "      <td>(0.0, 1.0, 0.0, 0.0)</td>\n",
       "      <td>-162.534527</td>\n",
       "      <td>-12.528437</td>\n",
       "    </tr>\n",
       "    <tr>\n",
       "      <th>9</th>\n",
       "      <td>4</td>\n",
       "      <td>(1.0, 0.0, 0.0, 0.0)</td>\n",
       "      <td>-146.079166</td>\n",
       "      <td>-108.493462</td>\n",
       "    </tr>\n",
       "    <tr>\n",
       "      <th>10</th>\n",
       "      <td>2</td>\n",
       "      <td>(0.0, 0.0, 0.0, 1.0)</td>\n",
       "      <td>-168.874275</td>\n",
       "      <td>-5.243719</td>\n",
       "    </tr>\n",
       "    <tr>\n",
       "      <th>11</th>\n",
       "      <td>3</td>\n",
       "      <td>(0.0, 0.0, 0.0, 1.0)</td>\n",
       "      <td>-136.181745</td>\n",
       "      <td>-32.026269</td>\n",
       "    </tr>\n",
       "    <tr>\n",
       "      <th>12</th>\n",
       "      <td>4</td>\n",
       "      <td>(0.0, 0.0, 0.0, 0.0)</td>\n",
       "      <td>-177.266482</td>\n",
       "      <td>-91.902453</td>\n",
       "    </tr>\n",
       "    <tr>\n",
       "      <th>13</th>\n",
       "      <td>3</td>\n",
       "      <td>(1.0, 0.0, 0.0, 0.0)</td>\n",
       "      <td>-112.840583</td>\n",
       "      <td>-52.053532</td>\n",
       "    </tr>\n",
       "    <tr>\n",
       "      <th>14</th>\n",
       "      <td>2</td>\n",
       "      <td>(0.0, 0.0, 0.0, 0.0)</td>\n",
       "      <td>-170.877212</td>\n",
       "      <td>-51.273580</td>\n",
       "    </tr>\n",
       "    <tr>\n",
       "      <th>15</th>\n",
       "      <td>3</td>\n",
       "      <td>(0.0, 0.0, 0.0, 0.0)</td>\n",
       "      <td>-137.745436</td>\n",
       "      <td>-88.267234</td>\n",
       "    </tr>\n",
       "    <tr>\n",
       "      <th>16</th>\n",
       "      <td>1</td>\n",
       "      <td>(1.0, 0.0, 0.0, 0.0)</td>\n",
       "      <td>-164.642120</td>\n",
       "      <td>-14.650443</td>\n",
       "    </tr>\n",
       "    <tr>\n",
       "      <th>17</th>\n",
       "      <td>1</td>\n",
       "      <td>(0.0, 0.0, 0.0, 1.0)</td>\n",
       "      <td>-181.752008</td>\n",
       "      <td>-54.544402</td>\n",
       "    </tr>\n",
       "    <tr>\n",
       "      <th>18</th>\n",
       "      <td>4</td>\n",
       "      <td>(0.0, 0.0, 1.0, 0.0)</td>\n",
       "      <td>-168.671455</td>\n",
       "      <td>-46.565945</td>\n",
       "    </tr>\n",
       "    <tr>\n",
       "      <th>19</th>\n",
       "      <td>1</td>\n",
       "      <td>(0.0, 1.0, 0.0, 0.0)</td>\n",
       "      <td>-171.033628</td>\n",
       "      <td>-39.505096</td>\n",
       "    </tr>\n",
       "  </tbody>\n",
       "</table>\n",
       "</div>"
      ],
      "text/plain": [
       "    month   day_of_week_encoded  avg(prediction)  avg(label)\n",
       "0       2  (1.0, 0.0, 0.0, 0.0)      -151.048652   16.939003\n",
       "1       1  (0.0, 0.0, 0.0, 0.0)      -176.283981  -75.026132\n",
       "2       3  (0.0, 1.0, 0.0, 0.0)      -132.141547   -4.358509\n",
       "3       3  (0.0, 0.0, 1.0, 0.0)      -128.230935  -14.722506\n",
       "4       4  (0.0, 0.0, 0.0, 1.0)      -179.555997  -45.496558\n",
       "5       1  (0.0, 0.0, 1.0, 0.0)      -175.352587  -48.849989\n",
       "6       4  (0.0, 1.0, 0.0, 0.0)      -159.958756  -16.726368\n",
       "7       2  (0.0, 0.0, 1.0, 0.0)      -164.881276  -33.969615\n",
       "8       2  (0.0, 1.0, 0.0, 0.0)      -162.534527  -12.528437\n",
       "9       4  (1.0, 0.0, 0.0, 0.0)      -146.079166 -108.493462\n",
       "10      2  (0.0, 0.0, 0.0, 1.0)      -168.874275   -5.243719\n",
       "11      3  (0.0, 0.0, 0.0, 1.0)      -136.181745  -32.026269\n",
       "12      4  (0.0, 0.0, 0.0, 0.0)      -177.266482  -91.902453\n",
       "13      3  (1.0, 0.0, 0.0, 0.0)      -112.840583  -52.053532\n",
       "14      2  (0.0, 0.0, 0.0, 0.0)      -170.877212  -51.273580\n",
       "15      3  (0.0, 0.0, 0.0, 0.0)      -137.745436  -88.267234\n",
       "16      1  (1.0, 0.0, 0.0, 0.0)      -164.642120  -14.650443\n",
       "17      1  (0.0, 0.0, 0.0, 1.0)      -181.752008  -54.544402\n",
       "18      4  (0.0, 0.0, 1.0, 0.0)      -168.671455  -46.565945\n",
       "19      1  (0.0, 1.0, 0.0, 0.0)      -171.033628  -39.505096"
      ]
     },
     "execution_count": 139,
     "metadata": {},
     "output_type": "execute_result"
    }
   ],
   "source": [
    "error_pd"
   ]
  },
  {
   "cell_type": "code",
   "execution_count": 132,
   "metadata": {},
   "outputs": [
    {
     "name": "stdout",
     "output_type": "stream",
     "text": [
      "[1. 0. 0. 0.]\n"
     ]
    }
   ],
   "source": [
    "for index, row in error_pd.iterrows():\n",
    "    print(row[\"day_of_week_encoded\"].toArray())\n",
    "    break\n",
    "\n",
    "#matrix = RowMatrix(error_pd.select(\"day_of_week_encoded\").rdd.map(lambda row: row.features))\n",
    "#matrix"
   ]
  },
  {
   "cell_type": "code",
   "execution_count": 141,
   "metadata": {},
   "outputs": [
    {
     "name": "stdout",
     "output_type": "stream",
     "text": [
      "True\n",
      "True\n",
      "True\n",
      "True\n"
     ]
    },
    {
     "data": {
      "text/html": [
       "<div>\n",
       "<style scoped>\n",
       "    .dataframe tbody tr th:only-of-type {\n",
       "        vertical-align: middle;\n",
       "    }\n",
       "\n",
       "    .dataframe tbody tr th {\n",
       "        vertical-align: top;\n",
       "    }\n",
       "\n",
       "    .dataframe thead th {\n",
       "        text-align: right;\n",
       "    }\n",
       "</style>\n",
       "<table border=\"1\" class=\"dataframe\">\n",
       "  <thead>\n",
       "    <tr style=\"text-align: right;\">\n",
       "      <th></th>\n",
       "      <th>month</th>\n",
       "      <th>day_of_week_encoded</th>\n",
       "      <th>avg(prediction)</th>\n",
       "      <th>avg(label)</th>\n",
       "      <th>days</th>\n",
       "    </tr>\n",
       "  </thead>\n",
       "  <tbody>\n",
       "    <tr>\n",
       "      <th>0</th>\n",
       "      <td>2</td>\n",
       "      <td>(1.0, 0.0, 0.0, 0.0)</td>\n",
       "      <td>-151.048652</td>\n",
       "      <td>16.939003</td>\n",
       "      <td>Friday</td>\n",
       "    </tr>\n",
       "    <tr>\n",
       "      <th>1</th>\n",
       "      <td>1</td>\n",
       "      <td>(0.0, 0.0, 0.0, 0.0)</td>\n",
       "      <td>-176.283981</td>\n",
       "      <td>-75.026132</td>\n",
       "      <td>Monday</td>\n",
       "    </tr>\n",
       "    <tr>\n",
       "      <th>2</th>\n",
       "      <td>3</td>\n",
       "      <td>(0.0, 1.0, 0.0, 0.0)</td>\n",
       "      <td>-132.141547</td>\n",
       "      <td>-4.358509</td>\n",
       "      <td>Thursday</td>\n",
       "    </tr>\n",
       "    <tr>\n",
       "      <th>3</th>\n",
       "      <td>3</td>\n",
       "      <td>(0.0, 0.0, 1.0, 0.0)</td>\n",
       "      <td>-128.230935</td>\n",
       "      <td>-14.722506</td>\n",
       "      <td>Wednesday</td>\n",
       "    </tr>\n",
       "    <tr>\n",
       "      <th>4</th>\n",
       "      <td>4</td>\n",
       "      <td>(0.0, 0.0, 0.0, 1.0)</td>\n",
       "      <td>-179.555997</td>\n",
       "      <td>-45.496558</td>\n",
       "      <td>Tuesday</td>\n",
       "    </tr>\n",
       "  </tbody>\n",
       "</table>\n",
       "</div>"
      ],
      "text/plain": [
       "   month   day_of_week_encoded  avg(prediction)  avg(label)       days\n",
       "0      2  (1.0, 0.0, 0.0, 0.0)      -151.048652   16.939003     Friday\n",
       "1      1  (0.0, 0.0, 0.0, 0.0)      -176.283981  -75.026132     Monday\n",
       "2      3  (0.0, 1.0, 0.0, 0.0)      -132.141547   -4.358509   Thursday\n",
       "3      3  (0.0, 0.0, 1.0, 0.0)      -128.230935  -14.722506  Wednesday\n",
       "4      4  (0.0, 0.0, 0.0, 1.0)      -179.555997  -45.496558    Tuesday"
      ]
     },
     "execution_count": 141,
     "metadata": {},
     "output_type": "execute_result"
    }
   ],
   "source": [
    "# 0 - 6 - Friday\n",
    "# 1 - 5 - Thursday\n",
    "# 2 - 4 - Wednesday\n",
    "# 3 - 3 - Tuesday\n",
    "# empty - Monday\n",
    "\n",
    "\"\"\"days = []\n",
    "    np.array([0.0, 0.0, 0.0, 0.0]) : \"Monday\",\n",
    "    np.array([1.0, 0.0, 0.0, 0.0]) : \"Friday\",\n",
    "    np.array([0.0, 1.0, 0.0, 0.0]) : \"Thursday\",\n",
    "    np.array([0.0, 0.0, 1.0, 0.0]) : \"Wednesday\",\n",
    "    np.array([0.0, 0.0, 0.0, 1.0]) :\"Tuesday\",\n",
    "    ]\"\"\"\n",
    "\n",
    "days_cols = []\n",
    "for index, row in error_pd.iterrows():\n",
    "    if (row[\"day_of_week_encoded\"].toArray() == np.array([0.0, 0.0, 0.0, 0.0])).all():\n",
    "        print(True)\n",
    "        days_cols.append(\"Monday\")\n",
    "    elif(row[\"day_of_week_encoded\"].toArray()  == np.array([1.0, 0.0, 0.0, 0.0])).all():\n",
    "        days_cols.append(\"Friday\")\n",
    "    elif (row[\"day_of_week_encoded\"].toArray()  == np.array([0.0, 1.0, 0.0, 0.0])).all():\n",
    "        days_cols.append(\"Thursday\")\n",
    "    elif (row[\"day_of_week_encoded\"].toArray()  == np.array([0.0, 0.0, 1.0, 0.0])).all():\n",
    "        days_cols.append(\"Wednesday\")\n",
    "    elif (row[\"day_of_week_encoded\"].toArray()  == np.array([0.0, 0.0, 0.0, 1.0])).all():\n",
    "        days_cols.append(\"Tuesday\")\n",
    "\n",
    "#print(da)\n",
    "\n",
    "error_pd[\"days\"] = days_cols\n",
    "error_pd.head()"
   ]
  },
  {
   "cell_type": "code",
   "execution_count": 142,
   "metadata": {},
   "outputs": [
    {
     "data": {
      "text/plain": [
       "month                  False\n",
       "day_of_week_encoded    False\n",
       "avg(prediction)        False\n",
       "avg(label)             False\n",
       "days                   False\n",
       "dtype: bool"
      ]
     },
     "execution_count": 142,
     "metadata": {},
     "output_type": "execute_result"
    }
   ],
   "source": [
    "error_pd.isnull().any()"
   ]
  },
  {
   "cell_type": "code",
   "execution_count": 149,
   "metadata": {},
   "outputs": [
    {
     "data": {
      "text/plain": [
       "<AxesSubplot:xlabel='days', ylabel='avg(prediction)'>"
      ]
     },
     "execution_count": 149,
     "metadata": {},
     "output_type": "execute_result"
    },
    {
     "data": {
      "image/png": "[encoded data removed]",
      "text/plain": [
       "<Figure size 432x288 with 1 Axes>"
      ]
     },
     "metadata": {},
     "output_type": "display_data"
    }
   ],
   "source": [
    "import seaborn as sns\n",
    "import matplotlib.pyplot as plt\n",
    "\n",
    "sns.set_palette(\"autumn\")\n",
    "sns.set_style(\"whitegrid\")\n",
    "\n",
    "sns.barplot(x=\"days\", y=\"avg(prediction)\", hue=\"month\", data=error_pd)"
   ]
  },
  {
   "cell_type": "code",
   "execution_count": 173,
   "metadata": {},
   "outputs": [
    {
     "data": {
      "text/html": [
       "<div>\n",
       "<style scoped>\n",
       "    .dataframe tbody tr th:only-of-type {\n",
       "        vertical-align: middle;\n",
       "    }\n",
       "\n",
       "    .dataframe tbody tr th {\n",
       "        vertical-align: top;\n",
       "    }\n",
       "\n",
       "    .dataframe thead th {\n",
       "        text-align: right;\n",
       "    }\n",
       "</style>\n",
       "<table border=\"1\" class=\"dataframe\">\n",
       "  <thead>\n",
       "    <tr style=\"text-align: right;\">\n",
       "      <th></th>\n",
       "      <th>month</th>\n",
       "      <th>encoded</th>\n",
       "      <th>avg</th>\n",
       "      <th>days</th>\n",
       "      <th>hue</th>\n",
       "    </tr>\n",
       "  </thead>\n",
       "  <tbody>\n",
       "    <tr>\n",
       "      <th>0</th>\n",
       "      <td>2</td>\n",
       "      <td>(1.0, 0.0, 0.0, 0.0)</td>\n",
       "      <td>-151.048652</td>\n",
       "      <td>Friday</td>\n",
       "      <td>Prediction</td>\n",
       "    </tr>\n",
       "    <tr>\n",
       "      <th>1</th>\n",
       "      <td>1</td>\n",
       "      <td>(0.0, 0.0, 0.0, 0.0)</td>\n",
       "      <td>-176.283981</td>\n",
       "      <td>Monday</td>\n",
       "      <td>Prediction</td>\n",
       "    </tr>\n",
       "    <tr>\n",
       "      <th>2</th>\n",
       "      <td>3</td>\n",
       "      <td>(0.0, 1.0, 0.0, 0.0)</td>\n",
       "      <td>-132.141547</td>\n",
       "      <td>Thursday</td>\n",
       "      <td>Prediction</td>\n",
       "    </tr>\n",
       "    <tr>\n",
       "      <th>3</th>\n",
       "      <td>3</td>\n",
       "      <td>(0.0, 0.0, 1.0, 0.0)</td>\n",
       "      <td>-128.230935</td>\n",
       "      <td>Wednesday</td>\n",
       "      <td>Prediction</td>\n",
       "    </tr>\n",
       "    <tr>\n",
       "      <th>4</th>\n",
       "      <td>4</td>\n",
       "      <td>(0.0, 0.0, 0.0, 1.0)</td>\n",
       "      <td>-179.555997</td>\n",
       "      <td>Tuesday</td>\n",
       "      <td>Prediction</td>\n",
       "    </tr>\n",
       "  </tbody>\n",
       "</table>\n",
       "</div>"
      ],
      "text/plain": [
       "   month               encoded         avg       days         hue\n",
       "0      2  (1.0, 0.0, 0.0, 0.0) -151.048652     Friday  Prediction\n",
       "1      1  (0.0, 0.0, 0.0, 0.0) -176.283981     Monday  Prediction\n",
       "2      3  (0.0, 1.0, 0.0, 0.0) -132.141547   Thursday  Prediction\n",
       "3      3  (0.0, 0.0, 1.0, 0.0) -128.230935  Wednesday  Prediction\n",
       "4      4  (0.0, 0.0, 0.0, 1.0) -179.555997    Tuesday  Prediction"
      ]
     },
     "execution_count": 173,
     "metadata": {},
     "output_type": "execute_result"
    }
   ],
   "source": [
    "prediction = error_pd.drop(\"avg(label)\", axis=1)\n",
    "prediction.columns = [\"month\",\t\"encoded\",\t\"avg\",\t\"days\"]\n",
    "prediction[\"hue\"] = \"Prediction\"\n",
    "label = error_pd.drop(\"avg(prediction)\", axis=1)\n",
    "label.columns = [\"month\",\t\"encoded\",\t\"avg\",\t\"days\"]\n",
    "label[\"hue\"] = \"Actual\"\n",
    "\n",
    "merged = pd.concat([prediction, label])\n",
    "merged.head()"
   ]
  },
  {
   "cell_type": "code",
   "execution_count": 174,
   "metadata": {},
   "outputs": [
    {
     "data": {
      "text/plain": [
       "<AxesSubplot:xlabel='days', ylabel='avg'>"
      ]
     },
     "execution_count": 174,
     "metadata": {},
     "output_type": "execute_result"
    },
    {
     "data": {
      "image/png": "[encoded data removed]",
      "text/plain": [
       "<Figure size 432x288 with 1 Axes>"
      ]
     },
     "metadata": {},
     "output_type": "display_data"
    }
   ],
   "source": [
    "sns.barplot(x=\"days\", y=\"avg\", hue=\"hue\", data=merged.drop(\"encoded\", axis=1)[merged[\"month\"] == 3])"
   ]
  },
  {
   "cell_type": "code",
   "execution_count": 175,
   "metadata": {},
   "outputs": [
    {
     "data": {
      "text/html": [
       "<div>\n",
       "<style scoped>\n",
       "    .dataframe tbody tr th:only-of-type {\n",
       "        vertical-align: middle;\n",
       "    }\n",
       "\n",
       "    .dataframe tbody tr th {\n",
       "        vertical-align: top;\n",
       "    }\n",
       "\n",
       "    .dataframe thead th {\n",
       "        text-align: right;\n",
       "    }\n",
       "</style>\n",
       "<table border=\"1\" class=\"dataframe\">\n",
       "  <thead>\n",
       "    <tr style=\"text-align: right;\">\n",
       "      <th></th>\n",
       "      <th>month</th>\n",
       "      <th>avg</th>\n",
       "      <th>days</th>\n",
       "      <th>hue</th>\n",
       "    </tr>\n",
       "  </thead>\n",
       "  <tbody>\n",
       "    <tr>\n",
       "      <th>2</th>\n",
       "      <td>3</td>\n",
       "      <td>-132.141547</td>\n",
       "      <td>Thursday</td>\n",
       "      <td>Prediction</td>\n",
       "    </tr>\n",
       "    <tr>\n",
       "      <th>3</th>\n",
       "      <td>3</td>\n",
       "      <td>-128.230935</td>\n",
       "      <td>Wednesday</td>\n",
       "      <td>Prediction</td>\n",
       "    </tr>\n",
       "    <tr>\n",
       "      <th>11</th>\n",
       "      <td>3</td>\n",
       "      <td>-136.181745</td>\n",
       "      <td>Tuesday</td>\n",
       "      <td>Prediction</td>\n",
       "    </tr>\n",
       "    <tr>\n",
       "      <th>13</th>\n",
       "      <td>3</td>\n",
       "      <td>-112.840583</td>\n",
       "      <td>Friday</td>\n",
       "      <td>Prediction</td>\n",
       "    </tr>\n",
       "    <tr>\n",
       "      <th>15</th>\n",
       "      <td>3</td>\n",
       "      <td>-137.745436</td>\n",
       "      <td>Monday</td>\n",
       "      <td>Prediction</td>\n",
       "    </tr>\n",
       "  </tbody>\n",
       "</table>\n",
       "</div>"
      ],
      "text/plain": [
       "    month         avg       days         hue\n",
       "2       3 -132.141547   Thursday  Prediction\n",
       "3       3 -128.230935  Wednesday  Prediction\n",
       "11      3 -136.181745    Tuesday  Prediction\n",
       "13      3 -112.840583     Friday  Prediction\n",
       "15      3 -137.745436     Monday  Prediction"
      ]
     },
     "execution_count": 175,
     "metadata": {},
     "output_type": "execute_result"
    }
   ],
   "source": [
    "merged_drop_3 = merged.drop(\"encoded\", axis=1)[merged[\"month\"] == 3]\n",
    "merged_drop_3.head()"
   ]
  },
  {
   "cell_type": "code",
   "execution_count": 176,
   "metadata": {},
   "outputs": [],
   "source": [
    "merged_drop_3[\"avg\"] = merged_drop_3[\"avg\"].abs()"
   ]
  },
  {
   "cell_type": "code",
   "execution_count": 183,
   "metadata": {},
   "outputs": [
    {
     "data": {
      "image/png": "[encoded data removed]",
      "text/plain": [
       "<Figure size 432x288 with 1 Axes>"
      ]
     },
     "metadata": {},
     "output_type": "display_data"
    }
   ],
   "source": [
    "ax = sns.barplot(x=\"days\", y=\"avg\", hue=\"hue\", data=merged_drop_3, palette=\"summer\")\n",
    "ax.legend_.set_title(None)\n",
    "\n",
    "ax.set_title(\"Prediction vs Label for Regression Model for March 2022\")\n",
    "ax.set_xlabel(\"Weekdays\")\n",
    "ax.set_ylabel(\"Avg predicted time (in seconds)\")\n",
    "\n",
    "plt.show()"
   ]
  },
  {
   "cell_type": "markdown",
   "metadata": {},
   "source": [
    "### Error Analysis Categorical"
   ]
  },
  {
   "cell_type": "code",
   "execution_count": null,
   "metadata": {},
   "outputs": [],
   "source": []
  }
 ],
 "metadata": {
  "kernelspec": {
   "display_name": "Python 3.9.13 ('virtual-p1')",
   "language": "python",
   "name": "python3"
  },
  "language_info": {
   "codemirror_mode": {
    "name": "ipython",
    "version": 3
   },
   "file_extension": ".py",
   "mimetype": "text/x-python",
   "name": "python",
   "nbconvert_exporter": "python",
   "pygments_lexer": "ipython3",
   "version": "3.9.13"
  },
  "orig_nbformat": 4,
  "vscode": {
   "interpreter": {
    "hash": "03b172b21e41f33772f132956fb0f074f0b770b5a752679d0ac2aa2be683c2e2"
   }
  }
 },
 "nbformat": 4,
 "nbformat_minor": 2
}
